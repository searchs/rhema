{
 "cells": [
  {
   "cell_type": "code",
   "execution_count": 282,
   "metadata": {
    "collapsed": true,
    "deletable": true,
    "editable": true
   },
   "outputs": [],
   "source": [
    "import pandas as pd\n",
    "import numpy as np\n",
    "import seaborn as sns\n",
    "import matplotlib.pyplot as plt\n"
   ]
  },
  {
   "cell_type": "code",
   "execution_count": 283,
   "metadata": {
    "collapsed": false,
    "deletable": true,
    "editable": true
   },
   "outputs": [],
   "source": [
    "# %matplotlib inline"
   ]
  },
  {
   "cell_type": "code",
   "execution_count": 284,
   "metadata": {
    "collapsed": false,
    "deletable": true,
    "editable": true
   },
   "outputs": [
    {
     "name": "stdout",
     "output_type": "stream",
     "text": [
      "Genesis 1:1\tIn the beginning God created the heaven and the earth.\r",
      "\r\n",
      "Genesis 1:2\tAnd the earth was without form, and void; and darkness was upon the face of the deep. And the Spirit of God moved upon the face of the waters.\r",
      "\r\n",
      "Genesis 1:3\tAnd God said, Let there be light: and there was light.\r",
      "\r\n"
     ]
    }
   ],
   "source": [
    "import sys\n",
    "import os\n",
    "!head -n 3 data.txt"
   ]
  },
  {
   "cell_type": "code",
   "execution_count": 285,
   "metadata": {
    "collapsed": true,
    "deletable": true,
    "editable": true
   },
   "outputs": [],
   "source": [
    "data_col=['book_bible','verse', 'extra']"
   ]
  },
  {
   "cell_type": "code",
   "execution_count": 286,
   "metadata": {
    "collapsed": false,
    "deletable": true,
    "editable": true
   },
   "outputs": [],
   "source": [
    "df_text = pd.read_fwf('data.txt', sep=\" \", colspecs='infer', names=data_col, widths=None, squeeze=True, header=None)\n",
    "# df_text = pd.read_fwf('data.txt',colspecs='infer')"
   ]
  },
  {
   "cell_type": "code",
   "execution_count": 287,
   "metadata": {
    "collapsed": false,
    "deletable": true,
    "editable": true
   },
   "outputs": [
    {
     "data": {
      "text/html": [
       "<div>\n",
       "<table border=\"1\" class=\"dataframe\">\n",
       "  <thead>\n",
       "    <tr style=\"text-align: right;\">\n",
       "      <th></th>\n",
       "      <th>book_bible</th>\n",
       "      <th>verse</th>\n",
       "      <th>extra</th>\n",
       "    </tr>\n",
       "  </thead>\n",
       "  <tbody>\n",
       "    <tr>\n",
       "      <th>count</th>\n",
       "      <td>31102</td>\n",
       "      <td>31102</td>\n",
       "      <td>1076</td>\n",
       "    </tr>\n",
       "    <tr>\n",
       "      <th>unique</th>\n",
       "      <td>311</td>\n",
       "      <td>31090</td>\n",
       "      <td>845</td>\n",
       "    </tr>\n",
       "    <tr>\n",
       "      <th>top</th>\n",
       "      <td>Psalms</td>\n",
       "      <td>Then Job answered and said,</td>\n",
       "      <td>.</td>\n",
       "    </tr>\n",
       "    <tr>\n",
       "      <th>freq</th>\n",
       "      <td>2461</td>\n",
       "      <td>4</td>\n",
       "      <td>29</td>\n",
       "    </tr>\n",
       "  </tbody>\n",
       "</table>\n",
       "</div>"
      ],
      "text/plain": [
       "       book_bible                        verse extra\n",
       "count       31102                        31102  1076\n",
       "unique        311                        31090   845\n",
       "top        Psalms  Then Job answered and said,     .\n",
       "freq         2461                            4    29"
      ]
     },
     "execution_count": 287,
     "metadata": {},
     "output_type": "execute_result"
    }
   ],
   "source": [
    "df_text.describe()"
   ]
  },
  {
   "cell_type": "code",
   "execution_count": 288,
   "metadata": {
    "collapsed": false,
    "deletable": true,
    "editable": true
   },
   "outputs": [
    {
     "data": {
      "text/html": [
       "<div>\n",
       "<table border=\"1\" class=\"dataframe\">\n",
       "  <thead>\n",
       "    <tr style=\"text-align: right;\">\n",
       "      <th></th>\n",
       "      <th>book_bible</th>\n",
       "      <th>verse</th>\n",
       "      <th>extra</th>\n",
       "    </tr>\n",
       "  </thead>\n",
       "  <tbody>\n",
       "    <tr>\n",
       "      <th>0</th>\n",
       "      <td>Genesis</td>\n",
       "      <td>1:1\\tIn the beginning God created the heaven a...</td>\n",
       "      <td>NaN</td>\n",
       "    </tr>\n",
       "    <tr>\n",
       "      <th>1</th>\n",
       "      <td>Genesis</td>\n",
       "      <td>1:2\\tAnd the earth was without form, and void;...</td>\n",
       "      <td>NaN</td>\n",
       "    </tr>\n",
       "    <tr>\n",
       "      <th>2</th>\n",
       "      <td>Genesis</td>\n",
       "      <td>1:3\\tAnd God said, Let there be light: and the...</td>\n",
       "      <td>NaN</td>\n",
       "    </tr>\n",
       "  </tbody>\n",
       "</table>\n",
       "</div>"
      ],
      "text/plain": [
       "  book_bible                                              verse extra\n",
       "0    Genesis  1:1\\tIn the beginning God created the heaven a...   NaN\n",
       "1    Genesis  1:2\\tAnd the earth was without form, and void;...   NaN\n",
       "2    Genesis  1:3\\tAnd God said, Let there be light: and the...   NaN"
      ]
     },
     "execution_count": 288,
     "metadata": {},
     "output_type": "execute_result"
    }
   ],
   "source": [
    "df_text.head(3)"
   ]
  },
  {
   "cell_type": "code",
   "execution_count": 289,
   "metadata": {
    "collapsed": false,
    "deletable": true,
    "editable": true
   },
   "outputs": [
    {
     "data": {
      "text/html": [
       "<div>\n",
       "<table border=\"1\" class=\"dataframe\">\n",
       "  <thead>\n",
       "    <tr style=\"text-align: right;\">\n",
       "      <th></th>\n",
       "      <th>book_bible</th>\n",
       "      <th>verse</th>\n",
       "      <th>extra</th>\n",
       "    </tr>\n",
       "  </thead>\n",
       "  <tbody>\n",
       "    <tr>\n",
       "      <th>31099</th>\n",
       "      <td>Revelat</td>\n",
       "      <td>on 22:19\\tAnd if any man shall take away from ...</td>\n",
       "      <td>NaN</td>\n",
       "    </tr>\n",
       "    <tr>\n",
       "      <th>31100</th>\n",
       "      <td>Revelat</td>\n",
       "      <td>on 22:20\\tHe which testifieth these things sai...</td>\n",
       "      <td>NaN</td>\n",
       "    </tr>\n",
       "    <tr>\n",
       "      <th>31101</th>\n",
       "      <td>Revelat</td>\n",
       "      <td>on 22:21\\tThe grace of our Lord Jesus Christ b...</td>\n",
       "      <td>NaN</td>\n",
       "    </tr>\n",
       "  </tbody>\n",
       "</table>\n",
       "</div>"
      ],
      "text/plain": [
       "      book_bible                                              verse extra\n",
       "31099    Revelat  on 22:19\\tAnd if any man shall take away from ...   NaN\n",
       "31100    Revelat  on 22:20\\tHe which testifieth these things sai...   NaN\n",
       "31101    Revelat  on 22:21\\tThe grace of our Lord Jesus Christ b...   NaN"
      ]
     },
     "execution_count": 289,
     "metadata": {},
     "output_type": "execute_result"
    }
   ],
   "source": [
    "df_text.tail(3)"
   ]
  },
  {
   "cell_type": "code",
   "execution_count": 290,
   "metadata": {
    "collapsed": false,
    "deletable": true,
    "editable": true
   },
   "outputs": [],
   "source": [
    "del df_text['extra']"
   ]
  },
  {
   "cell_type": "code",
   "execution_count": 291,
   "metadata": {
    "collapsed": true,
    "deletable": true,
    "editable": true
   },
   "outputs": [],
   "source": [
    "books_old_testament = [\"Genesis\",\"Exodus\",\"Leviticus\",\"Numbers\",\"Deuteronomy\",\"Joshua\",\"Judges\",\"Ruth\",\"1 Samuel\",\n",
    "                       \"2 Samuel\",\"1 Kings\",\"2 Kings\",\"1 Chronicles\",\"2 Chronicles\",\"Ezra\",\"Nehemiah\",\"Esther\",\"Job\",\n",
    "                       \"Psalms\",\"Proverbs\",\"Ecclesiastes\",\"Song of Solomon\",\"Isaiah\",\"Jeremiah\",\"Lamentations\",\"Ezekiel\",\n",
    "                       \"Daniel\",\"Hosea\",\"Joel\",\"Amos\",\"Obadiah\",\"Jonah\",\"Micah\",\"Nahum\",\"Habakkuk\",\"Zephaniah\",\"Haggai\",\n",
    "                       \"Zechariah\",\"Malachi\"]"
   ]
  },
  {
   "cell_type": "code",
   "execution_count": 292,
   "metadata": {
    "collapsed": true,
    "deletable": true,
    "editable": true
   },
   "outputs": [],
   "source": [
    "books_new_testament = [\"Matthew\",\"Mark\",\"Luke\",\"John\",\"Acts of Apostles\",\"Romans\",\"1 Corinthians\",\"2 Corinthians\",\n",
    "                      \"Galatians\",\"Ephesians\",\"Philippians\",\"Colossians\",\"1 Thessalonians\",\"2 Thessalonians\",\"1 Timothy\",\n",
    "                      \"2 Timothy\",\"Titus\",\"Philemon\",\"Hebrews\",\"James\",\"1 Peter\",\"2 Peter\",\"1 John\",\"2 John\",\"3 John\",\n",
    "                      \"Jude\",\"Revelation\"]"
   ]
  },
  {
   "cell_type": "code",
   "execution_count": 293,
   "metadata": {
    "collapsed": false,
    "deletable": true,
    "editable": true
   },
   "outputs": [
    {
     "data": {
      "text/plain": [
       "Index(['book_bible', 'verse'], dtype='object')"
      ]
     },
     "execution_count": 293,
     "metadata": {},
     "output_type": "execute_result"
    }
   ],
   "source": [
    "df_text.columns"
   ]
  },
  {
   "cell_type": "code",
   "execution_count": 294,
   "metadata": {
    "collapsed": false,
    "deletable": true,
    "editable": true
   },
   "outputs": [],
   "source": [
    "df_verses = df_text['verse']"
   ]
  },
  {
   "cell_type": "code",
   "execution_count": 295,
   "metadata": {
    "collapsed": false,
    "deletable": true,
    "editable": true
   },
   "outputs": [
    {
     "data": {
      "text/plain": [
       "0    1:1\\tIn the beginning God created the heaven a...\n",
       "1    1:2\\tAnd the earth was without form, and void;...\n",
       "2    1:3\\tAnd God said, Let there be light: and the...\n",
       "Name: verse, dtype: object"
      ]
     },
     "execution_count": 295,
     "metadata": {},
     "output_type": "execute_result"
    }
   ],
   "source": [
    "df_verses.head(3)"
   ]
  },
  {
   "cell_type": "code",
   "execution_count": 296,
   "metadata": {
    "collapsed": false,
    "deletable": true,
    "editable": true
   },
   "outputs": [
    {
     "name": "stdout",
     "output_type": "stream",
     "text": [
      "1:1\tIn the beginning God created the heaven and the earth.\n"
     ]
    }
   ],
   "source": [
    "for row in df_verses:\n",
    "    print(row)\n",
    "    break"
   ]
  },
  {
   "cell_type": "code",
   "execution_count": 297,
   "metadata": {
    "collapsed": false,
    "deletable": true,
    "editable": true
   },
   "outputs": [],
   "source": [
    "# global _counted\n",
    "# _counted = {}\n",
    "# count = 0"
   ]
  },
  {
   "cell_type": "code",
   "execution_count": 298,
   "metadata": {
    "collapsed": false,
    "deletable": true,
    "editable": true
   },
   "outputs": [],
   "source": [
    "_counted = {}\n",
    "count = 0\n",
    "\n",
    "for row in df_verses:\n",
    "    stringed = str(row)\n",
    "#     Clean each line - Remove punctuations\n",
    "    pos = stringed.find('\\t')\n",
    "    stringed = stringed[pos:]\n",
    "#     print(stringed)\n",
    "\n",
    "    stringed = stringed.replace(\",\",\"\")\n",
    "    stringed = stringed.replace(\";\",\"\")\n",
    "    stringed = stringed.replace(\".\",\"\")\n",
    "    stringed = stringed.replace(\"?\",\"\")\n",
    "    stringed = stringed.replace(\"!\",\"\")\n",
    "    stringed = stringed.replace(\"(\",\"\")\n",
    "    stringed = stringed.replace(\")\",\"\")\n",
    "#     stringed = stringed.replace(\"\\t\",\" \")\n",
    "    stringed = stringed.strip()\n",
    "    collects = list(stringed.split(\" \"))\n",
    "\n",
    "    for item in collects:\n",
    "        if '\\t' in item:\n",
    "            item = item.replace('\\t',' ')\n",
    "        if item != 'God':\n",
    "            item = item.lower()\n",
    "            \n",
    "        if \":\" in item:\n",
    "            continue\n",
    "        \n",
    "        if item == '':\n",
    "            continue\n",
    "            \n",
    "        try:\n",
    "            _counted[item] = _counted[item] + 1\n",
    "        except KeyError:\n",
    "            _counted[item] = 1\n",
    "        "
   ]
  },
  {
   "cell_type": "code",
   "execution_count": 299,
   "metadata": {
    "collapsed": false,
    "deletable": true,
    "editable": true
   },
   "outputs": [
    {
     "name": "stdout",
     "output_type": "stream",
     "text": [
      "282\n"
     ]
    }
   ],
   "source": [
    "# sorted(_counted)\n",
    "over_1000 = {}\n",
    "\n",
    "for key in _counted.keys():\n",
    "    if _counted[key] > 300:\n",
    "        over_1000['{}'.format(key)] = _counted[key]\n",
    "        \n",
    "\n",
    "print(len(over_1000))"
   ]
  },
  {
   "cell_type": "code",
   "execution_count": 300,
   "metadata": {
    "collapsed": false,
    "deletable": true,
    "editable": true
   },
   "outputs": [
    {
     "data": {
      "text/plain": [
       "([<matplotlib.axis.XTick at 0x13bc730f0>,\n",
       "  <matplotlib.axis.XTick at 0x13ba8c828>,\n",
       "  <matplotlib.axis.XTick at 0x13bba2080>,\n",
       "  <matplotlib.axis.XTick at 0x13c1ee320>,\n",
       "  <matplotlib.axis.XTick at 0x13c1eee10>,\n",
       "  <matplotlib.axis.XTick at 0x13c1fb940>,\n",
       "  <matplotlib.axis.XTick at 0x13c201438>,\n",
       "  <matplotlib.axis.XTick at 0x13c201eb8>,\n",
       "  <matplotlib.axis.XTick at 0x13c2099b0>,\n",
       "  <matplotlib.axis.XTick at 0x13c20e4e0>,\n",
       "  <matplotlib.axis.XTick at 0x13c20ef98>,\n",
       "  <matplotlib.axis.XTick at 0x13c215a90>,\n",
       "  <matplotlib.axis.XTick at 0x13c21d588>,\n",
       "  <matplotlib.axis.XTick at 0x13c222080>,\n",
       "  <matplotlib.axis.XTick at 0x13c222b00>,\n",
       "  <matplotlib.axis.XTick at 0x13c227630>,\n",
       "  <matplotlib.axis.XTick at 0x13c22b128>,\n",
       "  <matplotlib.axis.XTick at 0x13c22bc18>,\n",
       "  <matplotlib.axis.XTick at 0x13c232748>,\n",
       "  <matplotlib.axis.XTick at 0x13c239208>,\n",
       "  <matplotlib.axis.XTick at 0x13c239cc0>,\n",
       "  <matplotlib.axis.XTick at 0x13c23f7b8>,\n",
       "  <matplotlib.axis.XTick at 0x13c24b278>,\n",
       "  <matplotlib.axis.XTick at 0x13c24bd30>,\n",
       "  <matplotlib.axis.XTick at 0x13c250828>,\n",
       "  <matplotlib.axis.XTick at 0x13c2583c8>,\n",
       "  <matplotlib.axis.XTick at 0x13c258e80>,\n",
       "  <matplotlib.axis.XTick at 0x13c25d940>,\n",
       "  <matplotlib.axis.XTick at 0x13c264470>,\n",
       "  <matplotlib.axis.XTick at 0x13c264f98>,\n",
       "  <matplotlib.axis.XTick at 0x13c26da58>,\n",
       "  <matplotlib.axis.XTick at 0x13c272588>,\n",
       "  <matplotlib.axis.XTick at 0x13c278048>,\n",
       "  <matplotlib.axis.XTick at 0x13c278b70>,\n",
       "  <matplotlib.axis.XTick at 0x13c2806d8>,\n",
       "  <matplotlib.axis.XTick at 0x13c2851d0>,\n",
       "  <matplotlib.axis.XTick at 0x13c285c88>,\n",
       "  <matplotlib.axis.XTick at 0x13c28c780>,\n",
       "  <matplotlib.axis.XTick at 0x13c292240>,\n",
       "  <matplotlib.axis.XTick at 0x13c292d30>,\n",
       "  <matplotlib.axis.XTick at 0x13c296828>,\n",
       "  <matplotlib.axis.XTick at 0x13c2a53c8>,\n",
       "  <matplotlib.axis.XTick at 0x13c2a5eb8>,\n",
       "  <matplotlib.axis.XTick at 0x13c2ab9b0>,\n",
       "  <matplotlib.axis.XTick at 0x13c2b3588>,\n",
       "  <matplotlib.axis.XTick at 0x13c2b90f0>,\n",
       "  <matplotlib.axis.XTick at 0x13c2b9c18>,\n",
       "  <matplotlib.axis.XTick at 0x13c2be7f0>,\n",
       "  <matplotlib.axis.XTick at 0x13c2c4390>,\n",
       "  <matplotlib.axis.XTick at 0x13c2c4f28>,\n",
       "  <matplotlib.axis.XTick at 0x13c2cba20>,\n",
       "  <matplotlib.axis.XTick at 0x13c2d36a0>,\n",
       "  <matplotlib.axis.XTick at 0x13c2d82e8>,\n",
       "  <matplotlib.axis.XTick at 0x13c2d8e10>,\n",
       "  <matplotlib.axis.XTick at 0x13c2de908>,\n",
       "  <matplotlib.axis.XTick at 0x13c2e2438>,\n",
       "  <matplotlib.axis.XTick at 0x13c2e2ef0>,\n",
       "  <matplotlib.axis.XTick at 0x13c2e99e8>,\n",
       "  <matplotlib.axis.XTick at 0x13c2f2550>,\n",
       "  <matplotlib.axis.XTick at 0x13c2fe0b8>,\n",
       "  <matplotlib.axis.XTick at 0x13c2feb70>,\n",
       "  <matplotlib.axis.XTick at 0x13c3036d8>,\n",
       "  <matplotlib.axis.XTick at 0x13c3082b0>,\n",
       "  <matplotlib.axis.XTick at 0x13c308e48>,\n",
       "  <matplotlib.axis.XTick at 0x13c310940>,\n",
       "  <matplotlib.axis.XTick at 0x13c315400>,\n",
       "  <matplotlib.axis.XTick at 0x13c315ef0>,\n",
       "  <matplotlib.axis.XTick at 0x13c31e9b0>,\n",
       "  <matplotlib.axis.XTick at 0x13c3234a8>,\n",
       "  <matplotlib.axis.XTick at 0x13c323f98>,\n",
       "  <matplotlib.axis.XTick at 0x13c329ba8>,\n",
       "  <matplotlib.axis.XTick at 0x13c32f710>,\n",
       "  <matplotlib.axis.XTick at 0x13c336240>,\n",
       "  <matplotlib.axis.XTick at 0x13c336cf8>,\n",
       "  <matplotlib.axis.XTick at 0x13c33c7f0>,\n",
       "  <matplotlib.axis.XTick at 0x13c340358>,\n",
       "  <matplotlib.axis.XTick at 0x13c340e10>,\n",
       "  <matplotlib.axis.XTick at 0x13c347a20>,\n",
       "  <matplotlib.axis.XTick at 0x13c34b5c0>,\n",
       "  <matplotlib.axis.XTick at 0x13c351128>,\n",
       "  <matplotlib.axis.XTick at 0x13c351c18>,\n",
       "  <matplotlib.axis.XTick at 0x13c358748>,\n",
       "  <matplotlib.axis.XTick at 0x13c361240>,\n",
       "  <matplotlib.axis.XTick at 0x13c361cc0>,\n",
       "  <matplotlib.axis.XTick at 0x13c3678d0>,\n",
       "  <matplotlib.axis.XTick at 0x13c36b4a8>,\n",
       "  <matplotlib.axis.XTick at 0x13c3720b8>,\n",
       "  <matplotlib.axis.XTick at 0x13c372cc0>,\n",
       "  <matplotlib.axis.XTick at 0x13c3787b8>,\n",
       "  <matplotlib.axis.XTick at 0x13c37e3c8>,\n",
       "  <matplotlib.axis.XTick at 0x13c3850f0>,\n",
       "  <matplotlib.axis.XTick at 0x13c385c88>,\n",
       "  <matplotlib.axis.XTick at 0x13c38b710>,\n",
       "  <matplotlib.axis.XTick at 0x13c392320>,\n",
       "  <matplotlib.axis.XTick at 0x13c392e10>,\n",
       "  <matplotlib.axis.XTick at 0x13c398a20>,\n",
       "  <matplotlib.axis.XTick at 0x13c39f5c0>,\n",
       "  <matplotlib.axis.XTick at 0x13c3a30f0>,\n",
       "  <matplotlib.axis.XTick at 0x13c3a3b70>,\n",
       "  <matplotlib.axis.XTick at 0x13c3aa6d8>,\n",
       "  <matplotlib.axis.XTick at 0x13c3b0278>,\n",
       "  <matplotlib.axis.XTick at 0x13c3b0e48>,\n",
       "  <matplotlib.axis.XTick at 0x13c3b59b0>,\n",
       "  <matplotlib.axis.XTick at 0x13c3bc5f8>,\n",
       "  <matplotlib.axis.XTick at 0x13c3c11d0>,\n",
       "  <matplotlib.axis.XTick at 0x13c3c1d30>,\n",
       "  <matplotlib.axis.XTick at 0x13c3c9898>,\n",
       "  <matplotlib.axis.XTick at 0x13c3d1400>,\n",
       "  <matplotlib.axis.XTick at 0x13c3d1e80>,\n",
       "  <matplotlib.axis.XTick at 0x13c3d59e8>,\n",
       "  <matplotlib.axis.XTick at 0x13c3dd5c0>,\n",
       "  <matplotlib.axis.XTick at 0x13c3e40b8>,\n",
       "  <matplotlib.axis.XTick at 0x13c3e4b70>,\n",
       "  <matplotlib.axis.XTick at 0x13c3e8668>,\n",
       "  <matplotlib.axis.XTick at 0x13c3ee278>,\n",
       "  <matplotlib.axis.XTick at 0x13c3eedd8>,\n",
       "  <matplotlib.axis.XTick at 0x13c3f4940>,\n",
       "  <matplotlib.axis.XTick at 0x13c3fb470>,\n",
       "  <matplotlib.axis.XTick at 0x13c3fbf60>,\n",
       "  <matplotlib.axis.XTick at 0x13c410a20>,\n",
       "  <matplotlib.axis.XTick at 0x13c42a550>,\n",
       "  <matplotlib.axis.XTick at 0x13c42afd0>,\n",
       "  <matplotlib.axis.XTick at 0x13c431ac8>,\n",
       "  <matplotlib.axis.XTick at 0x13c44c5c0>,\n",
       "  <matplotlib.axis.XTick at 0x13c4520b8>,\n",
       "  <matplotlib.axis.XTick at 0x13c452ba8>,\n",
       "  <matplotlib.axis.XTick at 0x13c4586a0>,\n",
       "  <matplotlib.axis.XTick at 0x13c45e198>,\n",
       "  <matplotlib.axis.XTick at 0x13c45ec50>,\n",
       "  <matplotlib.axis.XTick at 0x13c463748>,\n",
       "  <matplotlib.axis.XTick at 0x13c46c240>,\n",
       "  <matplotlib.axis.XTick at 0x13c46ccf8>,\n",
       "  <matplotlib.axis.XTick at 0x13c4707f0>,\n",
       "  <matplotlib.axis.XTick at 0x13c474320>,\n",
       "  <matplotlib.axis.XTick at 0x13c474dd8>,\n",
       "  <matplotlib.axis.XTick at 0x13c47a898>,\n",
       "  <matplotlib.axis.XTick at 0x13c481390>,\n",
       "  <matplotlib.axis.XTick at 0x13c481e80>,\n",
       "  <matplotlib.axis.XTick at 0x13c488940>,\n",
       "  <matplotlib.axis.XTick at 0x13c48c438>,\n",
       "  <matplotlib.axis.XTick at 0x13c48cef0>,\n",
       "  <matplotlib.axis.XTick at 0x13c492a20>,\n",
       "  <matplotlib.axis.XTick at 0x13c496518>,\n",
       "  <matplotlib.axis.XTick at 0x13c49c048>,\n",
       "  <matplotlib.axis.XTick at 0x13c49cb00>,\n",
       "  <matplotlib.axis.XTick at 0x13c4a15f8>,\n",
       "  <matplotlib.axis.XTick at 0x13c4a80b8>,\n",
       "  <matplotlib.axis.XTick at 0x13c4a8b70>,\n",
       "  <matplotlib.axis.XTick at 0x13c4ae668>,\n",
       "  <matplotlib.axis.XTick at 0x13c4b4160>,\n",
       "  <matplotlib.axis.XTick at 0x13c4b4c18>,\n",
       "  <matplotlib.axis.XTick at 0x13c4bb748>,\n",
       "  <matplotlib.axis.XTick at 0x13c4c1240>,\n",
       "  <matplotlib.axis.XTick at 0x13c4c1d30>,\n",
       "  <matplotlib.axis.XTick at 0x13c4c8828>,\n",
       "  <matplotlib.axis.XTick at 0x13c4cd320>,\n",
       "  <matplotlib.axis.XTick at 0x13c4cddd8>,\n",
       "  <matplotlib.axis.XTick at 0x13c4d58d0>,\n",
       "  <matplotlib.axis.XTick at 0x13c4da3c8>,\n",
       "  <matplotlib.axis.XTick at 0x13c4dae80>,\n",
       "  <matplotlib.axis.XTick at 0x13c4dd940>,\n",
       "  <matplotlib.axis.XTick at 0x13c4e6438>,\n",
       "  <matplotlib.axis.XTick at 0x13c4e6f28>,\n",
       "  <matplotlib.axis.XTick at 0x13c4eaa20>,\n",
       "  <matplotlib.axis.XTick at 0x13c4ed518>,\n",
       "  <matplotlib.axis.XTick at 0x13c4f3048>,\n",
       "  <matplotlib.axis.XTick at 0x13c4f3b00>,\n",
       "  <matplotlib.axis.XTick at 0x13c4fc5f8>,\n",
       "  <matplotlib.axis.XTick at 0x13c5010b8>,\n",
       "  <matplotlib.axis.XTick at 0x13c501ba8>,\n",
       "  <matplotlib.axis.XTick at 0x13c5076a0>,\n",
       "  <matplotlib.axis.XTick at 0x13c50b160>,\n",
       "  <matplotlib.axis.XTick at 0x13c50bc18>,\n",
       "  <matplotlib.axis.XTick at 0x13c50f748>,\n",
       "  <matplotlib.axis.XTick at 0x13c517278>,\n",
       "  <matplotlib.axis.XTick at 0x13c517d30>,\n",
       "  <matplotlib.axis.XTick at 0x13c51d860>,\n",
       "  <matplotlib.axis.XTick at 0x13c524390>,\n",
       "  <matplotlib.axis.XTick at 0x13c524eb8>,\n",
       "  <matplotlib.axis.XTick at 0x13c5289b0>,\n",
       "  <matplotlib.axis.XTick at 0x13c52d4e0>,\n",
       "  <matplotlib.axis.XTick at 0x13c52df98>,\n",
       "  <matplotlib.axis.XTick at 0x13c534b00>,\n",
       "  <matplotlib.axis.XTick at 0x13c5395c0>,\n",
       "  <matplotlib.axis.XTick at 0x13c5400f0>,\n",
       "  <matplotlib.axis.XTick at 0x13c540be0>,\n",
       "  <matplotlib.axis.XTick at 0x13c5466d8>,\n",
       "  <matplotlib.axis.XTick at 0x13c54b208>,\n",
       "  <matplotlib.axis.XTick at 0x13c54bcc0>,\n",
       "  <matplotlib.axis.XTick at 0x13c54f7b8>,\n",
       "  <matplotlib.axis.XTick at 0x13c5572b0>,\n",
       "  <matplotlib.axis.XTick at 0x13c557da0>,\n",
       "  <matplotlib.axis.XTick at 0x13c55d898>,\n",
       "  <matplotlib.axis.XTick at 0x13c5623c8>,\n",
       "  <matplotlib.axis.XTick at 0x13c562eb8>,\n",
       "  <matplotlib.axis.XTick at 0x13c5679b0>,\n",
       "  <matplotlib.axis.XTick at 0x13c56d4e0>,\n",
       "  <matplotlib.axis.XTick at 0x13c56dfd0>,\n",
       "  <matplotlib.axis.XTick at 0x13c575ac8>,\n",
       "  <matplotlib.axis.XTick at 0x13c581668>,\n",
       "  <matplotlib.axis.XTick at 0x13c591128>,\n",
       "  <matplotlib.axis.XTick at 0x13c591ba8>,\n",
       "  <matplotlib.axis.XTick at 0x13c5c0710>,\n",
       "  <matplotlib.axis.XTick at 0x13c5c81d0>,\n",
       "  <matplotlib.axis.XTick at 0x13c5c8c50>,\n",
       "  <matplotlib.axis.XTick at 0x13c5d2748>,\n",
       "  <matplotlib.axis.XTick at 0x13c5db240>,\n",
       "  <matplotlib.axis.XTick at 0x13c5dbd30>,\n",
       "  <matplotlib.axis.XTick at 0x13c5df7f0>,\n",
       "  <matplotlib.axis.XTick at 0x13c5eb2e8>,\n",
       "  <matplotlib.axis.XTick at 0x13c5ebd68>,\n",
       "  <matplotlib.axis.XTick at 0x13c5f48d0>,\n",
       "  <matplotlib.axis.XTick at 0x13c5fc390>,\n",
       "  <matplotlib.axis.XTick at 0x13c5fce48>,\n",
       "  <matplotlib.axis.XTick at 0x13c602908>,\n",
       "  <matplotlib.axis.XTick at 0x13c606400>,\n",
       "  <matplotlib.axis.XTick at 0x13c606eb8>,\n",
       "  <matplotlib.axis.XTick at 0x13c6129b0>,\n",
       "  <matplotlib.axis.XTick at 0x13c619470>,\n",
       "  <matplotlib.axis.XTick at 0x13c619fd0>,\n",
       "  <matplotlib.axis.XTick at 0x13c61cac8>,\n",
       "  <matplotlib.axis.XTick at 0x13c636588>,\n",
       "  <matplotlib.axis.XTick at 0x13c63c0b8>,\n",
       "  <matplotlib.axis.XTick at 0x13c63cbe0>,\n",
       "  <matplotlib.axis.XTick at 0x13c642710>,\n",
       "  <matplotlib.axis.XTick at 0x13c6461d0>,\n",
       "  <matplotlib.axis.XTick at 0x13c646c88>,\n",
       "  <matplotlib.axis.XTick at 0x13c64e7b8>,\n",
       "  <matplotlib.axis.XTick at 0x13c655278>,\n",
       "  <matplotlib.axis.XTick at 0x13c655d30>,\n",
       "  <matplotlib.axis.XTick at 0x13c658860>,\n",
       "  <matplotlib.axis.XTick at 0x13c65d390>,\n",
       "  <matplotlib.axis.XTick at 0x13c65de10>,\n",
       "  <matplotlib.axis.XTick at 0x13c6638d0>,\n",
       "  <matplotlib.axis.XTick at 0x13c6693c8>,\n",
       "  <matplotlib.axis.XTick at 0x13c669eb8>,\n",
       "  <matplotlib.axis.XTick at 0x13c6759b0>,\n",
       "  <matplotlib.axis.XTick at 0x13c67b4a8>,\n",
       "  <matplotlib.axis.XTick at 0x13c67bf60>,\n",
       "  <matplotlib.axis.XTick at 0x13cded5c0>,\n",
       "  <matplotlib.axis.XTick at 0x13cdf3080>,\n",
       "  <matplotlib.axis.XTick at 0x13cdf3b00>,\n",
       "  <matplotlib.axis.XTick at 0x13cdf95c0>,\n",
       "  <matplotlib.axis.XTick at 0x13cdff080>,\n",
       "  <matplotlib.axis.XTick at 0x13cdffb00>,\n",
       "  <matplotlib.axis.XTick at 0x13ce065c0>,\n",
       "  <matplotlib.axis.XTick at 0x13ce0b080>,\n",
       "  <matplotlib.axis.XTick at 0x13ce0bb00>,\n",
       "  <matplotlib.axis.XTick at 0x13ce115c0>,\n",
       "  <matplotlib.axis.XTick at 0x13ce18080>,\n",
       "  <matplotlib.axis.XTick at 0x13ce18b00>,\n",
       "  <matplotlib.axis.XTick at 0x13ce1d5c0>,\n",
       "  <matplotlib.axis.XTick at 0x13ce24080>,\n",
       "  <matplotlib.axis.XTick at 0x13ce24b00>,\n",
       "  <matplotlib.axis.XTick at 0x13ce2a5c0>,\n",
       "  <matplotlib.axis.XTick at 0x13ce2f080>,\n",
       "  <matplotlib.axis.XTick at 0x13ce2fb00>,\n",
       "  <matplotlib.axis.XTick at 0x13ce365c0>,\n",
       "  <matplotlib.axis.XTick at 0x13ce3c080>,\n",
       "  <matplotlib.axis.XTick at 0x13ce3cb00>,\n",
       "  <matplotlib.axis.XTick at 0x13ce405c0>,\n",
       "  <matplotlib.axis.XTick at 0x13ce48080>,\n",
       "  <matplotlib.axis.XTick at 0x13ce48b00>,\n",
       "  <matplotlib.axis.XTick at 0x13ce4e5c0>,\n",
       "  <matplotlib.axis.XTick at 0x13ce53080>,\n",
       "  <matplotlib.axis.XTick at 0x13ce53b00>,\n",
       "  <matplotlib.axis.XTick at 0x13ce595c0>,\n",
       "  <matplotlib.axis.XTick at 0x13ce5f080>,\n",
       "  <matplotlib.axis.XTick at 0x13ce5fb00>,\n",
       "  <matplotlib.axis.XTick at 0x13ce655c0>,\n",
       "  <matplotlib.axis.XTick at 0x13ce6d080>,\n",
       "  <matplotlib.axis.XTick at 0x13ce6db00>,\n",
       "  <matplotlib.axis.XTick at 0x13ce725c0>,\n",
       "  <matplotlib.axis.XTick at 0x13ce78080>,\n",
       "  <matplotlib.axis.XTick at 0x13ce78b00>,\n",
       "  <matplotlib.axis.XTick at 0x13ce7d5c0>,\n",
       "  <matplotlib.axis.XTick at 0x13ce85080>,\n",
       "  <matplotlib.axis.XTick at 0x13ce85b00>,\n",
       "  <matplotlib.axis.XTick at 0x13ce8b5c0>,\n",
       "  <matplotlib.axis.XTick at 0x13ce90080>,\n",
       "  <matplotlib.axis.XTick at 0x13ce90b00>,\n",
       "  <matplotlib.axis.XTick at 0x13ce945c0>],\n",
       " <a list of 282 Text xticklabel objects>)"
      ]
     },
     "execution_count": 300,
     "metadata": {},
     "output_type": "execute_result"
    },
    {
     "data": {
      "image/png": "[encoded data removed]",
      "text/plain": [
       "<matplotlib.figure.Figure at 0x13bb22e10>"
      ]
     },
     "metadata": {},
     "output_type": "display_data"
    }
   ],
   "source": [
    "# sorted(_counted.values())\n",
    "plt.bar(range(len(over_1000)), over_1000.values(), align=\"center\", color=\"g\")\n",
    "plt.xticks(range(len(over_1000)), list(over_1000.keys()))"
   ]
  },
  {
   "cell_type": "code",
   "execution_count": 301,
   "metadata": {
    "collapsed": false,
    "deletable": true,
    "editable": true,
    "scrolled": true
   },
   "outputs": [],
   "source": [
    "plt.show()"
   ]
  },
  {
   "cell_type": "code",
   "execution_count": 302,
   "metadata": {
    "collapsed": false,
    "deletable": true,
    "editable": true
   },
   "outputs": [],
   "source": [
    "# fig, ax = plt.subplots(1,1, figsize=(6,6))\n",
    "# N = 1000\n",
    "# tag = np.random.randint(0,N,1000)\n",
    "# # define the colormap\n",
    "# cmap = plt.cm.jet\n",
    "\n",
    "# scat = ax.scatter(over_1000.values(),over_1000.keys(),c=tag,s=np.random.randint(100,500,N),cmap=cmap,norm=norm)\n",
    "# # create the colorbar\n",
    "# cb = plt.colorbar(scat, spacing='proportional',ticks=bounds)\n",
    "# cb.set_label('Custom cbar')\n",
    "# ax.set_title('Discrete color mappings')\n",
    "# plt.show()"
   ]
  },
  {
   "cell_type": "code",
   "execution_count": 303,
   "metadata": {
    "collapsed": false,
    "deletable": true,
    "editable": true
   },
   "outputs": [
    {
     "data": {
      "text/plain": [
       "dict_items([('in', 12198), ('the', 61655), ('God', 3709), ('heaven', 527), ('and', 50021), ('earth', 827), ('was', 4309), ('without', 397), ('upon', 2625), ('face', 381), ('of', 33340), ('spirit', 467), ('said', 3837), ('let', 1444), ('there', 2151), ('be', 6776), ('saw', 527), ('that', 12452), ('it', 5673), ('from', 3478), ('called', 597), ('day', 1597), ('he', 10010), ('were', 2664), ('first', 413), ('a', 7892), ('midst', 341), ('made', 1346), ('which', 4251), ('under', 377), ('so', 1618), ('together', 425), ('unto', 8693), ('one', 1887), ('place', 641), ('land', 1597), ('good', 661), ('bring', 705), ('forth', 825), ('after', 1128), ('his', 8158), ('is', 6693), ('brought', 834), ('to', 13067), ('them', 5840), ('for', 8673), ('days', 767), ('give', 860), ('two', 805), ('great', 897), ('also', 1687), ('set', 660), ('over', 972), ('hath', 2161), ('life', 389), ('may', 990), ('every', 1182), ('their', 3772), ('saying', 1413), ('thing', 495), ('us', 1324), ('make', 1023), ('man', 2455), ('our', 1123), ('have', 3747), ('sea', 358), ('all', 5452), ('own', 559), ('him', 6025), ('behold', 1281), ('i', 8497), ('given', 475), ('you', 2378), ('shall', 9565), ('had', 1937), ('thus', 713), ('on', 1942), ('work', 383), ('because', 1169), ('these', 1177), ('are', 2829), ('when', 2726), ('they', 7081), ('lord', 7288), ('before', 1735), ('not', 6199), ('but', 3865), ('went', 1343), ('up', 2221), ('into', 1924), ('soul', 416), ('put', 883), ('whom', 735), ('out', 2638), ('sight', 303), ('evil', 565), ('water', 343), ('four', 316), ('name', 852), ('where', 379), ('gold', 382), ('same', 311), ('toward', 338), ('took', 738), ('keep', 356), ('commanded', 422), ('thou', 5276), ('shalt', 1589), ('eat', 607), ('thereof', 784), ('should', 732), ('will', 3687), ('an', 1651), ('see', 567), ('what', 925), ('would', 412), ('gave', 446), ('found', 380), ('flesh', 381), ('taken', 307), ('woman', 338), ('her', 1892), ('this', 2646), ('now', 1286), ('my', 4156), ('she', 956), ('therefore', 1201), ('father', 918), ('both', 348), ('wife', 362), ('more', 637), ('than', 453), ('any', 881), ('yea', 312), ('ye', 3864), ('we', 1801), ('neither', 843), ('know', 729), ('then', 2081), ('your', 1714), ('eyes', 451), ('as', 3385), ('did', 970), ('with', 5744), ('themselves', 371), ('heard', 607), ('voice', 465), ('art', 479), ('thy', 4506), ('who', 918), ('thee', 3434), ('hast', 1031), ('me', 3626), ('done', 533), ('go', 1421), ('head', 333), ('children', 1733), ('bread', 330), ('hand', 1311), ('take', 847), ('sent', 665), ('at', 1501), ('sword', 376), ('way', 618), ('again', 626), ('brother', 346), ('time', 584), ('came', 2012), ('pass', 804), ('offering', 632), ('if', 1542), ('sin', 417), ('against', 1606), ('am', 823), ('blood', 419), ('mouth', 377), ('come', 1891), ('city', 791), ('son', 2276), ('other', 443), ('dwell', 322), ('hear', 515), ('another', 413), ('men', 1536), ('hundred', 564), ('years', 498), ('sons', 1018), ('five', 335), ('seven', 443), ('three', 452), ('hands', 419), ('yet', 645), ('those', 445), ('old', 356), ('heart', 775), ('through', 447), ('side', 410), ('even', 1347), ('do', 1291), ('according', 766), ('house', 1867), ('by', 2522), ('cause', 308), ('off', 467), ('year', 343), ('high', 388), ('things', 1072), ('until', 355), ('no', 1323), ('spake', 573), ('altar', 338), ('burnt', 347), ('fear', 370), ('cut', 307), ('brethren', 530), ('servant', 449), ('servants', 446), ('nations', 312), ('wherefore', 338), ('kingdom', 320), ('down', 1028), ('people', 1979), ('left', 326), ('daughter', 314), ('law', 488), ('egypt', 537), ('say', 1028), ('pray', 304), ('might', 455), ('away', 816), ('been', 310), ('right', 343), ('or', 1069), ('like', 630), ('cities', 421), ('wicked', 308), ('thine', 886), ('ever', 373), ('king', 2170), ('kings', 307), ('himself', 481), ('priest', 467), ('mine', 609), ('word', 655), ('fathers', 490), ('peace', 397), ('many', 524), ('among', 881), ('o', 1065), ('stood', 323), ('answered', 445), ('speak', 481), ('round', 309), ('fire', 483), ('drink', 340), ('nor', 737), ('dead', 332), ('thousand', 495), ('cast', 483), ('death', 317), ('saith', 1206), ('none', 342), ('about', 566), ('words', 485), ('jacob', 338), ('how', 516), ('love', 306), ('judah', 760), ('glory', 373), ('israel', 2334), ('saul', 373), ('priests', 361), ('moses', 810), ('holy', 572), ('aaron', 313), ('god', 321), ('congregation', 325), ('tabernacle', 311), ('jerusalem', 695), ('david', 973), ('jesus', 902), ('christ', 518)])"
      ]
     },
     "execution_count": 303,
     "metadata": {},
     "output_type": "execute_result"
    }
   ],
   "source": [
    "over_1000.items()"
   ]
  },
  {
   "cell_type": "code",
   "execution_count": 304,
   "metadata": {
    "collapsed": false,
    "deletable": true,
    "editable": true
   },
   "outputs": [],
   "source": [
    "# !pip3 install --upgrade bokeh"
   ]
  },
  {
   "cell_type": "code",
   "execution_count": 324,
   "metadata": {
    "collapsed": false,
    "deletable": true,
    "editable": true
   },
   "outputs": [
    {
     "data": {
      "text/plain": [
       "<matplotlib.figure.Figure at 0x13eebf438>"
      ]
     },
     "execution_count": 324,
     "metadata": {},
     "output_type": "execute_result"
    },
    {
     "data": {
      "text/plain": [
       "<matplotlib.figure.Figure at 0x13eebf438>"
      ]
     },
     "metadata": {},
     "output_type": "display_data"
    }
   ],
   "source": [
    "from bokeh.models import HoverTool, ColumnDataSource,LogColorMapper\n",
    "from bokeh.plotting import figure, show\n",
    "from bokeh.io import output_notebook\n",
    "plt.figure(figsize=(8, 6))"
   ]
  },
  {
   "cell_type": "code",
   "execution_count": 325,
   "metadata": {
    "collapsed": false,
    "deletable": true,
    "editable": true
   },
   "outputs": [
    {
     "name": "stdout",
     "output_type": "stream",
     "text": [
      "282\n",
      "282\n"
     ]
    }
   ],
   "source": [
    "# from scipy.stats import kendalltau\n",
    "x = list(over_1000.keys())\n",
    "y = list(over_1000.values())\n",
    "df_bokeh = pd.DataFrame(columns=[\"X\", \"Y\"])\n",
    "df_bokeh[\"X\"] = x\n",
    "print(len(x))\n",
    "df_bokeh[\"Y\"] = y\n",
    "print(len(y))\n",
    "N = 4000\n",
    "colors=[\"#084594\"]\n",
    "radii = np.random.random(size=N)"
   ]
  },
  {
   "cell_type": "code",
   "execution_count": 326,
   "metadata": {
    "collapsed": false,
    "deletable": true,
    "editable": true
   },
   "outputs": [
    {
     "name": "stderr",
     "output_type": "stream",
     "text": [
      "/usr/local/lib/python3.6/site-packages/bokeh/models/sources.py:81: BokehUserWarning: ColumnDataSource's columns must be of the same length\n",
      "  lambda: warnings.warn(\"ColumnDataSource's columns must be of the same length\", BokehUserWarning))\n",
      "/usr/local/lib/python3.6/site-packages/bokeh/models/sources.py:81: BokehUserWarning: ColumnDataSource's columns must be of the same length\n",
      "  lambda: warnings.warn(\"ColumnDataSource's columns must be of the same length\", BokehUserWarning))\n",
      "/usr/local/lib/python3.6/site-packages/bokeh/models/sources.py:81: BokehUserWarning: ColumnDataSource's columns must be of the same length\n",
      "  lambda: warnings.warn(\"ColumnDataSource's columns must be of the same length\", BokehUserWarning))\n"
     ]
    },
    {
     "data": {
      "text/html": [
       "<div style=\"display: table;\"><div style=\"display: table-row;\"><div style=\"display: table-cell;\"><b title=\"bokeh.models.renderers.GlyphRenderer\">GlyphRenderer</b>(</div><div style=\"display: table-cell;\">id&nbsp;=&nbsp;'ea4b4376-0181-4a0d-a0f0-6c8d8dc9a30f', <span id=\"e1ccd45e-569f-42a8-a310-ec4bf5cf004f\" style=\"cursor: pointer;\">&hellip;)</span></div></div><div class=\"6bfa2b24-489c-4d98-8e75-134c7912019f\" style=\"display: none;\"><div style=\"display: table-cell;\"></div><div style=\"display: table-cell;\">data_source&nbsp;=&nbsp;ColumnDataSource(id='932bb470-3d95-4e1a-ba0b-362c45d1fbb7', ...),</div></div><div class=\"6bfa2b24-489c-4d98-8e75-134c7912019f\" style=\"display: none;\"><div style=\"display: table-cell;\"></div><div style=\"display: table-cell;\">glyph&nbsp;=&nbsp;Circle(id='49b81883-377d-4ed9-830f-0352c1e0c484', ...),</div></div><div class=\"6bfa2b24-489c-4d98-8e75-134c7912019f\" style=\"display: none;\"><div style=\"display: table-cell;\"></div><div style=\"display: table-cell;\">hover_glyph&nbsp;=&nbsp;None,</div></div><div class=\"6bfa2b24-489c-4d98-8e75-134c7912019f\" style=\"display: none;\"><div style=\"display: table-cell;\"></div><div style=\"display: table-cell;\">js_callbacks&nbsp;=&nbsp;{},</div></div><div class=\"6bfa2b24-489c-4d98-8e75-134c7912019f\" style=\"display: none;\"><div style=\"display: table-cell;\"></div><div style=\"display: table-cell;\">level&nbsp;=&nbsp;'glyph',</div></div><div class=\"6bfa2b24-489c-4d98-8e75-134c7912019f\" style=\"display: none;\"><div style=\"display: table-cell;\"></div><div style=\"display: table-cell;\">name&nbsp;=&nbsp;None,</div></div><div class=\"6bfa2b24-489c-4d98-8e75-134c7912019f\" style=\"display: none;\"><div style=\"display: table-cell;\"></div><div style=\"display: table-cell;\">nonselection_glyph&nbsp;=&nbsp;Circle(id='16179984-0f84-498e-b147-fe4ad7af3877', ...),</div></div><div class=\"6bfa2b24-489c-4d98-8e75-134c7912019f\" style=\"display: none;\"><div style=\"display: table-cell;\"></div><div style=\"display: table-cell;\">selection_glyph&nbsp;=&nbsp;None,</div></div><div class=\"6bfa2b24-489c-4d98-8e75-134c7912019f\" style=\"display: none;\"><div style=\"display: table-cell;\"></div><div style=\"display: table-cell;\">tags&nbsp;=&nbsp;[],</div></div><div class=\"6bfa2b24-489c-4d98-8e75-134c7912019f\" style=\"display: none;\"><div style=\"display: table-cell;\"></div><div style=\"display: table-cell;\">visible&nbsp;=&nbsp;True,</div></div><div class=\"6bfa2b24-489c-4d98-8e75-134c7912019f\" style=\"display: none;\"><div style=\"display: table-cell;\"></div><div style=\"display: table-cell;\">x_range_name&nbsp;=&nbsp;'default',</div></div><div class=\"6bfa2b24-489c-4d98-8e75-134c7912019f\" style=\"display: none;\"><div style=\"display: table-cell;\"></div><div style=\"display: table-cell;\">y_range_name&nbsp;=&nbsp;'default')</div></div></div>\n",
       "<script>\n",
       "(function() {\n",
       "  var expanded = false;\n",
       "  var ellipsis = document.getElementById(\"e1ccd45e-569f-42a8-a310-ec4bf5cf004f\");\n",
       "  ellipsis.addEventListener(\"click\", function() {\n",
       "    var rows = document.getElementsByClassName(\"6bfa2b24-489c-4d98-8e75-134c7912019f\");\n",
       "    for (var i = 0; i < rows.length; i++) {\n",
       "      var el = rows[i];\n",
       "      el.style.display = expanded ? \"none\" : \"table-row\";\n",
       "    }\n",
       "    ellipsis.innerHTML = expanded ? \"&hellip;)\" : \"&lsaquo;&lsaquo;&lsaquo;\";\n",
       "    expanded = !expanded;\n",
       "  });\n",
       "})();\n",
       "</script>\n"
      ],
      "text/plain": [
       "GlyphRenderer(id='ea4b4376-0181-4a0d-a0f0-6c8d8dc9a30f', ...)"
      ]
     },
     "execution_count": 326,
     "metadata": {},
     "output_type": "execute_result"
    }
   ],
   "source": [
    "# sns.pairplot(over_1000,x_vars=x, y_vars=y)\n",
    "# output_file(\"rhema.html\", title=\"Word Frequency\")\n",
    "p = figure()\n",
    "p.circle(df_bokeh[\"X\"],df_bokeh[\"Y\"], radius=radii, fill_color=colors, fill_alpha=0.6, line_color=None)"
   ]
  },
  {
   "cell_type": "code",
   "execution_count": 327,
   "metadata": {
    "collapsed": false,
    "deletable": true,
    "editable": true
   },
   "outputs": [
    {
     "data": {
      "text/html": [
       "\n",
       "    <div class=\"bk-root\">\n",
       "        <a href=\"http://bokeh.pydata.org\" target=\"_blank\" class=\"bk-logo bk-logo-small bk-logo-notebook\"></a>\n",
       "        <span id=\"014ec924-2d11-41e2-92f4-ee11978e1b90\">Loading BokehJS ...</span>\n",
       "    </div>"
      ]
     },
     "metadata": {},
     "output_type": "display_data"
    },
    {
     "data": {
      "application/javascript": [
       "\n",
       "(function(global) {\n",
       "  function now() {\n",
       "    return new Date();\n",
       "  }\n",
       "\n",
       "  var force = true;\n",
       "\n",
       "  if (typeof (window._bokeh_onload_callbacks) === \"undefined\" || force === true) {\n",
       "    window._bokeh_onload_callbacks = [];\n",
       "    window._bokeh_is_loading = undefined;\n",
       "  }\n",
       "\n",
       "\n",
       "  \n",
       "  if (typeof (window._bokeh_timeout) === \"undefined\" || force === true) {\n",
       "    window._bokeh_timeout = Date.now() + 5000;\n",
       "    window._bokeh_failed_load = false;\n",
       "  }\n",
       "\n",
       "  var NB_LOAD_WARNING = {'data': {'text/html':\n",
       "     \"<div style='background-color: #fdd'>\\n\"+\n",
       "     \"<p>\\n\"+\n",
       "     \"BokehJS does not appear to have successfully loaded. If loading BokehJS from CDN, this \\n\"+\n",
       "     \"may be due to a slow or bad network connection. Possible fixes:\\n\"+\n",
       "     \"</p>\\n\"+\n",
       "     \"<ul>\\n\"+\n",
       "     \"<li>re-rerun `output_notebook()` to attempt to load from CDN again, or</li>\\n\"+\n",
       "     \"<li>use INLINE resources instead, as so:</li>\\n\"+\n",
       "     \"</ul>\\n\"+\n",
       "     \"<code>\\n\"+\n",
       "     \"from bokeh.resources import INLINE\\n\"+\n",
       "     \"output_notebook(resources=INLINE)\\n\"+\n",
       "     \"</code>\\n\"+\n",
       "     \"</div>\"}};\n",
       "\n",
       "  function display_loaded() {\n",
       "    if (window.Bokeh !== undefined) {\n",
       "      document.getElementById(\"014ec924-2d11-41e2-92f4-ee11978e1b90\").textContent = \"BokehJS successfully loaded.\";\n",
       "    } else if (Date.now() < window._bokeh_timeout) {\n",
       "      setTimeout(display_loaded, 100)\n",
       "    }\n",
       "  }\n",
       "\n",
       "  function run_callbacks() {\n",
       "    window._bokeh_onload_callbacks.forEach(function(callback) { callback() });\n",
       "    delete window._bokeh_onload_callbacks\n",
       "    console.info(\"Bokeh: all callbacks have finished\");\n",
       "  }\n",
       "\n",
       "  function load_libs(js_urls, callback) {\n",
       "    window._bokeh_onload_callbacks.push(callback);\n",
       "    if (window._bokeh_is_loading > 0) {\n",
       "      console.log(\"Bokeh: BokehJS is being loaded, scheduling callback at\", now());\n",
       "      return null;\n",
       "    }\n",
       "    if (js_urls == null || js_urls.length === 0) {\n",
       "      run_callbacks();\n",
       "      return null;\n",
       "    }\n",
       "    console.log(\"Bokeh: BokehJS not loaded, scheduling load and callback at\", now());\n",
       "    window._bokeh_is_loading = js_urls.length;\n",
       "    for (var i = 0; i < js_urls.length; i++) {\n",
       "      var url = js_urls[i];\n",
       "      var s = document.createElement('script');\n",
       "      s.src = url;\n",
       "      s.async = false;\n",
       "      s.onreadystatechange = s.onload = function() {\n",
       "        window._bokeh_is_loading--;\n",
       "        if (window._bokeh_is_loading === 0) {\n",
       "          console.log(\"Bokeh: all BokehJS libraries loaded\");\n",
       "          run_callbacks()\n",
       "        }\n",
       "      };\n",
       "      s.onerror = function() {\n",
       "        console.warn(\"failed to load library \" + url);\n",
       "      };\n",
       "      console.log(\"Bokeh: injecting script tag for BokehJS library: \", url);\n",
       "      document.getElementsByTagName(\"head\")[0].appendChild(s);\n",
       "    }\n",
       "  };var element = document.getElementById(\"014ec924-2d11-41e2-92f4-ee11978e1b90\");\n",
       "  if (element == null) {\n",
       "    console.log(\"Bokeh: ERROR: autoload.js configured with elementid '014ec924-2d11-41e2-92f4-ee11978e1b90' but no matching script tag was found. \")\n",
       "    return false;\n",
       "  }\n",
       "\n",
       "  var js_urls = [\"https://cdn.pydata.org/bokeh/release/bokeh-0.12.4.min.js\", \"https://cdn.pydata.org/bokeh/release/bokeh-widgets-0.12.4.min.js\"];\n",
       "\n",
       "  var inline_js = [\n",
       "    function(Bokeh) {\n",
       "      Bokeh.set_log_level(\"info\");\n",
       "    },\n",
       "    \n",
       "    function(Bokeh) {\n",
       "      \n",
       "      document.getElementById(\"014ec924-2d11-41e2-92f4-ee11978e1b90\").textContent = \"BokehJS is loading...\";\n",
       "    },\n",
       "    function(Bokeh) {\n",
       "      console.log(\"Bokeh: injecting CSS: https://cdn.pydata.org/bokeh/release/bokeh-0.12.4.min.css\");\n",
       "      Bokeh.embed.inject_css(\"https://cdn.pydata.org/bokeh/release/bokeh-0.12.4.min.css\");\n",
       "      console.log(\"Bokeh: injecting CSS: https://cdn.pydata.org/bokeh/release/bokeh-widgets-0.12.4.min.css\");\n",
       "      Bokeh.embed.inject_css(\"https://cdn.pydata.org/bokeh/release/bokeh-widgets-0.12.4.min.css\");\n",
       "    }\n",
       "  ];\n",
       "\n",
       "  function run_inline_js() {\n",
       "    \n",
       "    if ((window.Bokeh !== undefined) || (force === true)) {\n",
       "      for (var i = 0; i < inline_js.length; i++) {\n",
       "        inline_js[i](window.Bokeh);\n",
       "      }if (force === true) {\n",
       "        display_loaded();\n",
       "      }} else if (Date.now() < window._bokeh_timeout) {\n",
       "      setTimeout(run_inline_js, 100);\n",
       "    } else if (!window._bokeh_failed_load) {\n",
       "      console.log(\"Bokeh: BokehJS failed to load within specified timeout.\");\n",
       "      window._bokeh_failed_load = true;\n",
       "    } else if (force !== true) {\n",
       "      var cell = $(document.getElementById(\"014ec924-2d11-41e2-92f4-ee11978e1b90\")).parents('.cell').data().cell;\n",
       "      cell.output_area.append_execute_result(NB_LOAD_WARNING)\n",
       "    }\n",
       "\n",
       "  }\n",
       "\n",
       "  if (window._bokeh_is_loading === 0) {\n",
       "    console.log(\"Bokeh: BokehJS loaded, going straight to plotting\");\n",
       "    run_inline_js();\n",
       "  } else {\n",
       "    load_libs(js_urls, function() {\n",
       "      console.log(\"Bokeh: BokehJS plotting callback run at\", now());\n",
       "      run_inline_js();\n",
       "    });\n",
       "  }\n",
       "}(this));"
      ]
     },
     "metadata": {},
     "output_type": "display_data"
    }
   ],
   "source": [
    "output_notebook()"
   ]
  },
  {
   "cell_type": "code",
   "execution_count": 328,
   "metadata": {
    "collapsed": false,
    "deletable": true,
    "editable": true
   },
   "outputs": [
    {
     "data": {
      "text/html": [
       "\n",
       "\n",
       "    <div class=\"bk-root\">\n",
       "        <div class=\"bk-plotdiv\" id=\"6681ac93-028b-4d0e-a6b0-210c1c5663ce\"></div>\n",
       "    </div>\n",
       "<script type=\"text/javascript\">\n",
       "  \n",
       "  (function(global) {\n",
       "    function now() {\n",
       "      return new Date();\n",
       "    }\n",
       "  \n",
       "    var force = false;\n",
       "  \n",
       "    if (typeof (window._bokeh_onload_callbacks) === \"undefined\" || force === true) {\n",
       "      window._bokeh_onload_callbacks = [];\n",
       "      window._bokeh_is_loading = undefined;\n",
       "    }\n",
       "  \n",
       "  \n",
       "    \n",
       "    if (typeof (window._bokeh_timeout) === \"undefined\" || force === true) {\n",
       "      window._bokeh_timeout = Date.now() + 0;\n",
       "      window._bokeh_failed_load = false;\n",
       "    }\n",
       "  \n",
       "    var NB_LOAD_WARNING = {'data': {'text/html':\n",
       "       \"<div style='background-color: #fdd'>\\n\"+\n",
       "       \"<p>\\n\"+\n",
       "       \"BokehJS does not appear to have successfully loaded. If loading BokehJS from CDN, this \\n\"+\n",
       "       \"may be due to a slow or bad network connection. Possible fixes:\\n\"+\n",
       "       \"</p>\\n\"+\n",
       "       \"<ul>\\n\"+\n",
       "       \"<li>re-rerun `output_notebook()` to attempt to load from CDN again, or</li>\\n\"+\n",
       "       \"<li>use INLINE resources instead, as so:</li>\\n\"+\n",
       "       \"</ul>\\n\"+\n",
       "       \"<code>\\n\"+\n",
       "       \"from bokeh.resources import INLINE\\n\"+\n",
       "       \"output_notebook(resources=INLINE)\\n\"+\n",
       "       \"</code>\\n\"+\n",
       "       \"</div>\"}};\n",
       "  \n",
       "    function display_loaded() {\n",
       "      if (window.Bokeh !== undefined) {\n",
       "        document.getElementById(\"6681ac93-028b-4d0e-a6b0-210c1c5663ce\").textContent = \"BokehJS successfully loaded.\";\n",
       "      } else if (Date.now() < window._bokeh_timeout) {\n",
       "        setTimeout(display_loaded, 100)\n",
       "      }\n",
       "    }\n",
       "  \n",
       "    function run_callbacks() {\n",
       "      window._bokeh_onload_callbacks.forEach(function(callback) { callback() });\n",
       "      delete window._bokeh_onload_callbacks\n",
       "      console.info(\"Bokeh: all callbacks have finished\");\n",
       "    }\n",
       "  \n",
       "    function load_libs(js_urls, callback) {\n",
       "      window._bokeh_onload_callbacks.push(callback);\n",
       "      if (window._bokeh_is_loading > 0) {\n",
       "        console.log(\"Bokeh: BokehJS is being loaded, scheduling callback at\", now());\n",
       "        return null;\n",
       "      }\n",
       "      if (js_urls == null || js_urls.length === 0) {\n",
       "        run_callbacks();\n",
       "        return null;\n",
       "      }\n",
       "      console.log(\"Bokeh: BokehJS not loaded, scheduling load and callback at\", now());\n",
       "      window._bokeh_is_loading = js_urls.length;\n",
       "      for (var i = 0; i < js_urls.length; i++) {\n",
       "        var url = js_urls[i];\n",
       "        var s = document.createElement('script');\n",
       "        s.src = url;\n",
       "        s.async = false;\n",
       "        s.onreadystatechange = s.onload = function() {\n",
       "          window._bokeh_is_loading--;\n",
       "          if (window._bokeh_is_loading === 0) {\n",
       "            console.log(\"Bokeh: all BokehJS libraries loaded\");\n",
       "            run_callbacks()\n",
       "          }\n",
       "        };\n",
       "        s.onerror = function() {\n",
       "          console.warn(\"failed to load library \" + url);\n",
       "        };\n",
       "        console.log(\"Bokeh: injecting script tag for BokehJS library: \", url);\n",
       "        document.getElementsByTagName(\"head\")[0].appendChild(s);\n",
       "      }\n",
       "    };var element = document.getElementById(\"6681ac93-028b-4d0e-a6b0-210c1c5663ce\");\n",
       "    if (element == null) {\n",
       "      console.log(\"Bokeh: ERROR: autoload.js configured with elementid '6681ac93-028b-4d0e-a6b0-210c1c5663ce' but no matching script tag was found. \")\n",
       "      return false;\n",
       "    }\n",
       "  \n",
       "    var js_urls = [];\n",
       "  \n",
       "    var inline_js = [\n",
       "      function(Bokeh) {\n",
       "        (function() {\n",
       "          var fn = function() {\n",
       "            var docs_json = {\"da07809c-2f14-41e4-979a-1245487b9bfa\":{\"roots\":{\"references\":[{\"attributes\":{\"plot\":null,\"text\":\"\"},\"id\":\"ff7671b3-716a-4000-8d42-38c010bf05dd\",\"type\":\"Title\"},{\"attributes\":{},\"id\":\"b4b8cf33-a1bf-4f89-945b-5e2b36f80548\",\"type\":\"BasicTickFormatter\"},{\"attributes\":{},\"id\":\"6e877a93-61d3-4268-b189-3d4c2f096087\",\"type\":\"BasicTicker\"},{\"attributes\":{\"formatter\":{\"id\":\"b4b8cf33-a1bf-4f89-945b-5e2b36f80548\",\"type\":\"BasicTickFormatter\"},\"plot\":{\"id\":\"982d8c77-08e1-4eac-a22b-6b192ff24a55\",\"subtype\":\"Figure\",\"type\":\"Plot\"},\"ticker\":{\"id\":\"6e877a93-61d3-4268-b189-3d4c2f096087\",\"type\":\"BasicTicker\"}},\"id\":\"693a7b2a-94a2-4bb3-9fd7-f3c2c7bca601\",\"type\":\"LinearAxis\"},{\"attributes\":{\"bottom_units\":\"screen\",\"fill_alpha\":{\"value\":0.5},\"fill_color\":{\"value\":\"lightgrey\"},\"left_units\":\"screen\",\"level\":\"overlay\",\"line_alpha\":{\"value\":1.0},\"line_color\":{\"value\":\"black\"},\"line_dash\":[4,4],\"line_width\":{\"value\":2},\"plot\":null,\"render_mode\":\"css\",\"right_units\":\"screen\",\"top_units\":\"screen\"},\"id\":\"224f1783-cffb-49e6-865e-94b9083fe0a9\",\"type\":\"BoxAnnotation\"},{\"attributes\":{\"formatter\":{\"id\":\"0f04174a-f59a-456a-bb68-b8f4e80cafa4\",\"type\":\"BasicTickFormatter\"},\"plot\":{\"id\":\"982d8c77-08e1-4eac-a22b-6b192ff24a55\",\"subtype\":\"Figure\",\"type\":\"Plot\"},\"ticker\":{\"id\":\"4eaef122-2ec7-426d-8b1b-c011250cfd02\",\"type\":\"BasicTicker\"}},\"id\":\"856b9a09-04a2-4eb8-b96e-dc863033abe6\",\"type\":\"LinearAxis\"},{\"attributes\":{\"data_source\":{\"id\":\"932bb470-3d95-4e1a-ba0b-362c45d1fbb7\",\"type\":\"ColumnDataSource\"},\"glyph\":{\"id\":\"49b81883-377d-4ed9-830f-0352c1e0c484\",\"type\":\"Circle\"},\"hover_glyph\":null,\"nonselection_glyph\":{\"id\":\"16179984-0f84-498e-b147-fe4ad7af3877\",\"type\":\"Circle\"},\"selection_glyph\":null},\"id\":\"ea4b4376-0181-4a0d-a0f0-6c8d8dc9a30f\",\"type\":\"GlyphRenderer\"},{\"attributes\":{\"plot\":{\"id\":\"982d8c77-08e1-4eac-a22b-6b192ff24a55\",\"subtype\":\"Figure\",\"type\":\"Plot\"}},\"id\":\"3811ad22-c858-4160-b94d-43b7ab128293\",\"type\":\"ResetTool\"},{\"attributes\":{\"fill_alpha\":{\"value\":0.1},\"fill_color\":{\"value\":\"#1f77b4\"},\"line_alpha\":{\"value\":0.1},\"line_color\":{\"value\":\"#1f77b4\"},\"radius\":{\"field\":\"radius\",\"units\":\"data\"},\"x\":{\"field\":\"x\"},\"y\":{\"field\":\"y\"}},\"id\":\"16179984-0f84-498e-b147-fe4ad7af3877\",\"type\":\"Circle\"},{\"attributes\":{\"plot\":{\"id\":\"982d8c77-08e1-4eac-a22b-6b192ff24a55\",\"subtype\":\"Figure\",\"type\":\"Plot\"}},\"id\":\"bc670d95-22fd-4394-9d9d-41906a3bc6e9\",\"type\":\"SaveTool\"},{\"attributes\":{},\"id\":\"4eaef122-2ec7-426d-8b1b-c011250cfd02\",\"type\":\"BasicTicker\"},{\"attributes\":{\"plot\":{\"id\":\"982d8c77-08e1-4eac-a22b-6b192ff24a55\",\"subtype\":\"Figure\",\"type\":\"Plot\"}},\"id\":\"82b9a16e-8c08-464e-aff3-192e97eba3f9\",\"type\":\"HelpTool\"},{\"attributes\":{\"callback\":null},\"id\":\"b274595a-50ed-4253-a34a-222c865f0ea5\",\"type\":\"DataRange1d\"},{\"attributes\":{\"plot\":{\"id\":\"982d8c77-08e1-4eac-a22b-6b192ff24a55\",\"subtype\":\"Figure\",\"type\":\"Plot\"}},\"id\":\"d82ed13b-129d-400b-9547-df6c2ab8412a\",\"type\":\"WheelZoomTool\"},{\"attributes\":{\"overlay\":{\"id\":\"224f1783-cffb-49e6-865e-94b9083fe0a9\",\"type\":\"BoxAnnotation\"},\"plot\":{\"id\":\"982d8c77-08e1-4eac-a22b-6b192ff24a55\",\"subtype\":\"Figure\",\"type\":\"Plot\"}},\"id\":\"91f80fa9-ecab-4bcc-bb0c-2cdae7ba856e\",\"type\":\"BoxZoomTool\"},{\"attributes\":{\"dimension\":1,\"plot\":{\"id\":\"982d8c77-08e1-4eac-a22b-6b192ff24a55\",\"subtype\":\"Figure\",\"type\":\"Plot\"},\"ticker\":{\"id\":\"6e877a93-61d3-4268-b189-3d4c2f096087\",\"type\":\"BasicTicker\"}},\"id\":\"70917b22-05ae-4777-938f-9e947c10d249\",\"type\":\"Grid\"},{\"attributes\":{\"plot\":{\"id\":\"982d8c77-08e1-4eac-a22b-6b192ff24a55\",\"subtype\":\"Figure\",\"type\":\"Plot\"},\"ticker\":{\"id\":\"4eaef122-2ec7-426d-8b1b-c011250cfd02\",\"type\":\"BasicTicker\"}},\"id\":\"2ea09652-4c01-4538-af9d-4e8fae4a81a3\",\"type\":\"Grid\"},{\"attributes\":{\"active_drag\":\"auto\",\"active_scroll\":\"auto\",\"active_tap\":\"auto\",\"tools\":[{\"id\":\"0306cbca-62e4-402b-a50d-4254914d9585\",\"type\":\"PanTool\"},{\"id\":\"d82ed13b-129d-400b-9547-df6c2ab8412a\",\"type\":\"WheelZoomTool\"},{\"id\":\"91f80fa9-ecab-4bcc-bb0c-2cdae7ba856e\",\"type\":\"BoxZoomTool\"},{\"id\":\"bc670d95-22fd-4394-9d9d-41906a3bc6e9\",\"type\":\"SaveTool\"},{\"id\":\"3811ad22-c858-4160-b94d-43b7ab128293\",\"type\":\"ResetTool\"},{\"id\":\"82b9a16e-8c08-464e-aff3-192e97eba3f9\",\"type\":\"HelpTool\"}]},\"id\":\"5c3952a5-0364-4c4c-a740-dff92a8a2d08\",\"type\":\"Toolbar\"},{\"attributes\":{\"below\":[{\"id\":\"856b9a09-04a2-4eb8-b96e-dc863033abe6\",\"type\":\"LinearAxis\"}],\"left\":[{\"id\":\"693a7b2a-94a2-4bb3-9fd7-f3c2c7bca601\",\"type\":\"LinearAxis\"}],\"renderers\":[{\"id\":\"856b9a09-04a2-4eb8-b96e-dc863033abe6\",\"type\":\"LinearAxis\"},{\"id\":\"2ea09652-4c01-4538-af9d-4e8fae4a81a3\",\"type\":\"Grid\"},{\"id\":\"693a7b2a-94a2-4bb3-9fd7-f3c2c7bca601\",\"type\":\"LinearAxis\"},{\"id\":\"70917b22-05ae-4777-938f-9e947c10d249\",\"type\":\"Grid\"},{\"id\":\"224f1783-cffb-49e6-865e-94b9083fe0a9\",\"type\":\"BoxAnnotation\"},{\"id\":\"ea4b4376-0181-4a0d-a0f0-6c8d8dc9a30f\",\"type\":\"GlyphRenderer\"}],\"title\":{\"id\":\"ff7671b3-716a-4000-8d42-38c010bf05dd\",\"type\":\"Title\"},\"tool_events\":{\"id\":\"1a493c1a-2771-4dc9-9b74-d112ef388b82\",\"type\":\"ToolEvents\"},\"toolbar\":{\"id\":\"5c3952a5-0364-4c4c-a740-dff92a8a2d08\",\"type\":\"Toolbar\"},\"x_range\":{\"id\":\"3bdd410c-31e8-4228-9b22-94a02f6a0138\",\"type\":\"DataRange1d\"},\"y_range\":{\"id\":\"b274595a-50ed-4253-a34a-222c865f0ea5\",\"type\":\"DataRange1d\"}},\"id\":\"982d8c77-08e1-4eac-a22b-6b192ff24a55\",\"subtype\":\"Figure\",\"type\":\"Plot\"},{\"attributes\":{\"plot\":{\"id\":\"982d8c77-08e1-4eac-a22b-6b192ff24a55\",\"subtype\":\"Figure\",\"type\":\"Plot\"}},\"id\":\"0306cbca-62e4-402b-a50d-4254914d9585\",\"type\":\"PanTool\"},{\"attributes\":{\"callback\":null,\"column_names\":[\"radius\",\"x\",\"y\",\"fill_color\"],\"data\":{\"fill_color\":[\"#084594\"],\"radius\":{\"__ndarray__\":\"cE4x3nHy2T8Y4t8PadHAP0jL4TylHOU/BdHp6gvF5z8CW/cpGp3TP09rk8Fku+c/s2buIzrc7j9knpbS83bYPwSGkDH/eOo/BLQGcg3z3z9G0s28a5/vP58/ZtQLLeU/Fr/yLEgH0T/9oRbLtl/oP7ThUUc2Xu4/FCv0Zom37j97AmnYf8XqPxiQSuZEIeU/4xtfx7di6j8YN1qmL03nPzjnTL9A0b4/TbyRw6LY5z/c3PpQ7RPrPxxT2wbfENQ/FGu/1p/p3D9Is4RX74LZPyPjQZ8x0uM/QopYSmMD0j9sD449ZYXBPxw434Spi9U/U4ogQsm64j/fJdQSyhXsP7zj4+LBSNk/okb3DYnc4T/3HhC8AsLpP4zaxy9geeY/1RYCHgkg4j8PQldybnDsPygG5my/378/cGmlhbhfvz+UOBQcJSHpP+UstZWVuOQ/R1G8LjtC4j+EMAroiDHiP6hvXIN87u8/XrGYcnYJ2T9kYBruxajVP+DfCnprSuQ/YAp6EXxWnz/Mcvo5hnrmP+rPtx3/Gdo/DABmOyVd7D+2ndD/mjfZP+SQ3i7+lu4/0lKFSQoL5z++duVeteHtP9/MNrLOb+I/+vjXnTTG7D/FGAfY/VHjP8aDVSYxU+8/6wA4YACZ5z98P8dJgrvgP+DX9nsWkr0/QHSOFkwh6T9E2z5Fep3jP08/i8bUKus/Afqub+N95j/MLkBwFVrjPw1/P+in2uA/thx1h+Zb2D9v/x9vzh/kP6DHUC/jvec/2ti4ism/3j/pY2Th3Q/sP8UWjSFY2+A/4p6noTQG0z+wq5NNG5DmP6A2EEOn8qo/6l3x4MxB1T/0NU1nQqPZP9S5xEFuLNQ/AGSynDtPqD8M0socrb7CP1dzd40BrOk/x9UW3HbX6D+UfnAwFW3LP8obrM8riOs/d7VHJfar5T9boFseIJTkP1pPWK/gduQ/ES06habU5j8aCltyFdXuP4O16HdSjeM/5BKHyWzawz/gAILP/WTvP+a8COQCM90/tPU+wTwT7z/w7996RN7MP1pADqVSnNg/vs11kWNh2T9w+Pm0E9WhPwDI0T19c70/oIM1YOtOqT/fX/tp9wPgP1SL587Ra+c/DXqxIBQy4D/4x7RXL8HKPxCGb+dlh8s/sEnLijY2vz9VRlt1RizuP+a0P2FdE9s/MIezwy2HzD8BaO/iIKfhPynLDe3wtO0/UptOaNdn5T8+9OUmR9XWPxBJWgKhh7w/UOCEqphPqj+csvmgqb3nP8AlRJJmypY/Cr1QG5yz1j9bdgvB10HqPwF7ytEKmO0/HJPuGjai4z+pyWP9PfjlP4rBzJJBoek/gIo84zce4D8Ib/lHABPBP9OfXAVrfuo/Co47sPQV3T+GQRNhLmraP2j9B+uq4N8/htgl7FV80z/WtxSaB1blP+Zi72qMnuM/fnhEl1241z/6XuiKRhzhP2H5bge/sOg/eBAa/GENuD9mAdQLWiHgP1JDeGQDxug/2H4l5RJJ0z9lAyCoIuXpP1iT/6qTLdA/GPJWRRfhuD8DoLMsgbbnP4DFzJGYkOU/hDHylgl91T/UWczUw8fpPxawOlyc/ug/wGSmLpdeoD90gLzjUPHlPwFCdf8Yw+o//1MK+E564T+9qSsZ/3zrP1AsIRzU+ug/2Kt6uMeKzz83S8HU4jbvPyYT7l6PcOg/eFwRUG8O4T9UnhXtuhXrPzRHWE7hBtk/sQ+hwIHO5T+sowbJ9xfLP2xWl6lqs+8//DT5HCHQzj8L6hVcc/LqP2D2M9X7Fsc/rKKoOldzxj/Yxmp1sl7vP5KE+9R2Stc/zPXuFB01yT8MlUx7wCHhP0RUtRWhi9o/XA3EZOay4j8ibD5yoPXsPwALJSnHIGI/9PfwEmZC2T/OtikOe3fmP65920bk++c/SqGFTanK6T/QKhycAPjPP+BfjDeR28Y/ylMMYLwR4j904iv+xz7YP4AeZWZFCIE/0B7btGkl3T/Ac1ueItbcP40jiq1juO4/mNW2neSBvT8NONSJXBTrP7TbtozZJO8/veM9XgD77T8pC+RnbdjuP5YSVrkNP9c/AGf7GxMP0j8GyGRoslLlP4CLlaiezeA/ngQcM3KC2D+Td0Jra2DtP0wSk2Yr9tI/kpSE4xLv4T94+VxjCfDoPyAM8/aCrN0/xgffpRA24z/SyfGvlgHZPyx0r3MMlsE/KCya4Cif2j9SOtaOKK/fPxCf3vJxM7Y/fdGu9dL16z/f5otEASviP7M3/MyFtO8/aJKM9HIx1D8wr5wAFJCgP0MvFRLFteQ/4udjkUUP7T8iPm4GYPbYP7KisX7wZuI/HqtUzaaJ3z+8r4a4yy/IP0D5mf+Rl8A/UPUl1k2vwz8Y3VUBUFzTPyzozU+sVMI/Ah9A9RLE2D/79GhCrFLnP0Ce+k+Pkck/PaHGITkR5D+A7z1HHsyhP9EyLKq+z+0/cBMRBQib4z8mTygivC3uP3gvQ/S4m7Y/5AqQcQqX2z8XlySoeYDvP6gIUuna7bE/54WTT9x24D+Cs/GyaUbuP4aEaLf3AdE/vI8r0n3LwT+40pR371vWPwL93zjLC90/lHaCU496yT90oeMsgw/UP+pwOUFci+c/BoBR1nFu1j+sxqv083HkP7BqUoGwdbk/4kX84SUV3j+MzZisYoLnP3ZxFwAKpNc/qp+ntgwg4D+kh4D4ncrGP4JbFDGcyNE/OwCXM3Ht7j8Miwwk6TTDP0r1DQJsTts/Hzzr5/yP5z8BfERWcqLqPxm8ol20vuA/uNbAO5UlwT+Q78TBQR3OPwh1MHDXiOg/DJT1q1sw2T8krzggZz/RPxBjRYYJybI/nytROr4A6j+hUp6ccnTnPzQLaAqmZtA/NPi1clWYzz/lUCFJyNTgPy5Xi/E83tA/GngiLWv81z8IFOWLQ9zYP/FikidLzOs/vCAOH6KX0z8oHdCHW8jZP9QgmMsQ+MA/JkvG48wM4j9anXjugSXbPwC4HvBK+G0/vi5Lc1S05D8O9g9XvovdP2o6WmcxbuM/sK37dNoKtj8+LM27k9zlP2z8TfKCJuY/8PKnYb0G4T+YdgH6Q8nRP7mKWGTCKOA/8MrV+BZbtz9Sk/hWfmvnP2CZeNV9/Og/9ARfye7n1T/fr0LH/qrhPwCbc0r446U/6u6e4xn11j8qcoIAuJ3jP8+K+BnTVu4/GMxcs+6Bsz/peK2Mzv3qP5pdXKG3YO8/Wg4ORgvV6T8QcvCGsSvpP7gbAbjYV+c/c6rSqgYS6T8ommt3ONHWP48qtda1t+0/iNE7X/TIzT8ELLXm+SzXPw6uwXkP/Nw/eO3fpQ1Jxz+Zfdd2n3DsP87koggCqtI/nF6rrafr3D95c1KtSg7gP4DaMQBnacg/ohvUyqGF4T/YN+upiRTGP45WKpDNyu4/xAG5cP1t3T/QW8J+NgvOP8clC7zI/OY/FdAGZqM37j8cXwMlc4TiPxQgDtDcDOI/0PWUzQP/6z/28XqoG8fqP6GbckxE9u0/Fh7Ash/U6j+odJVbpkjEPxgRfdaAAbA/2JDXOIur3D8Ou+hBIhDdPwDzvho1sJU/hc1YxBT97D94PP2cZTDAP6BmNvJI45Y/tFLcQtsXyz/GntNcqXHUP6AhmfrCCJI/DWciZtsW6z8HWQwLgorgPzSesuZZ9tA/irdE+9WG7D8dYYsmmyDkP/HjTCaNoOQ/oF9Z8cQivz9LEEYJ7gLuP8CbQ5C3H8M/azzhx7mx7z+g7BHy/kXvP3RKwWWFLeg/8EIO2ha/tz+GbaL/t93cPxLrO+YAd+s/JrEY+sbv5z/M/DaPBvrtP3D+Z0vGk6c/Pl5DFk6B0T8gaxikoMOpPy3uO3ipTe4/sGwhMvymyD+fh+HwtnjiP+PJeamgS+g/2rz7DeRB1j/w99xWQ1zQP54+vCwFXdI/CLyALKhjzT994KnyftfnP6dj7KMHeOU/ZLEyXdYPwz+H17dubdvnP6nHy7g0JOw/oPUwEkXsmT90TD85SPHpP2ZctNA8YN8/LEQzzIy+xT9mTM5SpozXP/xwkN9sgMI/NjY4wOAK3z+eoD8M7AbcP7+EJk377+I/YGjLtu5RxD8gQm+TF8/oP4iLngm5Q8U/LDQkry4r7T8CqPMp5lzYP1TU1JxS3eo/jIGOJmalzz+m4urGy7XbP0CO78hGEo8/oadASlzP5j9K2gTdqXrbP5hIrL+9leA/+/HEsCMM6z9YJXQlEVnEP2o58JwEC9A/pIkwn1OMzT/APhe3od6mP5z+zjhbAN8/SmX5EKyh7D+ErQP62VbuP37amHg8N+E/XV/jrUWi5T9K8/qSGs3hPwTx60IPdu8/8CmicCogoD9wGjDfL3OvPz3Uwxg4Nuc/Freay85/2D++cPfGZjntP7ayhiTbkOQ/MIcyGFlitz8A1nFX8HPVP2MhlEbSe+o/HbwTcyRw7j+VIstKex/sPxoyNNmO89c/OUo90jWi6z/Id9l158LTPyQDifnSo90/uqaLImnB4T88IGFLLhTMPzCxgy1LJao/bHxdJdXX3D8YPzBw+tDmP0ZMC4nwVOs/rjgYq1G81D+gpVHlshPPP3WDPExIXO0/QKqXxiAF0j8qCxJ1biTjP3rSwwQa4uc/vkqjkF6O6j+mt9CYUFDfP1BD+1djdd8/PAvLwQk41j8oVZU+TJzdP48Zj8ANJeU/Dg+lEC/w3D/cWpXSwyTAP9Bzt/pVLbM/mAdMi0kazT9Mht/Sz8rLPyz++9a228Y/s4azXEBy5D/0W6gJVXzAP5g1g3b8BbU/Ulbw9lX67z+oQiFc7ZHIP8V+a53jUuw/WuNC6AN96z8g529kOkrsPxiRXkfvPN0/4A9olf7t2z/Jcfc13JnoP7lHx6j1ROI/KkV8XRXU3D8U9lm6aZnDPxbHEhpP+No/KhTQFlaq4j8VGHWcJm/uP+A3Jv44F8Q/cHtpelpEqD/sz1fvHC3UP7LXeONBPOQ//FaPstGz5D8V+1a4NrXiP3jysxKcSeQ/8PEw+jMx7j9gyo2vCnaiP/ybOKS59MY/hDg1AEIV4z9I0+pqsprFPzD1vOjkK9Y/XKN/VVLLwT/4syo7mOfCP14s3AXLd9I/UkULvFHd1z+waXKggnPaP0AFpNYIqNI/t0YPPme06D9bHu4MAQvjP7joEE3JmNw/RsGMH4W40z/gP9cyzqnSP2pRvSd1y+0/6OvsPXvEyD8cX7BlLrXePzWn6bMEzeE/4JF9Sbd1tz8yC5v9qyjnPzdr/sw6yek/U3m61BNX6j8i2qcuLO/qP0iL472TAso/UwPrXyrz5j8sqYvTJybZPzc47Qn2NOE/7WChRx967j/xA9rGfZXvP2WJLU9pQ+4/QFXuHTTR6D+Vn8iLebTgPxCCblO9y8c/7egznrjY4z/DTm8aHwTtP9C7i2Y7Vb4/hRvK+8xY7D+oOa1OK0XdPyHj/hB15OQ/vlWwCr9b2D/GtYLlmenbP9DrT1QhXdg/WiaEfFO44D/QAE4uNKjNP3IXcjNhkuY/KnmnG6do2D9S3G+Q0RXnP0WSd2vTb+U/eLSy0kS52z9w8cyU89K5P8CoeGcmQsc/cL8KwGoxpD8E3dA9TUHlPwWWbSj8IeQ/E69OnyaO6T9YXU1xkva8PyF2gpJwvOU/vPMZIP0q2j+6IWPi6EjSP2gCrL4vvMM/pubtKM7w6T+JvgIxdkzlP/gbqxabR7U/qihuULAx4j8sTghaSyvIPwmbcb8ocuw/deoUzn8E7D/hLdoDk4PoP6Vkw5ZR2u0/AATl4tCQuT/wnApYKz+3P+4KlSrxPtY/w0rCgMGE5D+Ky2XkV5DrP47suzaBwtE/LBIQOoqx0T88/nz2Tr3TP+bvCPJi3tI/wwbYFPBw7D9dQWj6YJDvP8iY/kfoJeM/lHM5FYYI3z8m3bIDRFDvP2AIt1jwp68/sIb7h66X2z/ymu7kcObVP/A5T2gYI70/oDhp0HBBqD9XweO+x6foP3uvUSPrJeM/XMeoLzMXyj8ANOOgDB+/P+A66q1IaK4/rdbXeBME6T8AyME6j9RQP37GTUbPvdg/yhKAjdmF4z/QdmIA+6XfP2YPBokQRNI/TuKmzryu6T+weGz3nafCP91ClmRlIe4/fQbc8W916T8YmFBNVV7FP8Pt1mX9F+c/eU4CjLaI7z+M6lQwTPzfP8hTTDI6ib4/6gAym9vO7T+waFRcqSLvP31XXtTXUuk/3sElNx0b6T/0DQVpXGXRPzCZkE277L8/WKX0NWAC2D8yh0uV6h3ZP7iTKHz6kuQ/HpARKsYo0j+mKONfmtfgP53Tu+8/9ec/SFRMgTsZ2D/kovxKRZnRP8Y356pvXdQ/MJAbHBRyuz9bHWtENy/pPyCmJd/3kao/NaFft7S75T9riJt9wTDuP/D+Jk5E2rc/xTJc5ZIB5D/GFBtMTu7aPym1odVty+E/XTtIUzhM4D+8cmYNMCXCP7ipDH3LndQ/SglXGs1v1j8g9vsg9FzFP1TjrcRB19Y/pBviGgd26D+CYUu+h8nbP/AOjIgAm7o/kbg940F/6j/IZO6tj53MP8AGSvTp0Ic/Pg4zplXR1T+ApAPI81d0P5LUTJpqOew/Wj6hCd360z8R3o1rJfTjP1C5pJGuIOg/2Bz/W2Vu0D9yIlAzJKrqPyStqkrchdE/C3fP6A6F6z+Q4mfYd/m9P1iVAEO/Zb0/hJDtmS3qxz+M1a1c8MbvP7BlnfoaU6Y/+A5hqNPzwz/kKLFTb+TFP/TwP1T16Og/qs+aPcPh4D+47MDm3y3jP3BomJsLOd0/7pfOocit0D+khp3QMvzjP+IGMkxpg+s/ugPMAmyu5j/Kjfcw8d3vP8zzUM28Y+w/W9uN7CEU7T83Fc6pkajrP5zus2zPMO0/hN5941lj6T+YSpkQ2erZP2TCUq4hRM4/qnv23J592z844cFocWDUP2jehKuDvtE/yheR734w0j+Q4k72A3PlP9xidlRjRdw/ZyslIgLl6T9UZrEU6tLZP6o8YE7k7uM/rDMP8DUk6D9gbM08FB+7P7bJxmQaeug/cCYQc0bi6D9yB0phomTnP6xlP3UcuOE/Gk9oZMOJ4T/wcBSfyPmsP3FDIu7GZ+I/5l2MWpfd3j+oSQ8ECjXNP+qZ9KOgyOg/IyX3YHYI4j9XdxDkbUXlP+T2vjF9oMs/IEydL03u0z/Z1nxOX5viP/sJs1832Os/JpzES9N85T9S5sMMOZXZP8zofeB119Y/FtI3OQ5s4z8sooYK1HLtPx0OaJBCGe8/CBg5BOZbxz9NZMwpvm3uP5ja9cfcR+o//N19urnyzD/gkUpDBZnjPww9evhHReg/1Mg9F6jg0j/oPBPlmOjfP2DZuoGftqo/oADXnJHc7j/8crGUn43VP4Q2KRxYIck/8Rm9mKGF4z+QoBflNHjPP7AR0Vik2tU/sO0R7BF04T8os4QgZfGyP7hIhpQyhM8/5b+dJJB66D8okOkMXE7QP0R3pozzndA/85VZUkCZ7T90wa8d+kfXP4DQsB4yX44/y5OgZu596D8lmvlf0S7gP0JXS4xsJtw/FDhAwH6U0D9m8ED84ZPuP9AWXQw16q8/5ZT1GlYz5T8AvAH7GMjOP9juORlSC78/lh7ZEwPk0T/Z5hQzjrPjP5o6zfDzK9w/uPlrzob2wT9mWdlvfanQP17ZMDMCzd8/vWbprlKG4D80TElT7vrYPxLQv84qedI/nmch5ujP2T/IBX7PcpjHP56849n4o+A/eld1ZpbR0D/3833M9iniPwiGap/baLI/rdVu/PgJ5T/IZwHWIfjlP2Ao4ok4ae4/clbKi3A70z+ArNzeSNDNP9hCKNfcBs4/zHGTWvmPyT8mWwpWOt7XP1RjyI0ufOA/Ii6Bfkyj2D/wHeWtWA3UP+SliTK+Ztc/mHX1hU3sxj+XqsPyy9ftP5AepmB2IKk/AI7HZ3aBWD+EUaKZmzTsP1mCok6o5OE/JMNBufH9yD9HqwuaRzztP40t2Fr0Fu4/OydBXBui6T92ksC0PETYP8P5ZdVFeeo/gAtgwzaB3z+oC+t8fFfHPzjvUUJY09c/OAeIbNjV1T/aq3SOutvoP38KvJUdjuY/96E9MGFN5z8Q/oGyG/2nP+Q+t9rqt9s/Of1iJj5g7T94lzv5DtbdPxhkKPVFysU/iMU1H5sn1j9UtuhzhCPfPwiKl8eow8M/HUgyLMvD7j9D8Xl1iu3qP+A9zU3iFpY/dq09i0Ed7D/DqT8CqGvvP/rBfri9StU/+jYP4MYR6j8MBXUJ69ffP+SofAMDMcQ/wK3ycrtSwz9YrQE6UM/sPwz+319mT8E/Ks95WXjT5D+crnrG5c3jPxz4OUH/bMs/ANCXKbJ7xz/g2qTakbevP9B6RHYw0MM/sPju6sug5z/2f6NAUKrYP0B08zPQKbk/PBt8oKm/7D/Q9Tp7i5fLP2g/WiOLMdE/zFsb2wubzz+0s10dIEjNP5Q6I3a7ucg/XjVhn5ys1T/4cS4phYzePxAXDxVjC+o/YJpPDjlcnj+hPF001aHjPwgNxRHAurE/1q2L3qOJ5T9w9QxXgNCuP/5Bajk6xd0/6gCZUBvD1j+qjrY2/rDfP1oX3cPQa9I/YUAb8oTK6j9a/E7Hs/nSP4IXtf1Sm+0/1WyfUEco4T/P6PnwbvfhP7/QKnQGXeU/BFfC49/y1D/0YRExq/jTP0AFHpJw5NA/Hl6RaO+T6T8we1aAf6vaPyDw9f0ta8s/TF75o+LQzz/zoC94XV7sP2AOxJvYtOY/fC9QXZV52D8qn9fiyPHgP6zzmw67M+8/hP8pmPT7yD94hAzs2Hu6P6BQqJ28haU/HiOXg8wb4j+cndzs4E7EP4zzOauxaNU/ADrzD8CnpD/UJlJh81TJP+ze3Dw8Gus/0PZRmFhS2D+bAK7Npb7oPyysl6Zi1N8/zBIz0hukyD88jioxOH3gP5CVmn8FS7E/K3gMJZH97z9Cr7Xu8EXaP7Ps24kYP+w/l0HTL8IX4T9cKSJZPtrWP6ZuXe8ueNA/zDjuLoXn0z+HLdIwjYnpP4z8dipCi+c/9CaaclYG2D98aA93LJjFP7z8rFT1qNs/pq4S6pfW1D9ojI27lVntPzUQomOV1ec/hjAEzn/p5T8RZSdXooviP1DXIhS+oqE/bqqOLNJo2D+C0IGDq43sP08ICgF2lOc/4Hn3RtHF7T/YAxfVYVSwP5TZ2Gkck8g/UpTc3usz6D/WpQVxcKzYP8iiBws/G7A/3ExsU+/c7D9kB/hUu2HGP1nqLyNNTuk/WsfDYdK47j+Ju9NxzvzpPwrtVw4i9O4/vkWDbk1K0z/cMa5ioGPMP/5JHFRVY9s/CGSTFLFfwz/PSdhUAQ3kPwKia4AMo+M/dpqkUMYY3T/+fXxJ+ZHrP1BnhIlYFt8/xvswiv774j+uNGJxrHDYP9r4K3CxKN8/6ryE4VP07D8QoMPwxEivP+4aUqbZfOM/iJXv9GzH4T/Uc3zcEa/sPyKSmS92jN4/3mCkcitG3j+Qr3w34/q3PzCJiRPDe6s/HozetaU40D+AySav1LzFP2hZTjDw4MA/0XUwUTZ35T+AXrY4rHubPyCc+tT0i8Y/gQlezeyF7j9/tBsWqcfmP5Bxy5kS4Kw/4LTaUmqzwT+wfafKlhPCP3A8f+FcQKA/NxXviutj4j9QNKK1SfflP5xuJIWz9+U/oP02SpLb2T/4snpH14naP7RYz23uldk/cAoz1rWMxD8AsuGT9LiuP55Iasveq+Y/kLzrsYyztj/cYHd1bJDVP1zABgrL19o/ojB2C/KM1T9QxUMQx7/dPwpc1+MM8uw/iDafM+egsT8tSJiC6T/kPyVBEA07Iuo/0gpj3lA22T/4xtNlz7vvPwOpt4BpZuI/0IltXWDuwj+wenbPqMPYP8yp3OXtTs0/YTI7bvXv4z/Jl3hNUzbmP/VqDjQemeE/QhM5kEI90j+Y+Alae7zAP8Bah/wF/d4/SUtN4iOa7j8SJKgXKnfqP8/z9ajtBOg/EEsbsOZWsz+gIfHBnPXoP5Ar7mixmcc/mV0/7I8k6T9UJq4YqCPPP+Ew6y02jeM/BBBbzVPY3T/U3IfEvbzTP9tkxXIgMuI/+voVgrZV2j87SZcRw3ToPxIJ9fOHK9o/oLpdm6MCvj+4G5469qTrP8S9q1YDTt0/N3GAC+ij6j+4hYId4PDCP0AFemVKqJc/o3gIhY1O7T+UvhqVnBToP2uwxpjJFeg/LGzAvREh6T+9paOZA5riPwxCLhgtxsQ/YAX8LMITlz+iFGSc94nYP0qdn53U1OM/QGY9JBa0nj+AlO39OR61P00RymNqXuk/7qrPKQxu3D8Q7odmAxrqP9ydN1dD9e0/2MxBLtGjuz8wfhTqFm7DP8kRJcoQwuY/E5JvUXCk7D88wnAWtjLSP78rwcNYPek/0pAO1aMW5z9+BuVROTjoPxjCX45BzMs/vrWSeF8z7j9sZq16sqzNP1dZyW9nv+M/FsWkw78+5D/IhIIRwfvJPzRykDp079g/IvuVy5TF1z+skSxtOlHAP0pOtpPQMtw/8vrv8N5C4z/Q5Kp+JYreP1Dmsu+KsMY/Agx1JaPM3j9I8LQy2knbP5iZE8s5N9w/qCNG2v+fxz9VpsS7dibgP5a7d/WT0OE/bc2LNyQm6T8IqjMnhnbNP7z870l6b9k/IB1wDQYYtD85frYdm3npP0y8zwWB1Nk/0jTAxm6Q5z/+m9rgxebaPxeZHhDDO+s/bqqevRN27T8sKR+2UYHfP64Osc0VOug/hmI6sa6d7z/YyH7LsUbnP+mrUIznGuk/8HsFWPdSrD8gNAbEY82vP3ggJif2Qbg/FLtSe8B/3D/8ElnQMIvHP6AK1dry7pM/cBnrEB/ssD8w8TCNYeSzPzg/iw1/Uss/20GzWPsf5j/XpufNbW/iP3Oc9vXPhe4/Zq0r2emg6T9nfnRkT+/hP5AWkad76sM/IMRJwsrTpD8SIcZDb47tP0E1rDvJO+E/y2q+OFM34z96A6IPbczXP7YPcR1t8uY/gA9z5/r27j9qAhtPNqzgP8Swvxm0GeI/3zl0RmBf7D8wuRuoaZrJP2eO4pDsjOI/of0Hp1a06T9aceEIEUPVPzKPhxPWyOw/bDapJ/nmyz8aOWzkfZjSP6TdHfCJj8Y/kF5PkprL4T8yeoUecYXaPzsXizRULeY/gKlo+v/t1D9kmvLWsdbqPwAIlbWKSX8/tpBeY9yU5D8wdM88nP3SP6CfdTroge8/0DbCqXXY0j9aGd63G8TvP6DeJWixabE/ELw+fu9Qpj/wyHbCkFKpP+1YdJ33Vuw/c74O3RDZ6j+7AHMLLM7tP9dYflC8hu4/9LVwUGaWxj+Wg6M7gNrXP7fj4Y2ix+M/TC1AourK2z9Q8ulurZbPPwtSK17U6uA/Z+g0I6T+4T8yctFJ60XtPzITpWXOVOg/qoDB0ojo4j/LqWju3KviPx4HyBPejNY/y3TsR0p25z/djE6aacrsP7DmY68HFLk/5GHt0Ulf3z9sq/Rh3cLlP31EVGVBmOE/UQkO4tmS6z/LuLLaBunnPy+2SX0txeg/wpURDPMY5D+AgOu3ERqHPwDQjTAG5as/qJVDVV8qvT9BRiCAZ+znP7p+ZI20FeA/QMlqK6dK0z8s3+DBqVXWP6B1tYowt6U/ACUCQcmDeD8BtcEQcCDsP7KEfSc1UOs/tgphyRUR6j+1Xy/euLjkPx5ZmboK4dc/OJ5y2b2m6T/jAwuw3LTlPzy3akhuidM/0g6ZVyrl5j9tlV80vL7qPwxANLj/H+c/6rVfSnsP4D/CbVCpXsztP0oTmk+YUus/KYtBNh5R4z/vmISM9j3tP1BF+BC5tqQ/u9UdU2ty5T+CBGYBbP/iP5X+oXBxxeQ/uyqihwiU5T/GkBRokP/VP5iI1/hpPLI/xsdxNtHS1D9ADK/lzAWwPwDZWRKBe5U/QjHm7gH43j9yHz2/PLfdP71+3+CAMOY/FoFv+N2s5T/kEWwx8hPPP6a3xnSTMeY/B7HXbP5G6T8Q/irSiKytP4OoW5CFvOk/MLYIRwiayD+xjsKoHLTkP3Q5sBcHIMs/Koxgl2i51z96c6q+JX7oP+ZcuSvZw9g/RKyHttFl1z+TS1yiG1btP0G1C7IfNu4/SL6zWbL11D8Y4uHltdTBP5oInpyn8Nk/VhaVMQbY5D9f/2qqSzvsP4S/3JFWLcA/aRUjO4TQ4j/gNDfvS/rpP9SZg6xbRcg/GsSfoW1C4D+M8bqkx6jqP6d6kpw4K+k/rOpWQWiq7z9cv0ER4dXgPyzna10k4NI/gLTlf5dquz//7WRw6Z7nP4ClIX5TLKg/CefsGKRL5T96iT2PZsjVPyiQBpFZJs8/pudW+UQy0j+gRZvZqGmUP8g05KqARc4/dF3PXPjX2D/+gN3VOK3mP9h1fPSUo8o/8LO85bCFtD+C8ieXiULdP0BcQAwp2K0/1DEFumyIyz9mCL9wSTvgP3qF48/r+9M/pBzWTDQryT8QDD4zjmnSP64/Kyzwa9Y/zBuQ++nN5z80Y2710i7BP4T4xIuRkdA/rMg4N6tU5T8QramBAWHfP4CAPeeEVLM/2FK+5MwF7D/5yvhfHLPhPwCT8zAylag/09uzJsdq4T9cSM82HjzXPyH2pxu8Y+Y/Rp9AcshS1j95o0DTDVXqP8lQnkg3yeQ/CvQJLKPP7D9Gmyye19zlP268El6tOdA/QC//DT0ljz9wbh+VCyjrP3A646pLNec/nERBkcRf1z/pGhKHLfXiP448xMc6luE/xAgMMpGTyz+Aoc1TxOyeP46Ne/LU+ek/jmJyGG315D9inRQf57TrP2YWPJfEk9g/i/d1YdLy6T+ohXRttl/IP/67eI/q1+E/CIFXOO7vyz9czZLV3/nfP47dXlHTito/0SweDiG37D93WFeDsg3kP8Xdt7ZQNug/6CvZlTVXyD9nldJWS47tP8AYOwbujOQ/KB0bedcVxD+Uuoa8uxfkP1iM5hq/28k/ZFca5rwG1j/SLMDXiOvmP4aAaZVixdE/qIc3/cHttT92cqonzkjaP5PjBbfzneY/iOqqwmXbxT9B4FmZumXlP4LPnexEH+o/Xt37UN8g7j8HfaZTr7jrP9BbdZmVDNk/ROz1l+du0T+YvdMks2rEP/xF7Z6TH+s/Nqjrgcfa2D8T7v46NIXrP8AHA//G3bE/1Og1lH2T0D9q07SOxZLsP7DgMFD3xc4/rG8pi+mR2j/XMXZe08znP/wEeOK8ntU/YQF2DKEe4z911fZxA+TjP8lw/n9/5Og/v/0HYjqH7z9wXvPrT1nqP1tPsG/5eO4/CdButikV7j8zp5yWq/7vP+Jrxqt39N4/9t3L/FnW5j9Oe5S7I4LWPzia7gc8VdU/7nnRqBt/1z9n6X8LAAjjP9YTbr1bQNA/AVZIl+1f5z9WzA7oD7npPyTu0+0qp98/OVxaIyqI4T9iCDGhMwztP2CkWP2ZVcM/II0b2kIA7z9YndhMmRi0P7C6LTaNsto/i8+EwUyP5D9Q5D1lXCe5P5Ucz2Gzx+4/VDyGMwH4wz+cYTgRnPjuPwIGH8434dw/6An5w4XizD+IpwdTod6xP9wKUTYIleE/gUOd80U56j/1RECvfIPiP02FD2uY5Ow/kaWUxBAW5z8YDn5zWWK+P39VTWun9uQ/gbEe9kKT4T+r6W0gryLlPzxMJj8Io+A/vsWBbwkE4T962uOIT0vkP01H+daiaOc/ipastR6S6D80dB5+dCLoPyaDnR988d4/isOlNJF02z8sDF6/yWLGP0ny49GIquQ/L5uMAklM7z+wbx4V9RapP/uEsZ1xmuA/XhJo9JJD1T9cGNKjW2HAP0Ke2ZQfJdM/aPU8XDJLzz+EaM9PO1XpP8wCmATh2tI/8To5Lq1X6z9xykNsgqrpPwY5FnwK0Os/BOBNZaEfzT8ARrp+OTmzPyow8bZFruc/LBYH5lL+2z8YeKgtxO3oP8hb87q3Hdk/1IJfYM874T+RDKApGJ7mP3uCOA1Fies/OcjxMCQ14j9kJ97iS3rrPxi6XCPBiOE/u/UlvjEg5D+ABU3vNV+jP4zlEqd0VtY/if0twyqq7T8tBKmvwT3jPz6K/uLufO0/vKvtnk3j5T/vwuQC7NnjP9v+vkHMs+c/cvJeUBh94z/BUzerXOvlP37IRNvxEtg/QKzRlp9vsz9L0QIF/STiP3O/qIAvHew/ZtZyMZW21j/A/fXxnt/XP6IkfzOEWOM/2ANNph7YtD/gX/gHKDLiP0ommRaiXeE/gnDmQSDb7j/QvaeRuAPqP9ITAJC0AuQ//Gz+AKu46D/gKrZwTzzDP9hMGXTa9dg/KPA2V0if3D/kApFhPC7qP576M99TMdM//JrRtnDi0j8JA0N3vUHsP6ibvbafwdg/oIlg1mQevT9UV/iJMazYP8A+zuY+vb8/EHX9At7UrT+gMr7lAwDsP26xr7Mct9M/H5OFClBX4z9IaCOHBJ7vP8B8nnJPFtY/sqS40rdO6D8q/Msdx2vVP1dUyHKJjO8/khKMdL2u0T+MvOXlp9jeP9hnrAPXgLk/aJsEH8e+sz/+YYoqvWjgP1DQtdzQDuI/11Bmk/Kk4j+Unee74brcPzemYKVoeuE/Xiv43RHc3T88U2xy2T/OP0jmKMv+H88/oTfQorEe6j8Y+Rh1XUDQP0XhQghIPus/onnvRX924z/03zDRrv7eP4zMRFaFXeI//hC4GneG1j/8vVlXhErIPzJ9PaSqpOs/xTUc/ST96z+J/Wy6LbLjP8rYm6skHe0/QIG8fJ5BiD+knXwk6QLAP6r63Ibq6+E/SNpcYLSUyz+vAAw/1x7pP0Jsz9GhP+o/Uysp99Fb4j/SKyOJTMbcP1QnapaHYd8/yRwVdVQ/7z9ES4bruOXmPzr2uunJXus/3GWqxuxG4T/Q+J8NZ6mgPyVvYheliOg/zi2eJ9GK4j/aiNCweIPqP+WaCneR3ew/yG0zWNr56z/HNA6MLjHsP162BJ/Qk9o/GCF+ewhPuT9oWKCo84O7PyhwpP5H3uo/u0/ncAJs5z/MjJSJAr/RP9gtvu4Sw+k/7NnwuYAy3j8II3otRpm3P6TV2+Bdcdc/ELTOY5Ftsj+aWM9aS8HqP84dBZUQzOY/gOCK0MHrwz9IMubrjV3rPyRQmSB2cd4/zMBP3MJS0D+ox1g3l/O2PxwQmvz6tu8/dBS5dcQ06D8eUmPipFLkP7Y9EEUlfOw/s2GV/ljx4z/3C2Pnq/3vPwHrju9YYOo/ev2div0E2D/6GtrI3P7VP72zR183VOk/rsLVgMbz2z+JkRDiW2jpPwx3ijt7Vec/jht3ICat4T+yMJJ5b4HdPyCbwePKG7I/MM6lQkc3tT8ATmC/W/TlP4h+BnOo4tg/EOkeTOzt0T/cpwcbv4juP4ySTuTtK+4/is0Jx8Xt6T8nAC2TKUDnPx6kKoPWW+E/kuzgkbN23z8OYG99PzLjP2LuecCpxt4/jNne88W27z/UWqoTiqPaP2QmLESlCcI/NFXLwOJo1z8+Y/N+mTHUP1iWhl7B0dE/90hiTEa14j/OOk3MaN/eP0yMtyIXfsE/DC/UIVm76T8obHJC2QTWPxPyIyvBi+s/DaJrS+Cg4T/wVswNt67YP8SsfHy4Ic0/CnyUs3462j/u/5TzIy/hP2aCuWsLB+g/LfLJ/sm26T+wAcGcg3HlPzUQPXeSXeo/3k36yw421D/gIf96itOwP5HV8iy2xOs/JJ23ijrXyz+hmqYZfKLtP2Ar8vR9dMs/TpW4KQW21j/ADcx9dIXqPzRYXDhL+co/GNLxubZbsD9om4poChbYP+AGUHSvvKQ/x/xpOPrE5D8wX/+g8ODLP9XGFbT4JuM/QDWYlgN/jz/YYCuI7SzWP+g84VAWgNU/Oh3p3JDA1z9gDefrvCPYP9hWxH4/3eM/JJNWGXbZ0T+ITLZWuuLQP5/ogT9OYus/EJNhE1INuz+kSaADJODkP5k60Pc2ee4/TgGYx3WV1T+zXozkelXuP0hN+6N7Tdc//KbEuSKW4z8gq11TBsekPwC1ibvkcNI//7tPHJxg5T8CStup6QbVP/Ar1ThJYKg/lHmZQVTIyT9xq2xudq/hP7HRTmcFYew/gKuYitp/kT9iWzpycWLSP15IanyhxO0/8Fvuckd+qT80TeSZEvfeP1h0eXoKZ9E/V08CLBmS4j+9rtoMFNLtP6Rk+LgpkuE/OVxb2ruz5T/TvAu/o/jjP8yCjCRIvug/rorWzcFJ6z88xfakYFftP5xUFmSBw+k/rWRhy6Kr6T8A/XUwJ/C/PzjsvRw2jtE/QvBH8U760z+l1IJSzNzsP+WKD7yFfO0/ZNAqdOju2T+KeUvh+rDePxqLW6GQg+s//Al0U2sh6j9BdUq7l2ngP2LFz3dRUeI/KHDs0FdWyj+eyanC1O/nPzJ1AVsbWtE/wM5VRVJCoT/xzv14hjrmP3DT6A6O3NA/e4FoeZb06j9AG7BUgrvVP/qciDQfFOU/HDZGh80G6T9k9y9ot3fJP2iw0By9k8I/fwGdpsPL7T8kXIZLCezePx4fWnSvv90/+6x6hQDU7T8+zrxIJrrmP+gxk/iOluI/L3VoVMWr6T+9yDcVNd7nP+oBFlXMS9A/+N6flSxR4j8adh+vFXzkP17VM+2uiek/pJEcK7Kl5j9OcsoCJ/HtPwj3U2K1pcg/o8jWcy4f7D9gzMXfVVzlP8xb6hE9QOM/5N1fKqF61j8nui+LSdfpP/Q6f8dlmuA/uMCDK0y43j9Y7tHFf9zuPzDKaoapXKM/RY+CuqMZ6T8B7xBoK1nsP3S7FnBSPsA/XnvFHd9t2D94xOqU2jbaP0KrJfczw9s/EB47b07B0D9QZAj69hWkPyQnDkAEicU/0ND+miu10T+WEnMLvgjmPy1tV2eM+uo/MIb3WPd27z9g6GGvI6zlP+AvgMFfNMA/gPJFDOiWzT96edxqLZrjP0nL/78Tw+4/lPH2sBye4j8NMQ7pj8XmPwDzgDESXZY/AqFE+Z4l0z9y6dnBR73TP1r8I/r1HNc/+Tp1Mv4T5T/eMMYpUQPWPzCtBVwXmtQ/4FOY1J5glz/Kl0B0ziLRP/aFADAL/tE/QA9aA5QGpT8EevqTy/bcP6c3qFJVkuM/NDxzDPdH6z9WR94SMvDkP3Zg7JnK+9Y/X2D+SkAs7z9gVAO5RFXfP1qLrueeUeE/gL6qcQ3lvT+aJzPdxlHSPzgF44DkVd0/dwH76qCj4z9rGnouRdvuPwHuuDZD3ec/oGtHvNynqD+QZzlAb5W4P7ov5eRxl9s/Vey2HSSW5T9NpjAucA7iPy2zPVEXK+Q/UrWuwk003D9xJMsj1dPrP1rOgSKGUOA/WlamHhln6z/fx8kJnknoP+2MCCMKte4/4MlLmVQFrj9IW1kIJXnDPyiTsOGUrrs/oQuRjZ/k6T/Z+J7pG17iPxtJTyd7GOA/WiGiVFcA6j/4aWjVoznMP+cJF5PlL+Y/ZkZu3jNc2D/Yj+D+DQa2P/4gpayx0uQ/sy0fZDpf7T/AtnllMHLMPzbMyIj1se0/6H2QNmcP4D9W0CGI3w7TP/ciGXhT5OA/oGC01it5oj+jXUOCQKfrP/ZaMnybTOg/uO5YRapN5z8U1GjGhATEPyC8HoIT7bY/njk/LZ/K4j+WS7ai98jVP9SqMre4rts/cFJe6lV36T8s9hccx5HeP+8rVroqMec/ifvkdwO36j/sngKHtKniP/j/cBrYKdQ/T/5oeIwP4T/UR8OJtejuP0/uN1W4KO8/tGUz+oIA3D9o0ZRHD0HtP0Ef8ERtzO8/aA8fDnePtz9In9+UrmvaP/a/Yu45u+s/y61516uk6T+u9AESVdbRP6i1q7mI7OI/P+2KIeog4T9A26RQ0Mm3P3hhEfsxENw/2qtTXO7m1D/kC0/ckRHsP4K5N4pzguo/PwAzfFoV5z/weExQaQylPwLCuxerEOU/6HzxgNGA6j8VYlmnamjjP8lbPnhutOU/GC49dvTMuT8/GQJVFmjqP3f2CrZoR+Q/IJDp4OKd2j9JIrTx0bnrP+iW+p8z2ek/dHTDIVR10z8hh4nZuhjjPwD2jJfYTJw/EG9qQLxfxj+QWVcHePSsP6Kz61geaNg/oFoKgy5euj+G8DuZLlXrP8AzZjL9NIc/ej6LjZJ22D8gFmjr6paZPyiiod8qxbs/eMKa1XSQ7D+JSHicMYXnP4DXLDLKb+Y/0DhpY+vyvz+8scl+ydbTP1RxA/Klk+s/eH0RICSh5j8AXE5gTPPDP+gYIqewOb8/5h16Eg964D94siTt9Va4P/ewrSCqYO0/6Koioq3q6D9Korhwn/7uPyAD30gggOg/nmhsHl9V4z9Qkvt68OCvP342i5OwqdA/DPMyHlEqxT/RKdCaw5/qPwBXQxD8WKA/kC60jbZ74D8IIk3Zv4DsP6QwnQJO1Mg/80mKwdNY6D/8bvjWs13YPy/gcUIP9Oo/QFpHiRKgxj+QL58BLAPmP4ACLBS7k+M/2FjILKo1wz+ZX4X79eLlPyeOfIrRgOs/ZT8iI1oi5j9AEQlMDL/CP1pzLCgYxeM/YlXwOVlq6D+EAwCDOPjdP6KqorgzCN0/IwXfGrCV7T/bFz6XpmLgP0gumcICybA/42i6lBNF5z8s0UINnRnJP0ggYuzKZdc/0EECPoVhvD9HD07NEzTpP/GHv0EF2u0/pFt3Cyvm3j8kWreYberPPxIFL6OK5tQ/tDJnEHSfwT9u96TKIAbhP9qQ0zjxy98/2sc3G/6K1T8FwiHFN0HtP3iVDDkdysI/lPY6UmS42z+NYMtyVRLqP+cKeUvzy+c/Ch3GqN5D4z8ailFIla/QP445HoggvOU/A1LAl6XP7j8dzAXiz8boPxiDsqPl0uY/rJ9+USJf0j+tmv46W4DjP+iRM9Rc9sg/WLLwzf2tyD9AcEXTwLWrP8sitJvBfOU/1JOWvHDI2D9QEnUFLTapP1a4+WC67tk/8gYh6fQB5z/oI0kL5rXSPxBQOnidIsQ/nMTSfzHRxj+wNUIEYV+jP4lqtpu7T+k/y0S7dMzp5T/by9NSvyjnP67ZwFvVb+A/Q39+Ekbz7j+A5RffSVyGP4ymrjz/Hu8/ZKfGLddX0T8ABBsnhOuVP5JXG4akrOA/xcjXmKa04T/grEi0YibHP5buz9fzf+E/8cr6ibz+6j+dGsF9Eh3pP2DD03y43uc/eBnB47db5z8AzXquJWHvP5C49s2rsto/gK3EEOpBhD8rfLgXqG7pP1akx5UBV+M/5NjI//ub7j8bZguykH7sP8K7UN/M2dA/I4J6JnAE6z9myEZM0q/gP5QL1cUdVNc/UFgmSiyY3z/E7fjeSPDSP/T3c23OqeE/kbukS10t6j8y4w2TV7fZP/6f4W7nU+8/1Bbyau4lyT9OTOfziUnrP6B6bjLAQes/MwXdKtaI7j/oIpAWxLrfP8SUY9kbKsc/TA15ZmJj1D/yHXBkFebjP/fcbvJO8u8/BAi7O9ur7j+gIJRquna7PwML+gpvueI/EOsaX5HY2T8w2V4DJ4a3P+IBd/JAYto/+EHyJDHw6T+a6AroSijVPxJzh39Ra9w/cHD/OVOOrT+u8vbjdArnP4wNWqg8KsI/IBpr4mcr2D9dL91SM7viP6+KCYAn1OA/POVpAvPH3j+7CMvLfx7pP7CuEUD9zO0/MV7lo/Xn7D91lAOSjH/pP1xRZ/YQ2ss/I4GP4pH24D9TktpV7cflP31EZOVfMO0/WKf7ecsSxz8wuQxP3vaqP5ibqpI6SsE/Dti/zbDR5j9UIeonKTDLP6AiD7aSD6U/wrWAISTV6D9cAqQ8UG7EPyDEWwLgopY/sK+VULdxrT+0VcB/pInqPws0u/Du8eI/6g3+bDD33j8qx6uufR3cP/9Dw/VTcOI/3mFKNI/l7D+NDJh/1aHuPwCbWiAYOcI/dVDv5csT5T9VIVBpM+XoPzBQFKLeKtQ/A4WfVUUY5j9gRExTVzmfPxZssWqXTNY/BNFtorpSyT9Yq2e0qri6P1SDNWZfAt0/AJOmwCZGnj/XEJZqcVTlPzI1qoucDOM/JNBEP/0zzT+wBu39QdmjP3Xa3iduuO8/bgOLoYmM6T+3aGGeQajoP+bVJKErDt8/OM0NVsCY1D+Y9PtumtuyP2ij17SKjbg/kntedLlW6j8s+/Z2J67nP7aO/FbFeeM/0NHyN/yXrD9lCH7n5wvoPzBtQ31kHbw/gzwdgh/16z8jZ9wZXH/kPzN+5tmcR+c/+OIeFkW/4D+KYAKlsvTjP3xad3FeRtw/hkydNAay2z91AEvGzCTkP6BMH3RkJ7s/4m33FH6i2j9sTDhDysDmPw2tCtokoe8/+ukVib4m7j/z/IHsT5LhP9B4GRVZn6I/nPjSi2YM1j/IBPyRKzHJP0jPPaDr+9k/BXIwwvcP4z/TXbNx9FHpP/kXzCMUVeI/2DQBgf5U5j/8G9rj+NjAP9jGRd1KC74/SNDfAMMuuT85y28zH4PoP+bG+iu4Odw/Q0a3JWNF5j84PEJra9+4P+RedogT0MQ//W8alGd14z8ymSfGb0zhP7g747wiP80/2FiN4fmVyz+w3fgBDzm+PwigYQZ/0eI/FLGkjY7Uwj9AWtMXd9HMP2Wl0Sh7Du0/wLsxylgT2D9US3s+Zw7GP13flT3Q2ek/QmuJxAif6T/hCq5oPqHgPxBmeBLCN98/QMM2vDYwyz/dwH/WKR3qP4bSZBjWb+8/tBap7BIm3T8C9CpkqPfUP2QA3UicZsU/yHfh5Wfc1T/7gHkCK7TlPwivHn/nHd8/RBQEAOABzz/kOUH6ehXJP1ojSe21hu4/SJIYrdJk1j8qHlv93pzoP9A2Ghfev98/SaRUTO6U5T9/LWNc1XTuP82CUsqYZeI/ELvt7rDY5z/iwNvXl67qP53v4Uj1JOA/43HfeCAc4T8WniCd2qDuP67vwssdY9E/kTyGPtEj4D/UZc1WjVfdPwQ6ijg1yOk/pcDkcx7c7T+ghkX3GHC3Pzco8fd7LuI/uzOHsCNq6T/uEfPl1QrdPyh0r8FsvtU/Poq7KQp72T/kuoNXdiPAP9AtDL7NW6c/CiMRtHJ56D+BYoduDW/lP7w8pXrH/cU/EtCtb/dZ3D9wxWUPqCC3P0e+sKJcluI/cLrSPmkSzT8AtG7Jb8fdP5J44LOVu+U/97/glhJN7T+xMWnlTw3lP53Lh7oAWuw/AP9Wz+vUvj+B1BARMZnkP4jooLOCd88/5r1uLxsR7j/YS4vQVcu1P89L9nPI0+Q/aC1U5sX3tT8t3EQnLPnjPxBz/jQyscI/VEI9Gpa54j8ATXvnLR7aP5R7U+eAv9A/6CcPCD0mvz/sMXaG3GjXP+AZNo5NbLM/4V+MQjfP6T9Tv7Mx4BnqP1SCWituHsk/9Gtmpfog2z8UiLwyehnfP/c3INZ5te4/b9KsceY47T/Aoy9begbpP6xo6tOC1O0/1ut8ysa07j8onmtGzg7OP5a9SEu5z9c/2KcWxra0sz/QCIlH1XTiP9YVxxWX7dQ/rKCNDVWa1z+AGXcoRNXAPyTkbo6dYsQ/NXpEfAlJ6z9EoQ9Oo1XNP8B1tFj7Yd8/jzrAPAvD4z+/GcwxO8HrPyuMj6ZUyu0/UFP87YJm5j+InrDp8y/kP7xGncZjZe0/AJSj+hjD2T/gskODLvCgPzAuBFXZW+s/zDcQ45fbyT+j77NAkObnPwpTzoWN8ug/+jcOXuHc5z+UKQ20w9TOP9zkJONMT8w/eeqTXwAY4z9RHx3jc0nuP0AqA41wLIM/gOG+ZcG75D+otDwzXjnKPyyCCg9KM8o/mS9JywC64z8sbThGUtHJPyS0ggzRB8k/H2G/WIRK7T9guWGwKeijP9+C/EQQ0e8/mosqXV706D/KmWTLLOjVPxm8L7O6nOI/AkAtk3Py3T8QfbpwcxekPwC0i2c0v6k/0pemrq3E4z/ojY10H8rXPwDhKD6D/+I/PjP7v17w6z9hn613EeroP2QjcFsV2No/WGWGUeiq1z9mAj8Z703XP2rWsCGwJNc/oFjT73BGwD+sO9N4guDkPy7zgDEQM+g/bjqPeq+10j/9kUwbS7HoPww2S3Sh0ME/dnxPVIR60z+ClhBQbc3eP1rsvdDOJ+4/3qLbE0fn4z8a9EE3I3DWP2rBNR1/yO0/KJxe1pSq7j+8eA/QGPDZP5PcDr2XX+U/UI0ZOUX61D/oc6IuTu/mP17tY6gUMeI/zbaTgdVI5z9XQYDDmPPgP6pQ44azh+4/2LxLFZWJ6D8KWpjeozHcPxrnKopVPu0/nUY+mps86j/QpTRHFNC/PzDlch7xidk/cIm/433Lzz+u/NokbTbuP/JXjelqc+g/1vnCXAyI6T+cUTjolWzcP7gCXniCOrk/NRzMfilK4T/LupThi7biPycb6Kb09u8/dGef4xGz5j+uLPLm8grtP9DN28N45cI/GMN2W1LZuD/gDED5fPS1P4w4DN8tYM0/okP/iqPu0D9AOqZ7Z5jAP/yjq1ISX8s/xmWC2Q0u6D9ITBjmSAfLPyTFsaI3ksM/Qnga1IEj7D+wvVk5PKnjP5dNgp46HeM/NPiibiM42z/Y3PBFQNfnP5g0hyom6Mk/Ph4J6Jl40D+TK23JNG7rPz3+kK5ta+g/Fm/JMShX0T/OPKd1CAPpPzZq3YT9t9c/tIipLE+hzT8fZHLKuw3pP4D8zQFOa9E/aulAjd911z9K0EFoYrDgP9xJ55VBzdU/9/o+3eU77z94kIrHxhvnP3jjAaMhjck/lF6dWuYM0D8+MCBr+oTQP078+CuQCeA/9oXZeGgx0z9glQk6eurjP9Aw7itOgKI/oMTSDeTD2z8BTEzX1lTgP5hqV4f+oew/hrTYZ7wI3D9AfdL8YMuZP/llVxetbek/sD0cqh0drz/syPeqJnfKP3yaO/IK49k/iA5WZfqd3T+b4Ta1iTToPyBUVO5QSu8/uHSgxOlssj9qx+K7TJ3XP0IcxKXIQuE/XMv4RT02yz8YVQ3pGU7ePyCpGXu6C8I/3DRNTfet0z/URnuw+VPIP3qNm+CeDN4/rG47LVbq6D/gmPy2Q1PoP1/CUVxdu+8/PbQw4gdD4z92vh5gep/uPyLu8NqQxeg/YANoXzitwj8e4rRz7kvsP25Dw/LO+e4/Hp7jO5672T/EO35sQjbBPyrIrDGX9NY/Q8pypmKE5j/gxextEVzeP1iShG6N4r4/h/PcRJ1T6D8AW+ZLhszIPxBWIrFF7rc/2gCcfIIs6z8KrIiKoeLnP8g1kq6OhNs/OaEL7m957z+teIq7cfjrP1FgIX6aGOg/G1/4tUlU7j9XJOLxCzLpPyp5eMcQid4/NL99hB+txD8gE0JFbkC1Pzxz58+4y9k/+m6nfEOB2T9yA5wQja/iP8YA++x1LOs/kPfvYLnspT9QYnbVFb+uP9098/wxv+A/RNkZQrZ11T+woazK5ZvjPwBm//XikZA/TSd3FCfS7T94fuvB29zsP2DTcHf0U9k/xPzaHVoL6D82oPF2wHbTP+BxPtQacdI/KoAVp9my0z+ko/wGidHoP0DYOsHOR9M/Y6axYXI+5j+oe1RYjxvePwxQEjSqw8Y/tkrvLgQe0j9lQOqHm43pP5Qa5TnpRO4/hMt/KYmU6D9T71aPkg/gP5ydOkheE+w/DttT8BX90z9QyoSY8I65P0R+SH3W4+w/4AYDzylFxj9IkpcO/NW+P6+dlaTHHeo/V7TaEMPe7D8sxWjaAAPsP4iP6LOjpMY/R3Z4e06N4D9MHn5NrTrHP2ElhVS2Wuw/6uVmdVnm6D+r5ES1cNvmP0icCsXd7d0/3iKuFehQ2j8ACtTzjNKBP8L4EHKGtNU/rEE1LpJRzD/AowbSOYHRP1SVHRJbsdE/FERk//cN1j+yao1AFPDWPzk/GddzGu0/9AWBIzyx2D9Ak9nvayGhPzwTtonAzMY/TpRDa8hB6D9Ad+iX6bnfP2kk1pveouA/ChGfxi9O0T9g9ujzELnqP9ysJlxCeN0/JMtibRjP0z+UXn43UGzmP1iqF/EM9MQ/6Lbeg5dRsj9EnJe4BRPaPxb+6RkAe9U/XOJ7NmTcyD9oBED0NCjKP55AkpvFeNk/IPWSjLCSuj/KqWkdDfTXP1A6vc4MHcY/3sYOWGJ/1z+KPGi6OdzVPzzU6ivIp+Y/CSmJsuka4T8ob9HOOEDuPyy1OAUvuck/UAoENMPE5T9/8XYroOnqP8zhyw71yck/LmHJLnyT1j8uak+4/FvVP6chAl5Y+ew/rONwQjjg5D+ca/CVNETuP9JWQ8MTlOY/1w3ewgt36j+EsIQ3eeHEP7ylv6mn+dA/OlExs5Ia3j/aSmmLJzbaP26vMgLNQOk/+CTpoodavT+83evibYPnPxq9E5d0jNY/aruQm9By7T8CZCtz8pXfP/WW8CzapOc/w1wlZVbu5D+6KDVYIH7jP0DxNA5Kc+E/1HCoOoO85D8btdIp4KXpP/iAhMjtbN8/S/uhUt4l5j8mfQcYiqLWP3qPOSg+9NA/SYg1w90q7j9A436U6kScP+uokG7yrOk/OLI4P+MmxT+0r6IsBmnsPwqAPUS/yN4/EGSHR+FCtD+I4nmD3IO4PwDEFL6xIsE/UA2hzh7h3z8VcKtj5E3hP57vK4Cive4/mJH1wwbjxz+vL3zpD9jrP4iriq7mK8c/NsCVSeO64T9bOT6RPx7pP05EEIVaZNw/CZ34tmTu7T9EDHhVjb/CPxjR+fJ6TLM/gN+jV5YZoz+g3s42WFKSP8x+/16m3cU/uEpWwXikzj+tEB+FZi7nP7jq+eEcs7Q/Uomez6Yr5T8TZo+kH/LmP6XtnPJe1e0/zziqt6lS4T8s7jKrsqLJP8kIBlFkTeE/3KuwmNdB2D/mivK/KjrsP7DVIcFMCbg/WMCedXKsuj9mFOy2+yrcP5ZdDLN+oOU/5XHW6Hl16z92kJ/njlfeP9T22koEnsE/eERdt5Xa4D9QBxnGN3XrP4AO2RxQdaY/cJVZ6pIjyT+gzwQOkBamPx+K+T4nru8/o22AehNM7T/KlnR+zoXbP9rHS0gRLN0/KAYPeQBMwD994gI2eb7rPw5YDssTqNg/jj1erLtO3j9kfDJMdODRP+BPvm03o78/U/Cln9QB5z9aEbieYenjP+yIbkVZVMY/fFMFWIXH0T9VLPqQO+LuPy9GSCiT3Os/x1hC25Yw4j8ggPVNbTvKPx1zBsPn8u0/WsDeao113z8yMx+ZKknXPwQ3bQuez9M/REOAN/Vc7z+/dBVGXrvpP84WIvkl++E/xGwfhYs/6j/3lZUJ1I/lP5wt1u6Zx98/5cZ6KusB5z/gjJqAcyDsPwvZWfaGOeA/Y7cyjZC95D8A8gX9M7LWP8J2k9LlVu0/2pUSJlch7z+4s9Mj03zvP5zxpFGucMY/oNrTG5Luqj8jhO04Je3qP6AuYuHiJ54/5ib7lTPW6T8I6wCfaEW7P2JQYTh3Mtg/0OGBRgBr5D8QrK2MBl21PwKvaIU9gNA/3KK0IciLyj+YEUfp1xboP9h7add2Fe4/CxHf5Xmm6D/S42EzZujvP47+ZOofFuI/YAodTXQQ7j8K+ROBclHnP4Didb5LyXk/dRG1OUB15j+s4mVL53vlP4UHkUzX4+c/FPkzQQq63j+alfmFMXLrP6mF80hR/+8/WHVSHEShvz9AEvQsK3DIP2CWTKmkzd8/eVwNEn0y7j9gRjWIJMejP8AL75o9TbQ/RJuIx0DS1T/hSMbULcrkP6+qRnSK8ew/ERFWQzzA7T9jLgTbVnrtPyZNeP+KMtA/2BohGGkV7T9rIF6gY5bvP0wiztoD2uI/oGzF+JuEqD9cB4ygoLXbP7pIYzoDttg/LJIJlG/64z9IL0dSO1PdP0aa1ZOtots/+HBDPRssvj+o+gkIJOLAP76Z6RfUy+Y/5Hs73IBU7D9A65Wx7ZakP5b7AJn3fuc/pgd/KqrV0j9wsQRQXWbePxXZZsJXX+A/1vbzHFhv3z9MrRPpIbHDP5A4hTyqrr0/uNDDmLmkvT9qqaoNrebaP9MAOUCHt+A/gC9yfO29lz8CLi7fHurjP/54kyoub9Y/HPbbB2Ue2D94dktsLVPlP0Cz178CB4g/Ppc55a3L7T8QxYBc53noP1gne934BcA/7OhmVJRZwT88eUrCD8PnP5QhphhqV+c/yEc4mSo0wz9w4h2uxcHJPw7sUNShY+g/QuV61Me/7T+QmDUw+IfaPzDJalMEaOo/AGoLtOfLpD8nQkaqdw/gPzKfoPdCq9k/+nv5CSwF5D/GR9PyxMbgPwCdHd9r1GY/lrXrFndJ2j9GN1CzmijSP46NCrlE4N0/PopBcs7K0z8CZ9rFXu/ZPxy3QraHL8k/LBQw+N6gxD/uPbhqjBfjPz/QWBjG9u0/CAP3WK+asz+QhKaaQn/lP2Ahd40oYeQ/qGE6bxaF7T+MJsTv+XfMPzFnqHnZseE/gFvDwX7Imj/Ls3wS9ozoP06eKbp5pNs/gse+WTwZ6D9ApLxHfY2xP/MMZKCQMOs/aL+M28NAuz9o5/GjVBfYP/i/jeYfP+4/tFjrC1Et0D/chGVUjL/RPwAGMkfrH+o/dHSpaZs61D8JEhmWdUjnP+3nweNix+E/pQaxJKXM6j8S8muv24rnP/8Tq0ce3+w/ILjtC6dI3z9QyQmFy8bBP1d1ihU+peM/JHWO0xLG5T/EWWDd0krmP/DR3p4k+LY/cJm9BbvW1T8yivqD60LbP0wVKa1jC94/+7DAfdqQ4j9UMiAmejfQPyAxQ/DPOJc/NsbdAs3Q4T/iahX91SPQPyZ7MChSg90/YhHUCeYF7j9OH62hD3jbP3In1RMSIeE/dfy1PA3L5D8eEedGRTvbP3AD8/A1v8w/iDcS4j1H6D+D6XWm+zbsP9xUoa+tBOM/XFwHpL7i1T/4QCLH7J7VP9SIAEFcXtc/TWcqbDv87j+AOqqs/qimPwjWfxq/Ytg/HAc0qZZu0z8/zdd9PLzpP5RG0GcIw8o/phx8aKMB2D8ePIXR8wvePz5JL/Jy1dE/BMmOqJ+Oyz9ypT9NPSbhPxspDTgByu0/m/PjvjFw6j+uRbBVpD7fP5QbKZXsKcc/WRF75wHV6D+0WUuG9n3TP9gBu1VHLtg/9hMcAUTy7j9WhEpYKjHfP410RmvO0O8/lI0QGumPwz9kG6dKgDvbP1+sEiCk8+c/GOddlsQhsD+ZeYWX08buP0Rgpy0rysg/cPv5RfaHwT+9IJ4PmZjoP9AERgBVTKw/OJ74pvR07z/eNccP2lzcP4AgWf+pdo0/k4AVyFYu5j8uKkcB17DdP7jy5PwqTdM/l2tcPWBn7T86Ab3+KbblP/4U5YLcNN4/+EUlBMNlyT/MQlUurMfKP/oLSZeaWuo/MyUZS1So6j+YsPZWtq3rP7DNnGpTF9Q/BDqyoIkb6z/4wb1k3SvbPzLLNagb8ug/blw94BeG1z9wSn3oNvuqP7D0U1KDsMo/GPg/7nSy3z+5rgYN0dLvPxLUKJ4la+Y/SuxSpqJa7T+osbD8AEzdP0CbbRUEbLo//BQ5P8cZ4j8I0fBafIzLP4AYd8GCiOE/SPwkxczf1z++RjjHBfrTP96ZHg54qec/Cl1pQhBO3T8AR5ZmdjOoP+rp2L3b0uU/IEcHJr4/xD8GIJeSRZHYP0oNDkvHeOw/nNFH6o0N1T/ugXSuP13SPwL5GcnsMOM/SNXccecbyj+M82uU3j7gPwKcCwLFrt8/Zu+X0yd/0j94wQnAt3+9PzCby0iVWNs/5hujRt8U1z+DdrrWCrDrP3hAV3AoUL4/vtLDyb7i3T9SiliX7ZTgPwDQ9lLKdEQ/kgRjq8H84T8sx42ocmvsP1dN2LIWZ+A/ByQqSpl95T+JtxlJXbbgP/b8bFOt7e8/V2H3ZtXO4D/Bg8YPwZjtP0zM7uaw5M0/cMSoBNVIzD+HYc+nh0rlPy33ZlgZpuY/Zha+GSHk3T+wTmm20CvTP0ACUTx9tt8/DAWP4d8O3T/9fJyLO4/pP07N4pYjqtI/QJtTWGmv7j+a0j+iI5/gP93Bfva4qOg/rgwihvy65T/B8De9YtjjPw46In+tfeQ/jMYMxrh7yj8grzHLS2mqPze5Qdqp1uo/9F8XXD4t0D+AziSs9sXAP/OP2APv1uk/mQK3vjGg4j+JpiKdSQPoPzQYm/q3Ldk/CdgdWvdB6T9+M2HCgovWP3B7l0zv5Nw/eaf4gV7K5z+YuVu8QHO+P/4a3fXe3+s/wpGvvihW7j9aGJS1pFLUP203DvJHmOc/Xt7K4bi+6T9yRuyWhAXhPwEnrT/Xau0/0NYDD+ACuj9krNGcoiHSP35DKPWzrug/Mzggy69e4z/YtHJdSxXUP+BiLm0Sicw/XBhQqYRm0D/wUrxqUAWqP9hkcX/Nmto/wiwLd2tv0T9AiHjuXTLjP8JKmnri6eU/yli3Fxcz1j94v2azUanuPyM9yQIZWe0/+jbEMcWW2z966pIEtzfRPxAcnl2vars/MMFs5MjZ6j+2VvLD3B7rP9Xnpyfzlec/yn5HoTJb4z+0IopTrYDBP2sw+Bcozu4//nr0a5Bf0j89yRQ26kPrPzOa/mPQmOY/srpxxs8k1z+269BlHTzaP98RLoEbwOY/wiWZlvQh4D9gCrX84pHgP0xUYjQnYtk/AFo4vCfuoT9e4eSy+f3iP3CjArWYTsY/h8KPM5267D+/I1mWEj/jP6Hpbazm4ug/SzovuEYL7z/rBVHsDw/sP2OCZ2NKtug/aFTMQAPStD+ok5R4CcPnP6QR7xyiJMk/1uRSy5e37j8YU6LC8Eu/P8BjGG4sjbs/IO3tD7tg7z9ddAwMPI7hPzxs8k5NZdI/I74B2SYx7z9N9FvQLRLtP9MziraY+u4/AP2YN7InYj+CH+u8TOHjPxqTz12Jz9o/IiOvCiwq1T/Uwz+9g9TLP6fje7GJTOo/vOrmkWzDwD9wNeDbhPTHP2Xa/iCsmOs/crLMkwsg6j+1y97M9HDjP0FcAjCy6O4/GLG0yf5O7j9FpRWOjYbkP7/qoVOANec/Ts1dB85P4j/PyXTV4X/hP7KWHfuNKuA/ALOfLFBeuz+3sxCox2/vP2QhHf8qg8g/PMo8a4RS2D8srBOi0SfjP84ukZL4hug/kPVHNbx2rz8/J3i9bAPrP8CtSl2q0+Q/6nYvPPfv1T/uO+CPrE3oP4qtpkDOCdQ/ZHxZ3QMNwj8gnOoXOYiqPw729lrcNeg/1CXpN6zqyT+KEVj86SXUP81VgWBrhuo/MDAU24AW0D9NR2YaBsXgP/iKzZ1A6Og/pPXSZhPQ0j+c+lUQZEPEPx75m7847+k/OG8Dp2OOvD9i43/1SL7pP9C7ks3xK+A/o0ZcugEG4D+EBn+uOWbEP1wGhdoejM0/cKjUIngt2T+TEAIwU2HgP5Buhrgoae4/8U+9v4DN4z/iwyE9Z0HWP6e4QmfWIOA/+8BGwlI34T+Om0QiZSrbP7nA0VgNkeM/UMtdU2Wwvj8+EGS0wK7SP9AyHE7X7uk/EpJK+u3r4D+mNspHVcjqP3Q+xXNNCtU/cAooAiOsvj8RHeZcaMDsPygkdDLYsNs/GOUVIwlEzz+4L1ELw+HDPzRGar6mL+g/IpgPfwvR4j+Qpo4ZE3ffP3IkMH0Hbus/4bQKClyZ7z8NV4oXq/PlP7ALU1c/7dE/hLpSEt+U2T/MQJ1tSMLbP5jXCmMXfrY/5DygaEG76D/QWbhL0pW8P+XwcHTTSeU/EOWtdua4tT/kUIN7uJXMP6vhP2Ge6uA/dvEhK+/B3j+cfklQ61XQP+hR91XDm8M/NPZ9h8WJ7j8MATMM3UnaP5oBWP3/n+M/xnF0ZZCJ4D/I6NOR4EG/P33pEcnXF+8/wGeTR6e82T8W3da/RmfsP6T0uPcXcdk/F56nHta86D+YahGnv47dPyDiwAT+36o/5ujrk7Zr7j9hfuBOZWDkPwwOhrOlNM0/Mm6MAi242j/yZ5zAAvHUPyLDsL067NA/oCW4egUw7z92ka8kRgHnP7C3E2+kcto/eOPaxFBj2T9WfybBBZPdP9byuN+Cdds/sGWmQs+Kxz/cPtRzVNbXPxrqZjBD2eY/wcJP/CVd5z/Xp5yO0qXiP/gICWFvG9I/AKa20C98lT/8L/Y/BpvNP3GQFK73M+0/XLQhj/9lwD9CphJO1GHWP5y/oqKhkdo/fBchh3v03j+Koyh476jSPylzvZQgJuc/LEh57B0OzT9yrJjs6/fUP5I1JD0am+o/wZIyrV4N5z8WKGkXOG3fP7SboiXC2+A/QAKo9iRYtD9M+duaHt7aP7APdTmloOo/QPtbYMGujz8sWDfjXWvXP/AxBUJfhqc/cYIu0Ldq6D/jjuVVwXXiPyYKsA5gUto/nNgtO+bi0T9sXo48lL3VP8vAcRDEkOk/3PeM66MvyD8EnFfe7lXJPwJnQSYjDdo/JIz8B35eyT+SpND670ndP/NK/Ceu4+o/6F9lfT127j/p2gJDZQPhP5Yd9rKe6+o//OwafYBW6z9s2dnFpgrcP4Cfjom4aKQ/bo0nuG6b7z+A1NMtgdGOP0XiDDzybeg/QNyxAUSY7j/EmarmnlfdP2qKoh4JTuI/ZESQmR4G3T+GK9RFQOHiPw+7HIkVCO4/PjbZWejb1z9/2zloBTvqP3J1VHJXnOM/CPLxyVXo5T8UGcaXBdDWPygP/NhNr7w/ALMLeZWRuT/KG6uq0ZHfPygG54kT8d4/x+NJhBxj4D8YN84T0LHAPxmHeOm6+eg/40Uxzy305T+9aYu3ECjhP8dk8SM/Qec/WGVo3cV02z9Ik1lZK3i/PwY91RHhEeo/IJDdNDs4qz+c16crXg7lP7cBm8kxxu4/fFX/oSJo2T8aQiDMQwHVP1b5nPvPF90/HNBYgLAZxD9IiBK6y+DBP7Jf5vSbJd8//7O8dliP4D+tzFTMDljrP8pyAAapXtg/sZ8c+GOI4T8zIC90O9vuP1392anCbeg/k+AkXDLv4j/4+JUIGbe8P5YT+L2X4Nc/NmTAa7Zu4j8+b7r0xurmP+BKi8Vlir4/zDC2FdEnwz+oYg/xPjvrPy0b/yD9wOE/2S2moUAc7D9GJ9naXnjpPxjb/3/ghrQ/LHC8xI6r3D887HtZifLsP+AW7T6jQOM/qLbwuw6M5T+BTrEgHcTtP7AtVSq30cg/8pkNJb4S0j+seIjG2G7RP871+Qqxa+4/aNROsIdYsD+z3pNOGbLnP4QaDvv5v84/nnb/758V5D9Srh472q/RP+zEsKEIEsg/mO5TncwM6j8Aagram6i1P3EZymXKCe0/3DyamtwlxT/opD4JsnjvP9RozJ8Kst8/KLfoVcs8yz+c4WReGBXoP3B2kZZ5SOY/wtTyemmt5z/WzpTZV/brP5QExYOHD8g/iIebgHBI0T9mjGvcE0TgP4GPRnLsA+0/LbjjSBO67z++dn2hd5jYPwBLPsqDwak/puEG1+4K2z/s68AHhyTcP/yD8pJNueM/y1TLI23I4z8/Jm2RPgDoP5EkQ2pvEeA/bJNU5pHF3T/YUboL3umzP7o2whFTgOw/MLeJX65DxT+4hLZ93uLVP/FqY+wYMOc/1x7gAHIL7z82ZDejH33mP1cY0zpfme4/+15p4T3a7D/8FPxEhqjBP7Xxn4qDOOw/NxmlApmm6T9wDUc1+WnQPyAa0mmPjrM/Ahan2o4m2z+Xh6iVMIjpP1TsehJb6u0/jgRiqs9t1D/o0M5tL0DdP9CJbugOmeI/mFv3pfia3D84hlF6Hq+zPwwP8i91LsA/xhnH193I5j+ROdA5BFnqPwFW7OAUGO0/okX6qNZe5j8L2YpYIgjjP+L58jdZ6dQ/QMhRDC9ZtT9zESZn1nXmPxiZfPg2N90/IPtSMS/vuj/YjG3yhjrsPwMo8MawyuU/0CGiCygO3D/4y06qBmvbP+JcbeYvHus/uH6JkeuJvz9NLPYUke7tP8WaAahWmOo/pEUgFOYQyz8uynCH/6jYPzPlCPXwoOA//Px6NRmG1D/wL2nJpy2lPzTlDtNeAtk/JirYoCaF4D9QEWboO+u0P6bNipPMntA/v2R1DQA46D8EIuRcTpXsP1SrkFh7Qss//C/smMjn6D9yF3vFGS3YP3Q/Q8glvdM/DN0Zc9Bdzz8oVw9bFxu7P4TaH55IKsk/lKEL0sLb5T/Q3Hw/ZRWvP+gprPvHIuc/J4PsIF1Y7D98jF4uQk7qP68dp5V9nOc/EIqvtzJ1yj+liHN/K7jjP3vZ11OhCug/huVZGU5/4D/VgZlDQ4fqP+skIPA1WuY/XH5ih7Mv2z/oPpAweoO8P8Qgdodan90/lVPMYbZS7D+DsEZHibHtP4X5z9fPBeM/CtQe1AEG1T8AyRyhJWWoP6gQLCNhwNE/UNLrrVt6wT/bwyBwScriPw50wt7tYuM/DI5LSYl6xz+V2jXJJ4nnP7ZnwS3uwew/zHlkFBXRxj/5nLbJ5hbqP6Fg1kBmROg/5IeJeAtf2D/FDqs+DfHhPxLEV/vSVtQ/1jdJQPCL4D8SMuaaVTnVPyrc/sEeyO4/p71gUe3P7T9zfukp+tPiP/R8nhYsReo/bIP2BGbBwD9QMnlXPhPaP2p6NvMDzug/LX8DmQmt4j9FNfhOX7nqP/Su6cqkOOI/sNh/VUAk3z9cm7SfuiztPz4MkvP9eOM/XmT5q1Mr3T9yF3+qhdDnP69vEbcth+0/ftRnEJPU6T8k7a7VKtTuPxjuQjyH5+c/MLeXXE8f3T/uU48/QNfSP6insRI0i9g/RnFCQx7M2D8qXOWGUAvdP2jO0PV/n+Y/Mc6amwvF4D/UwWlY9D/YPzA7wo3px8k/WONUdjrl4z/wyYHiXh3iP9sPaQUO1+Q/UJBSnGCgwj/011dkAnbCP0RFmmBFy88/UI1KnaNqpD8AJzjVAmd7P4i8Y1fA9sc/IG7qEsaezT+88YcQIYPEP3B5bOk0o6c/bNfIDtqY7D+VLc3q6CDvP0hYnqHfiNY/NOLWqIio2z+aFVArieXTP9LsRtp3fd0/GvFXR1BC6D+w3wz/CJ2sP7bIN6lypdI/h2SWEpG44j+G6qhP2HLiP8BuJG8R39A/KJMqqGqI0z/UPY+OULDKP1or/6D4t+0/MPZjB409wj9A+5YVqs/YPwTcNBLfA9M/uNvgqpuW5D/sYc/9g/vAP8cZ4S6UGOU/LJk9vzs34j+kJAZfhujbP1yFR2mnsNk/oNDXux0V7T/4KWaICpLvPzSHkqBs3OQ/NnyGZr573z+4sHr2z7vjPyjyxaULPNA/RLyM4IHF4z+V/iE4HfnvPypT2Iy+Re8/pCYtLz1/3T//Uby5SIrlPyqHT2XkMds/3kNimbMp6D/4lb4HhpvvPxTksSQAi9c/HAzeYQQfwD9OpwXcuOnmP9xP+X1+pdE/Wh8/lW8h6D/QNU2TAW3EP2RerQUTpts/JruPanTj1T/OtIuEkzzZP2fL+Q07Huw/snH/KxVe2D9wU1jh/jPlPwdsGfGlheg/Hbib9gsI7D+rdAG8+IvjP5C/5L4wqd0/bDgtGYcm4D+YHJ2rOMbgP2xMh387KOI/AHnMxK0TzT8K66p/BIfdP/Zxu3tLito/4jnvCM5r5j/FsGnOosniP2B30OcpAeg/Io5XKw9v6D9+RKF4t8DUPw+PQRv9oeM/ZMYzC8EA2j/gJkcxsqHWP7camBtDoeI/L8wxobMS4D+W3+EIfk7tP4ICaPSb3uA/1yPgTR4I4T/+cbqouYDgPwguD4zPr88/AmG0MVK11T98PXl/kk/IPyYTcaHD7N4/aEsBUeU4wz9ATL4tByyXPwLYcdZBnus/QGU9BmD+mz/s1G5KTdvuP5EeaMyn4Oc/pvO9UmBn7T8ArmsuuBdUPyonHAB3tdo/fmdo6xMn3z8sUmPoQVjjPyTvN6QY0dw/8D/RMi9y4D90a0rqc5/EP8KJTkuAltY/hu1CC/wY5z8cqqnKnBHNP841SN+jm+8/mNWf6Z4JwD/eLdRjXLzjP2gTry7uZ+c/2wjxTWpW6z+SJog65wbbPzriV8Bn1Oc/etRSiES94D/7RZoQ5cbrP1Sbtaiz2Ow/iF06P89yvT9FA/w4XQbmP/hfpcZe3O8/sL7/F3XB4j/+odho6pzdP14ZcUFrTOo/wDjmi59Dmz8QEAOJroblP/VQWrNhqu0/IVtZXcnX4D+m84cW6wvsPyB8PqJIJp4/5ts1trTO0j+uINP/QCHqP5iAjMOHCuU/cy7kPMZC4j9iXX7XxH3QPyA34IpA/6c/IXiSvzdR4T9A/DlbljLnPzmLEU9Qeec/1KD7m0vc4z+67Z+R/i/fP3rkROYgoNU/DVVn1dOL7j90RqwKrL3pPzxlbDptveU/unrMKy0h4D9vPl8q9lLgP8wRihaFBO4/1FtPnjzJ2T+w127IQqOmP7FFSkmvTeg/POBEJw1ZzD9m/GW0xCTSP6JuhSl2ddM/7XiiuF0G5j8gzfj7VmXvP8iRY3PaObA/ggUziSmX4T9ij5iNXkbUP4jFYeyQ9rU/Q4bYlyBR5j9ggkDNXt/iPxDXRZXAOrc/IAOsiN364D9kheLuuOLKP6ubtEDtbu4/ZmKiLhjI0j9oFMXbtkq9PzqWzS9DRd0/bvSDh7Th4T/0f0h+KZ3YP9L75n9egtY/+dgGBIgU7z9cgHeP5nnCP0Q5xzhbyNU/PDDz0ZiAxT9Q/WnvuLupPzuoBP5nb+o/tNmSnZ0z7D+iF9zC/vvfP8gW+ZnOfNA/9mGJg+cI1T/04iwRbwbkP7rcfjheztQ/1D1ha0zByT/M54eNXTPHP94RuBaV0d8/utlE0r8r1j+kNdwbHxrfP1r+Z8vynOs/nqv5EuTU5z/wFqSYGzDZP9VZRWeh5eY/cQ5M2poH6j+vqyAbVbjnP7NCbu8fmOc/jCTZcAxM4z+gM6O8b/S6P2xoYwORgt8/AKd6MjxJjj87lkbmoR3mPyyq4kqcDeg/NNg4Zdsy1z9Qb8EtxvfcP0T5UVvFjNI/HCrv1K2nxz+B98GmOJDsPxjw/M8VE9w/OF9dllqDwj+SmxdV9IHhP+Dj7jSLYrM/WvgPwWDc1z9ZYQDGQ5DoP0xi/++nFuY/isbI8MgT6j9IZTQrG2/FP9WRwLMh7OE/DMnuyWpsxT+IEfKVf7S0P4x57olqp80/OLx9nExD7D+om+cgoQzQP0EfCrNCFOc/lYHqBMRf6T/+cPrgWonmP7D2olYffd8/JFn7YFMO3j+cDCiqQP7iP54sl5EmcuA/QunHmjUV0j9kc1gYomjoP+TNhOHmhew/xDKvVB6Yxj81sKZQbyHjPwBVWxlzeeU/VB3IrvSm4D/I39mTFknlPzJc8CPFKto/I6+bfX6V7j94r+PukOmyP7c55MOBduM//ij19amH0j/chprT+8jiP6DSdXvAp9c/cWKDJAYt4D9u9s4RBbfqP2btTyuAQtE/LpbOkS0C1z+Yem3Dwy7NP/I413SKQNM/rsZy70h46j99rLXYyfvpP/QpeOyiGuA/2HAnhiFNtj8w0O1JusLqP0/pVBZKG+g/1dCW1hHM7j8KAfu57KvXPw3K46O8UOQ/eLwq4Akvsz+54nHRtBDnPwMvn0Bb9+Y/kBHioGqKuj8o9frW8ZnnP24qK0g5idk/7TU4PRig6z8uee+L0PHTPwvQq6aT/ec/AMHqDiZhZD84qvw4XITcP0k16yOq+Os/oJlWO6Sm4T+p2CuPz/PhP4SMW5me/M4/TCjK1xRl6j/s5KIO+EvbPwU+xniY2Oo/Ara4bBFz3D9CadJxFb7TP76HqQnTveM/mxYy1UKb4z/gV1qJOFPWP6wjOaMrocw/VmTMAlTN3z97yVD1S8zuP3JOrQo1Ge0/5ISpZVvg4T/Hs7XuIQztP03+elrOae0/vsAYb2dG3z8iD0JOTGDiP+THvUr8+sU/8sa327dJ2z8SBnyo6Z3gP6C+uynGpM8/d0o/P/ru6D8kk9mZRTDqPxpKf++HDNg/kLVMcSMTyj/vjyzZeVXmP+TAkAr+fMc/2sELH4RR4j9Ku/VPbtnWP7YtpXs0ke0/OterlpkG1j8MFpOEN6jDPxliCwwgY+4/EEgzBmNauT+OwauNftbWPxTjg25118w/jOjz+Ezi6T9/OyANfnbqPzxH6WQyptE/4Lb8yQulrz9hVTdPTRrvPyNr9+M1NO0/IFkCO4MOmj+TUNC21IjlP2IlgPgD/d8/GmFqqJmd0T83V2+VkoTsPxh+bUFW7+Y/HQXzfmdx7D/mNHIVMa7UP2Kd3NlHpek/IjT0RM2G5T/GIu/dHDDUPxb+pGdTM9M/XEpUoXDj5z+A8b/tXr2mP3blqOxhSNM/ACYfr4e/7z9+T7+J77zRPxfZM5kpEuY/QBnl528n1j/UtXw8EYfTP5AtNdC/6KU/DGbqc4uQ7z/KBnchkejtP5j6GkONodc/Qj0bBFSH1T8Yh4IumMHfP9SjncWo2tk//IwRy9DoxT8Y56yRmsC+P7GKPjA5Jec/3dngGubW5z/IqJ43U/PUPwCpp1m1/MY/qADctke53T9vorUrPI/lP3VZjea0NOA/Yo03WPX13D9NnNtS+nfmP2TBi5bGs+s/WT6ifsPo5T/7IEwkwyTqP8A+ivOgUt8/U7OyhclQ4T/gIaQRvyu5P44VQ6ajjdY/pNgj3adg6D9/eu7FUZ/iP8PFfCWgOuc/7R/t8x6o4D/WyDFfCEPtPwJ1wxMbyNg/pOJ76ENO3j+3h7yN62LrP4rzHqZNvNQ/eMmWF+Sr1D/Q+OK9Ml26P8C0mlHCT6w//ENKKSLlxz+YhfBbad/VP3ByeHVEXsI/3DTvmCSg1T+u+fZMgozQP1iozE8ko+w/LgXMhCLp4D+6+XA2/2nYP5A4hzDI0tU/NDriJoDl6j8gbyu2GKK9PyO0HTKbBeg/Yils+dFo5j/YJq6zm3e2P2AJ+Y2SM9U/Knl8BJON0D+tMfY53ULoP357AfI7fuI/AD8wfOg+dD8umJD2n9XbPxKFJRuP6eU/mqc9DcHD5D9/HMyj7XXhP3DbKm+37+E/QF6BMHEakj8T+e+idbTkP2b8LfEkDOQ/92aXwlJ75z90v9CmOPPcP48b3vllveA/a1tRuxS74T8EirXic0PkP+jNoLkxJNw/6bgcqCUb7z9MuVr5CrzlP2zaN6IHZ+g/m3/NM2ax7T+KSO69T9ztPwBFFY1Z0oM/34mThqNC7T+YHKu0JVXpP+D+g+pLp6A/7P16QwC36D84Z7u729m8P9k10fx5/uA/djZPxuBS6z9eG63QbTDmPznlGb21gew/fFI26VNl3T9oz9of5JXRPxggb8OyGrU/KBsrxjAYwT+3j1csTcfpPybEHUnfmuc/227VSLwr5D+Q5BBLmRHUP1sY8dcqQ+M/IBCQScMRpD91SMxmkcPqPzovVodmItw/rhThf10p2D9k4A93bnDgP80SaOjKous/DkHd7Z+J3D+EK8cnNNnCP2S3nZJpgug/kSvs4QJ/5T/SKCoglHrtPzCpr0MORNM/QAStmK2Yqz+2aikRgKXuP07teGzSnuc/dmq11iu44T/EoiOm6EbWPy5GQZQwod8/iCk04K6p1D8cd42LqGPgP/QP3qK/bs0/AGtOT807fD81vdZ6o8flP2O5Ci7rJOw/VPbiflAI7j9t3IUiDZPuP8ayyrYdZ9g/0k/8QBY83j/rcKsKo7zkPxGzfotbGe8/f/fhhxtn6D+qyLXYFxbsPxzXz3C0tNM/W2FKvHyR4j+gouuzBaC/P6VfHPUNfes/hs5sYf9e3T+4xaSGOoy9P/JTfbAn5O4/eDcG2TRjyj8nvbr0Q4vuPzT4OP3Mudg/9KrZQjJDyz/4LfsasYW8P5CHRi7E3L8/JohI/czt4j/oVLjrOiK0P/YulFVvfdc/T5U0Tay66z9AnIvlbW2FP4LF5cltcug/ggaDvy037T9elmdMDEvRPxKdv78gH9Q/NDcvK9/D4D9924B9GJzhP/BGfCXP1uA/0bT9m0nO5D88tcx3NhDJPyD8VNgHyKc/kMUjtateqT94Bko2tEHMP6KxyRBPbOQ/gDqwO26M2j9YYof3/0LkP0DV+Tbwk7U/sNfZ17HQvT96pFtwnLXRP+zhXCJkZuU/pIAI674Gwz+ubkAMWsHZP0SVzVsBYNo/yc5UoteZ5T8wtPAtQ1bMP3gpRv5Pl+4/eY1RlYa44j8cg4QvaofDP7iZTpOPT8E/QhivfpYV5D9SqVAB/ijRP9bTi0mqX9A/azrstZO+4j+0ygsjyBnEP5Qvx0Xkce8/MMqnlkaExT86v+r+Sc7VP8/8U8LVE+4/jPyPIRqX1z9YqV3xb23nP36hq7IXpOM/oKCT0vyb7D9tLJCAjfLgP1ifKIqGP+M/nu9ilv827T/wEY1O40W2P7aNsr9jl+4/kauenBK47j+EvCaGBHnLPzGM0jWqeuI/+gf1rh3+2D/wVyRNg5fdP0VbOuyam+E/kKbOzeFG0z8qoPnl7pftP7TnNZFZ98A/eLGU1v+bwj/znXge3UvlPwK6PK5+XNg/cJMepkzcvz9YuqhBcaDWP0zCjCUdfdM/gcxIfWGl6T82V74tYBvqP/ikdc/2UN4/udejJyOC5z83ZfJvqXDoPwJRdIW6yek/KHywu0eGyD947BWaFsrpP9Da2bvHdNc/KLs/20uewz8oE88cG6y/PzjdPeVLLc0/qx/L94uK5D8UcVygYqnqP4SRIu+4p8E/ZOR4krr2xz8w/vMsK+y8P75U86MsZtg/DFMvrErd7z8T7wZa1BToP0AIJThUw40/AKAo9aPh6D/IodmRDY/sP0CFtvIVjbA/CkrVpDg62z+gRBQRQZWQP/UBPtTu8Og/cI/pKMnX4j88SLUdoDXmP5CXP6pgwLQ/yJhf7ZPpvD9YAPhXwyPcPyjLW9+z7+o/4m5O67Ih1T+aASDgYfrkPxF1M+QQN+4/LAnxuXLt3T8QDBl7b5DiP4bgU8YlXOc/Oz7Pk7ZQ5z/NkdXYSCrhP6HDlDwsiO4/Mqx3w3r+3z9lDrRlbWboP8i5k3hKedQ/3NcJh49r1D8kxpVkBdrKPyyHcx1lANI/BI8mhg2N3D+Lsr+R+WrnP80A6CV2i+I/koul7CD17D+WFguKvmrYP0UtG8oIjuU/k3TXGZiC6z88aRpgpMXKP8SEMuAlWNM/EhAr4AUZ4j9uMil5cxrsP9/B+btKUOg/+PNSEIMwuz/f+3iLNeHvP90ws4DEius/yq/0a8E26j/AqRI/wXPeP0wIuuNZO8g/Vpd9vgfh4T+Uha6Sh0zmPyyYXiWgqOs/YFh93Iz1rz9mVCiqfPHbPyJs1LKVv9I/8pGztvHc2j/wLjmwJ1XOP/r0mPxizNI/+CYOlGi3zz/4OFRrtfndP3eh/4Abx+Q/uP+BWvM47z9Y9ysx91y7P6vZoDKYJeU/cgarjg9O2z+6aDNOoLPsP/By+1DoeaA/SMoQz0921j/g1W4sLQDvP0BD6kIjyKw/cHTCF2Cmuz+AirNVUbPOP7aoTtw1YOQ/nL3A+BPh7T90tVgd/i7XPzrxrC8Y1dw/7W9wx9GT5z9ATKi6xkSbPybmLHr4dO4/aJnGvYyszz+QCWV/zbu0P0p59/UCfek/QNnGphWT3z9ibWLxIoHeP5g3xcziXMo/ALeVf2IQuz+KrrXsZUPmP+8sfDEciOY/ZFF62x+Cwj/3AMB8XNrtP7g/wdrui7w/85J/nRAr7T+se05FhgLtP6CaViwJoO4/Ljm8plOB6T/SDO5B7MPnPyCYmuRYo60/WUtI5Rjs6z9ZHQs7hhHhP0tjOmVVv+o/FE73jjhRyj8Qo7o9boi+P2j3VsNoP8E/cEqi8lchuj/ASRYZzGKRPxCA4N0TMbM/AmyxVnlp5T+UIg+1lHDMPwC6RYWAm1E/shlhOkDn7D/gvw5+xabFP4BgRSK9X4M/EgNgQm7E0D++/NL5r+LsP6C9jTecCKA/optn6J152j/i+oRYw8XYP8JVCad4+ts/grsTZKPD0D84n14dDtTqPzCBYlmqutA/+DCM7RivyD9ytCAxK3nhP+2WkPScIeQ/2FLaZMiwuD8pDmQJdiblPyb29afDMtc/qEehIoCX0T/WivnEkBrsP84Q6ZQpWu0/CHb3gWBysD/PiZ2ygubsP34eVykin9Y/qRayGEEn5D+VQ7oNsX3nP4nR9phxy+E/dv415C2b0D/UOF2crcHOP7Y27dpJ4tc/6K532osu5D8AUWDxyXngPxbPTja/Yt0/amtHq4xL5j+gGqFjtwmxPy8wf/tnKO0/qez+Zh2S6z8cnA9GujDCP8wsxhNs59M/oBjLRpVwtT8zGVApWb3lP3SwlrwSqcQ/oBUDTUINxz9gNL9oo8O3P8gwpZ5LZbw/yAguzX/f1j/c5wx6VSjcP+IP/ipDhdc/lj54LV772T++bkdRl2XrP+zvDE1z9s0/ADAMdol9gj+070SXMl3dP/3OiGli5+I/eVvARoav5D/oGxQ1S5rGP6FqZISS5uA/4GGkac/Skj8SO6EG59nrPxy+qj3jR+c/ZX1oRNcY7z/r/R0dVMPqP4IBP+qRteI/Ou3AlEX40D8T/C0enKvlP+rEOcosJes/cJv55WwwqD+ag3zZxRbhPwCpEQMHi+E/KJ1ecwYBxT8T9AjxGpfjP4DuTI+25Y4/3aMF+KY+5T90+je7v9nQPwxdlgFQte0/2ODCsUQU7j8UqF5+9g7NP/TB/Tl10us/e4iKRFtt5D8ONvZnPzDtPyQflcvyC8g/G3W2kO/D4z/6INCn0wTQP+wtovtjU9w/gEDG1Nos5T8Gr7/i40jSPyzeAAdGk8g/4DhRqmdN2D8wsumwU/HmP9gv6CLtnrQ/iommUcKU1D9iWfZ485vcP8B1Fa79E5c/yhzVAOwh2z+w/6D4SX7KP+SI3/W1i8o/UjUTTviE5z+aGvBKLJLiPw2JtT1Sp+g/2MkoktYnuj9s7LMHzhraP0wl3ac7m8M/q7+NNK4S5j+Q6aUiUi3SP9ws61KGzss/eImEq9LQ2T+43G36qEXYP0jid6M22+4/xjrK8ZWD0D/+s7wayS3fP/zm99k/Q9E/drXMCy/01z/AWhqWJcy3PyTbbM1JH+A/blJvBggr6z9YRnrAgu+xP8TnJFHYJds/SJwRU/Cp2j+4EQ0wkQi8P9wXeWZptsY/oKJa7GXEnT8J4HkmwtHsP0jUqpQ3DsU/XwwcAbh67D+wSBStlGDTP9D0eUFUUuA/51mwfLs05T+nmhT1FojkP2TZN4Gfic4/Uyv5eL0V4T9G5zeRLXvVP/o7ha0Qmtg/IG+3K09qqT/Y7y9b+d3ZP4JTYg+g9uQ/AIieksR5zD8wKf6HcDLsP0DoRhV/+Yo/kMzHNjtPqT8wT10CVPTcP9ZTF24xyOY/E46WrhSs4T+YgD0Zr3TrP4B3AUUwVNc/F/2zX1Wc6D/aYo0ThpHoPx8M36pJYeM/L6cJALet4D9we0moHeWpP1BUyKV1UN8/ADBP1wygfT9l1keIqg7hP7rF0TMeudk/noKAncp/0z8YsYRvlXPFP3I/D33OntI/njSVfzB11T9ghsqHqOLePxyx5xQIHcY/ttF3y0xv3z8f/Y+pY3PtP+AEM/xXDrw/A25Prsom6z+MKrcWAVHeP3D38GdXluU/UCcxEl/1xj8CwFYCEBbdP3L34UDuXNU/DHndAcyz6z/oAdhdNue3P2zrXv/F/to/0ib0sfwF2z9ceLCVvWbnPxGyNLaTF+A/RxlcvaQo5z96KUOPK4DWP4MYTBy9U+c/vAUnbhjQ4D+IKmuAXejNP1B90QE2FMw/hIuhBCG40z/ZrFh5gjbtPwXZKzvqe+Y/IFi5tP+Foz+bMLvO8gToP/RqRo1uRuE/y2h7m3Si4D8sJiEa0/DcPzh0Jwn4Utw/jfDWzdgd6T887+gTmIrkP/AXbnzEEe8/rlPCVX9Q5T+YROEUSPfpP3bsHlv2/uY/m8K4m9Vx7T+uA0g5qWrdPxi3iWLDseY/bmc7eftr4D9Iy31fGWLFP0DTW+bCecM/TBbDfaUnzT8OPT8fD4HrPzah1lsxVdI/kqVXjo8c0z9w2mJS0MK0P/DFhJPIYqY/D7g0Bnc75T/Fyec7sanhPwQz3YmZRuc/hPVe6Z+J1D9/mpZ/K7rtPxTB4d4jwME/uA4J6qD6uD+QZ++qgEG/P/6kp1866to/NO5oFAuY7j/9GWpJgCLnP8ADycE7o+c/SBcmUyR75z92/HHFq/LQP3pnd8CaN90/3Pc9WHCmxD++dCRFHeDYP3AKNch6b9w/EgAyn9BA7D+/iHnAoR/rP3Tm0thx68g/BmFvqdwM7z9Elwg5e9nJP96PCqR8Ee8/Ir6fi+8N3z/IX8Tx6eHbP5D/J6frK6Y/YhAC8oVX3T8cd4AQZbfHPz7Wy28dCuc/oBdRlLKxmD+w88tsKp/iPzDeF1MsrNI/ar0/Ha+l3j8=\",\"dtype\":\"float64\",\"shape\":[4000]},\"x\":[\"in\",\"the\",\"God\",\"heaven\",\"and\",\"earth\",\"was\",\"without\",\"upon\",\"face\",\"of\",\"spirit\",\"said\",\"let\",\"there\",\"be\",\"saw\",\"that\",\"it\",\"from\",\"called\",\"day\",\"he\",\"were\",\"first\",\"a\",\"midst\",\"made\",\"which\",\"under\",\"so\",\"together\",\"unto\",\"one\",\"place\",\"land\",\"good\",\"bring\",\"forth\",\"after\",\"his\",\"is\",\"brought\",\"to\",\"them\",\"for\",\"days\",\"give\",\"two\",\"great\",\"also\",\"set\",\"over\",\"hath\",\"life\",\"may\",\"every\",\"their\",\"saying\",\"thing\",\"us\",\"make\",\"man\",\"our\",\"have\",\"sea\",\"all\",\"own\",\"him\",\"behold\",\"i\",\"given\",\"you\",\"shall\",\"had\",\"thus\",\"on\",\"work\",\"because\",\"these\",\"are\",\"when\",\"they\",\"lord\",\"before\",\"not\",\"but\",\"went\",\"up\",\"into\",\"soul\",\"put\",\"whom\",\"out\",\"sight\",\"evil\",\"water\",\"four\",\"name\",\"where\",\"gold\",\"same\",\"toward\",\"took\",\"keep\",\"commanded\",\"thou\",\"shalt\",\"eat\",\"thereof\",\"should\",\"will\",\"an\",\"see\",\"what\",\"would\",\"gave\",\"found\",\"flesh\",\"taken\",\"woman\",\"her\",\"this\",\"now\",\"my\",\"she\",\"therefore\",\"father\",\"both\",\"wife\",\"more\",\"than\",\"any\",\"yea\",\"ye\",\"we\",\"neither\",\"know\",\"then\",\"your\",\"eyes\",\"as\",\"did\",\"with\",\"themselves\",\"heard\",\"voice\",\"art\",\"thy\",\"who\",\"thee\",\"hast\",\"me\",\"done\",\"go\",\"head\",\"children\",\"bread\",\"hand\",\"take\",\"sent\",\"at\",\"sword\",\"way\",\"again\",\"brother\",\"time\",\"came\",\"pass\",\"offering\",\"if\",\"sin\",\"against\",\"am\",\"blood\",\"mouth\",\"come\",\"city\",\"son\",\"other\",\"dwell\",\"hear\",\"another\",\"men\",\"hundred\",\"years\",\"sons\",\"five\",\"seven\",\"three\",\"hands\",\"yet\",\"those\",\"old\",\"heart\",\"through\",\"side\",\"even\",\"do\",\"according\",\"house\",\"by\",\"cause\",\"off\",\"year\",\"high\",\"things\",\"until\",\"no\",\"spake\",\"altar\",\"burnt\",\"fear\",\"cut\",\"brethren\",\"servant\",\"servants\",\"nations\",\"wherefore\",\"kingdom\",\"down\",\"people\",\"left\",\"daughter\",\"law\",\"egypt\",\"say\",\"pray\",\"might\",\"away\",\"been\",\"right\",\"or\",\"like\",\"cities\",\"wicked\",\"thine\",\"ever\",\"king\",\"kings\",\"himself\",\"priest\",\"mine\",\"word\",\"fathers\",\"peace\",\"many\",\"among\",\"o\",\"stood\",\"answered\",\"speak\",\"round\",\"fire\",\"drink\",\"nor\",\"dead\",\"thousand\",\"cast\",\"death\",\"saith\",\"none\",\"about\",\"words\",\"jacob\",\"how\",\"love\",\"judah\",\"glory\",\"israel\",\"saul\",\"priests\",\"moses\",\"holy\",\"aaron\",\"god\",\"congregation\",\"tabernacle\",\"jerusalem\",\"david\",\"jesus\",\"christ\"],\"y\":[12198,61655,3709,527,50021,827,4309,397,2625,381,33340,467,3837,1444,2151,6776,527,12452,5673,3478,597,1597,10010,2664,413,7892,341,1346,4251,377,1618,425,8693,1887,641,1597,661,705,825,1128,8158,6693,834,13067,5840,8673,767,860,805,897,1687,660,972,2161,389,990,1182,3772,1413,495,1324,1023,2455,1123,3747,358,5452,559,6025,1281,8497,475,2378,9565,1937,713,1942,383,1169,1177,2829,2726,7081,7288,1735,6199,3865,1343,2221,1924,416,883,735,2638,303,565,343,316,852,379,382,311,338,738,356,422,5276,1589,607,784,732,3687,1651,567,925,412,446,380,381,307,338,1892,2646,1286,4156,956,1201,918,348,362,637,453,881,312,3864,1801,843,729,2081,1714,451,3385,970,5744,371,607,465,479,4506,918,3434,1031,3626,533,1421,333,1733,330,1311,847,665,1501,376,618,626,346,584,2012,804,632,1542,417,1606,823,419,377,1891,791,2276,443,322,515,413,1536,564,498,1018,335,443,452,419,645,445,356,775,447,410,1347,1291,766,1867,2522,308,467,343,388,1072,355,1323,573,338,347,370,307,530,449,446,312,338,320,1028,1979,326,314,488,537,1028,304,455,816,310,343,1069,630,421,308,886,373,2170,307,481,467,609,655,490,397,524,881,1065,323,445,481,309,483,340,737,332,495,483,317,1206,342,566,485,338,516,306,760,373,2334,373,361,810,572,313,321,325,311,695,973,902,518]}},\"id\":\"932bb470-3d95-4e1a-ba0b-362c45d1fbb7\",\"type\":\"ColumnDataSource\"},{\"attributes\":{\"fill_alpha\":{\"value\":0.6},\"fill_color\":{\"field\":\"fill_color\"},\"line_color\":{\"value\":null},\"radius\":{\"field\":\"radius\",\"units\":\"data\"},\"x\":{\"field\":\"x\"},\"y\":{\"field\":\"y\"}},\"id\":\"49b81883-377d-4ed9-830f-0352c1e0c484\",\"type\":\"Circle\"},{\"attributes\":{\"callback\":null},\"id\":\"3bdd410c-31e8-4228-9b22-94a02f6a0138\",\"type\":\"DataRange1d\"},{\"attributes\":{},\"id\":\"1a493c1a-2771-4dc9-9b74-d112ef388b82\",\"type\":\"ToolEvents\"},{\"attributes\":{},\"id\":\"0f04174a-f59a-456a-bb68-b8f4e80cafa4\",\"type\":\"BasicTickFormatter\"}],\"root_ids\":[\"982d8c77-08e1-4eac-a22b-6b192ff24a55\"]},\"title\":\"Bokeh Application\",\"version\":\"0.12.4\"}};\n",
       "            var render_items = [{\"docid\":\"da07809c-2f14-41e4-979a-1245487b9bfa\",\"elementid\":\"6681ac93-028b-4d0e-a6b0-210c1c5663ce\",\"modelid\":\"982d8c77-08e1-4eac-a22b-6b192ff24a55\"}];\n",
       "            \n",
       "            Bokeh.embed.embed_items(docs_json, render_items);\n",
       "          };\n",
       "          if (document.readyState != \"loading\") fn();\n",
       "          else document.addEventListener(\"DOMContentLoaded\", fn);\n",
       "        })();\n",
       "      },\n",
       "      function(Bokeh) {\n",
       "      }\n",
       "    ];\n",
       "  \n",
       "    function run_inline_js() {\n",
       "      \n",
       "      if ((window.Bokeh !== undefined) || (force === true)) {\n",
       "        for (var i = 0; i < inline_js.length; i++) {\n",
       "          inline_js[i](window.Bokeh);\n",
       "        }if (force === true) {\n",
       "          display_loaded();\n",
       "        }} else if (Date.now() < window._bokeh_timeout) {\n",
       "        setTimeout(run_inline_js, 100);\n",
       "      } else if (!window._bokeh_failed_load) {\n",
       "        console.log(\"Bokeh: BokehJS failed to load within specified timeout.\");\n",
       "        window._bokeh_failed_load = true;\n",
       "      } else if (force !== true) {\n",
       "        var cell = $(document.getElementById(\"6681ac93-028b-4d0e-a6b0-210c1c5663ce\")).parents('.cell').data().cell;\n",
       "        cell.output_area.append_execute_result(NB_LOAD_WARNING)\n",
       "      }\n",
       "  \n",
       "    }\n",
       "  \n",
       "    if (window._bokeh_is_loading === 0) {\n",
       "      console.log(\"Bokeh: BokehJS loaded, going straight to plotting\");\n",
       "      run_inline_js();\n",
       "    } else {\n",
       "      load_libs(js_urls, function() {\n",
       "        console.log(\"Bokeh: BokehJS plotting callback run at\", now());\n",
       "        run_inline_js();\n",
       "      });\n",
       "    }\n",
       "  }(this));\n",
       "</script>"
      ]
     },
     "metadata": {},
     "output_type": "display_data"
    }
   ],
   "source": [
    "show(p)"
   ]
  },
  {
   "cell_type": "code",
   "execution_count": 329,
   "metadata": {
    "collapsed": true,
    "deletable": true,
    "editable": true
   },
   "outputs": [],
   "source": [
    " p = figure(title=\"Rhema Word Freq\", x_axis_label='Word', y_axis_label='Freq')"
   ]
  },
  {
   "cell_type": "code",
   "execution_count": 330,
   "metadata": {
    "collapsed": false,
    "deletable": true,
    "editable": true
   },
   "outputs": [
    {
     "data": {
      "text/html": [
       "\n",
       "    <div class=\"bk-root\">\n",
       "        <a href=\"http://bokeh.pydata.org\" target=\"_blank\" class=\"bk-logo bk-logo-small bk-logo-notebook\"></a>\n",
       "        <span id=\"b55edc53-ccbe-45d1-912c-cc1bb1bdada3\">Loading BokehJS ...</span>\n",
       "    </div>"
      ]
     },
     "metadata": {},
     "output_type": "display_data"
    },
    {
     "data": {
      "application/javascript": [
       "\n",
       "(function(global) {\n",
       "  function now() {\n",
       "    return new Date();\n",
       "  }\n",
       "\n",
       "  var force = true;\n",
       "\n",
       "  if (typeof (window._bokeh_onload_callbacks) === \"undefined\" || force === true) {\n",
       "    window._bokeh_onload_callbacks = [];\n",
       "    window._bokeh_is_loading = undefined;\n",
       "  }\n",
       "\n",
       "\n",
       "  \n",
       "  if (typeof (window._bokeh_timeout) === \"undefined\" || force === true) {\n",
       "    window._bokeh_timeout = Date.now() + 5000;\n",
       "    window._bokeh_failed_load = false;\n",
       "  }\n",
       "\n",
       "  var NB_LOAD_WARNING = {'data': {'text/html':\n",
       "     \"<div style='background-color: #fdd'>\\n\"+\n",
       "     \"<p>\\n\"+\n",
       "     \"BokehJS does not appear to have successfully loaded. If loading BokehJS from CDN, this \\n\"+\n",
       "     \"may be due to a slow or bad network connection. Possible fixes:\\n\"+\n",
       "     \"</p>\\n\"+\n",
       "     \"<ul>\\n\"+\n",
       "     \"<li>re-rerun `output_notebook()` to attempt to load from CDN again, or</li>\\n\"+\n",
       "     \"<li>use INLINE resources instead, as so:</li>\\n\"+\n",
       "     \"</ul>\\n\"+\n",
       "     \"<code>\\n\"+\n",
       "     \"from bokeh.resources import INLINE\\n\"+\n",
       "     \"output_notebook(resources=INLINE)\\n\"+\n",
       "     \"</code>\\n\"+\n",
       "     \"</div>\"}};\n",
       "\n",
       "  function display_loaded() {\n",
       "    if (window.Bokeh !== undefined) {\n",
       "      document.getElementById(\"b55edc53-ccbe-45d1-912c-cc1bb1bdada3\").textContent = \"BokehJS successfully loaded.\";\n",
       "    } else if (Date.now() < window._bokeh_timeout) {\n",
       "      setTimeout(display_loaded, 100)\n",
       "    }\n",
       "  }\n",
       "\n",
       "  function run_callbacks() {\n",
       "    window._bokeh_onload_callbacks.forEach(function(callback) { callback() });\n",
       "    delete window._bokeh_onload_callbacks\n",
       "    console.info(\"Bokeh: all callbacks have finished\");\n",
       "  }\n",
       "\n",
       "  function load_libs(js_urls, callback) {\n",
       "    window._bokeh_onload_callbacks.push(callback);\n",
       "    if (window._bokeh_is_loading > 0) {\n",
       "      console.log(\"Bokeh: BokehJS is being loaded, scheduling callback at\", now());\n",
       "      return null;\n",
       "    }\n",
       "    if (js_urls == null || js_urls.length === 0) {\n",
       "      run_callbacks();\n",
       "      return null;\n",
       "    }\n",
       "    console.log(\"Bokeh: BokehJS not loaded, scheduling load and callback at\", now());\n",
       "    window._bokeh_is_loading = js_urls.length;\n",
       "    for (var i = 0; i < js_urls.length; i++) {\n",
       "      var url = js_urls[i];\n",
       "      var s = document.createElement('script');\n",
       "      s.src = url;\n",
       "      s.async = false;\n",
       "      s.onreadystatechange = s.onload = function() {\n",
       "        window._bokeh_is_loading--;\n",
       "        if (window._bokeh_is_loading === 0) {\n",
       "          console.log(\"Bokeh: all BokehJS libraries loaded\");\n",
       "          run_callbacks()\n",
       "        }\n",
       "      };\n",
       "      s.onerror = function() {\n",
       "        console.warn(\"failed to load library \" + url);\n",
       "      };\n",
       "      console.log(\"Bokeh: injecting script tag for BokehJS library: \", url);\n",
       "      document.getElementsByTagName(\"head\")[0].appendChild(s);\n",
       "    }\n",
       "  };var element = document.getElementById(\"b55edc53-ccbe-45d1-912c-cc1bb1bdada3\");\n",
       "  if (element == null) {\n",
       "    console.log(\"Bokeh: ERROR: autoload.js configured with elementid 'b55edc53-ccbe-45d1-912c-cc1bb1bdada3' but no matching script tag was found. \")\n",
       "    return false;\n",
       "  }\n",
       "\n",
       "  var js_urls = [\"https://cdn.pydata.org/bokeh/release/bokeh-0.12.4.min.js\", \"https://cdn.pydata.org/bokeh/release/bokeh-widgets-0.12.4.min.js\"];\n",
       "\n",
       "  var inline_js = [\n",
       "    function(Bokeh) {\n",
       "      Bokeh.set_log_level(\"info\");\n",
       "    },\n",
       "    \n",
       "    function(Bokeh) {\n",
       "      \n",
       "      document.getElementById(\"b55edc53-ccbe-45d1-912c-cc1bb1bdada3\").textContent = \"BokehJS is loading...\";\n",
       "    },\n",
       "    function(Bokeh) {\n",
       "      console.log(\"Bokeh: injecting CSS: https://cdn.pydata.org/bokeh/release/bokeh-0.12.4.min.css\");\n",
       "      Bokeh.embed.inject_css(\"https://cdn.pydata.org/bokeh/release/bokeh-0.12.4.min.css\");\n",
       "      console.log(\"Bokeh: injecting CSS: https://cdn.pydata.org/bokeh/release/bokeh-widgets-0.12.4.min.css\");\n",
       "      Bokeh.embed.inject_css(\"https://cdn.pydata.org/bokeh/release/bokeh-widgets-0.12.4.min.css\");\n",
       "    }\n",
       "  ];\n",
       "\n",
       "  function run_inline_js() {\n",
       "    \n",
       "    if ((window.Bokeh !== undefined) || (force === true)) {\n",
       "      for (var i = 0; i < inline_js.length; i++) {\n",
       "        inline_js[i](window.Bokeh);\n",
       "      }if (force === true) {\n",
       "        display_loaded();\n",
       "      }} else if (Date.now() < window._bokeh_timeout) {\n",
       "      setTimeout(run_inline_js, 100);\n",
       "    } else if (!window._bokeh_failed_load) {\n",
       "      console.log(\"Bokeh: BokehJS failed to load within specified timeout.\");\n",
       "      window._bokeh_failed_load = true;\n",
       "    } else if (force !== true) {\n",
       "      var cell = $(document.getElementById(\"b55edc53-ccbe-45d1-912c-cc1bb1bdada3\")).parents('.cell').data().cell;\n",
       "      cell.output_area.append_execute_result(NB_LOAD_WARNING)\n",
       "    }\n",
       "\n",
       "  }\n",
       "\n",
       "  if (window._bokeh_is_loading === 0) {\n",
       "    console.log(\"Bokeh: BokehJS loaded, going straight to plotting\");\n",
       "    run_inline_js();\n",
       "  } else {\n",
       "    load_libs(js_urls, function() {\n",
       "      console.log(\"Bokeh: BokehJS plotting callback run at\", now());\n",
       "      run_inline_js();\n",
       "    });\n",
       "  }\n",
       "}(this));"
      ]
     },
     "metadata": {},
     "output_type": "display_data"
    }
   ],
   "source": [
    "p.line(x,y, legend=\"Worded\", line_width=2)\n",
    "output_notebook()"
   ]
  },
  {
   "cell_type": "code",
   "execution_count": 331,
   "metadata": {
    "collapsed": false,
    "deletable": true,
    "editable": true
   },
   "outputs": [
    {
     "data": {
      "text/html": [
       "\n",
       "\n",
       "    <div class=\"bk-root\">\n",
       "        <div class=\"bk-plotdiv\" id=\"1f42049d-c6a7-41d4-bac2-8ce8fd4b1ea8\"></div>\n",
       "    </div>\n",
       "<script type=\"text/javascript\">\n",
       "  \n",
       "  (function(global) {\n",
       "    function now() {\n",
       "      return new Date();\n",
       "    }\n",
       "  \n",
       "    var force = false;\n",
       "  \n",
       "    if (typeof (window._bokeh_onload_callbacks) === \"undefined\" || force === true) {\n",
       "      window._bokeh_onload_callbacks = [];\n",
       "      window._bokeh_is_loading = undefined;\n",
       "    }\n",
       "  \n",
       "  \n",
       "    \n",
       "    if (typeof (window._bokeh_timeout) === \"undefined\" || force === true) {\n",
       "      window._bokeh_timeout = Date.now() + 0;\n",
       "      window._bokeh_failed_load = false;\n",
       "    }\n",
       "  \n",
       "    var NB_LOAD_WARNING = {'data': {'text/html':\n",
       "       \"<div style='background-color: #fdd'>\\n\"+\n",
       "       \"<p>\\n\"+\n",
       "       \"BokehJS does not appear to have successfully loaded. If loading BokehJS from CDN, this \\n\"+\n",
       "       \"may be due to a slow or bad network connection. Possible fixes:\\n\"+\n",
       "       \"</p>\\n\"+\n",
       "       \"<ul>\\n\"+\n",
       "       \"<li>re-rerun `output_notebook()` to attempt to load from CDN again, or</li>\\n\"+\n",
       "       \"<li>use INLINE resources instead, as so:</li>\\n\"+\n",
       "       \"</ul>\\n\"+\n",
       "       \"<code>\\n\"+\n",
       "       \"from bokeh.resources import INLINE\\n\"+\n",
       "       \"output_notebook(resources=INLINE)\\n\"+\n",
       "       \"</code>\\n\"+\n",
       "       \"</div>\"}};\n",
       "  \n",
       "    function display_loaded() {\n",
       "      if (window.Bokeh !== undefined) {\n",
       "        document.getElementById(\"1f42049d-c6a7-41d4-bac2-8ce8fd4b1ea8\").textContent = \"BokehJS successfully loaded.\";\n",
       "      } else if (Date.now() < window._bokeh_timeout) {\n",
       "        setTimeout(display_loaded, 100)\n",
       "      }\n",
       "    }\n",
       "  \n",
       "    function run_callbacks() {\n",
       "      window._bokeh_onload_callbacks.forEach(function(callback) { callback() });\n",
       "      delete window._bokeh_onload_callbacks\n",
       "      console.info(\"Bokeh: all callbacks have finished\");\n",
       "    }\n",
       "  \n",
       "    function load_libs(js_urls, callback) {\n",
       "      window._bokeh_onload_callbacks.push(callback);\n",
       "      if (window._bokeh_is_loading > 0) {\n",
       "        console.log(\"Bokeh: BokehJS is being loaded, scheduling callback at\", now());\n",
       "        return null;\n",
       "      }\n",
       "      if (js_urls == null || js_urls.length === 0) {\n",
       "        run_callbacks();\n",
       "        return null;\n",
       "      }\n",
       "      console.log(\"Bokeh: BokehJS not loaded, scheduling load and callback at\", now());\n",
       "      window._bokeh_is_loading = js_urls.length;\n",
       "      for (var i = 0; i < js_urls.length; i++) {\n",
       "        var url = js_urls[i];\n",
       "        var s = document.createElement('script');\n",
       "        s.src = url;\n",
       "        s.async = false;\n",
       "        s.onreadystatechange = s.onload = function() {\n",
       "          window._bokeh_is_loading--;\n",
       "          if (window._bokeh_is_loading === 0) {\n",
       "            console.log(\"Bokeh: all BokehJS libraries loaded\");\n",
       "            run_callbacks()\n",
       "          }\n",
       "        };\n",
       "        s.onerror = function() {\n",
       "          console.warn(\"failed to load library \" + url);\n",
       "        };\n",
       "        console.log(\"Bokeh: injecting script tag for BokehJS library: \", url);\n",
       "        document.getElementsByTagName(\"head\")[0].appendChild(s);\n",
       "      }\n",
       "    };var element = document.getElementById(\"1f42049d-c6a7-41d4-bac2-8ce8fd4b1ea8\");\n",
       "    if (element == null) {\n",
       "      console.log(\"Bokeh: ERROR: autoload.js configured with elementid '1f42049d-c6a7-41d4-bac2-8ce8fd4b1ea8' but no matching script tag was found. \")\n",
       "      return false;\n",
       "    }\n",
       "  \n",
       "    var js_urls = [];\n",
       "  \n",
       "    var inline_js = [\n",
       "      function(Bokeh) {\n",
       "        (function() {\n",
       "          var fn = function() {\n",
       "            var docs_json = {\"502fff55-02a0-4c91-8c66-e4c80deda299\":{\"roots\":{\"references\":[{\"attributes\":{},\"id\":\"bdd55c56-65fa-4f71-9f79-7b3fafb555a9\",\"type\":\"ToolEvents\"},{\"attributes\":{},\"id\":\"931a9763-4843-4cdf-87a9-55982f440fc6\",\"type\":\"BasicTicker\"},{\"attributes\":{\"plot\":{\"id\":\"da864e8a-4b99-4689-90ff-52e9e47de6c6\",\"subtype\":\"Figure\",\"type\":\"Plot\"}},\"id\":\"501e3818-5a33-4dc0-8b25-686172736c84\",\"type\":\"ResetTool\"},{\"attributes\":{\"plot\":{\"id\":\"da864e8a-4b99-4689-90ff-52e9e47de6c6\",\"subtype\":\"Figure\",\"type\":\"Plot\"},\"ticker\":{\"id\":\"c50e2179-47f2-42a9-8cf0-e1ae44624088\",\"type\":\"BasicTicker\"}},\"id\":\"c8b14279-35d4-4fee-a0a8-926644c4e207\",\"type\":\"Grid\"},{\"attributes\":{\"axis_label\":\"Word\",\"formatter\":{\"id\":\"3d1587df-e77f-4610-ae02-dac1d029c471\",\"type\":\"BasicTickFormatter\"},\"plot\":{\"id\":\"da864e8a-4b99-4689-90ff-52e9e47de6c6\",\"subtype\":\"Figure\",\"type\":\"Plot\"},\"ticker\":{\"id\":\"c50e2179-47f2-42a9-8cf0-e1ae44624088\",\"type\":\"BasicTicker\"}},\"id\":\"6ef43dcc-2f49-4a3c-afc7-dc6dedc1454a\",\"type\":\"LinearAxis\"},{\"attributes\":{\"items\":[{\"id\":\"b77b0625-4d1b-4fa4-82a7-a41329ea184a\",\"type\":\"LegendItem\"}],\"plot\":{\"id\":\"da864e8a-4b99-4689-90ff-52e9e47de6c6\",\"subtype\":\"Figure\",\"type\":\"Plot\"}},\"id\":\"d5ab58ec-9599-43df-928f-85e03606ce1a\",\"type\":\"Legend\"},{\"attributes\":{},\"id\":\"3d1587df-e77f-4610-ae02-dac1d029c471\",\"type\":\"BasicTickFormatter\"},{\"attributes\":{\"callback\":null,\"column_names\":[\"x\",\"y\"],\"data\":{\"x\":[\"in\",\"the\",\"God\",\"heaven\",\"and\",\"earth\",\"was\",\"without\",\"upon\",\"face\",\"of\",\"spirit\",\"said\",\"let\",\"there\",\"be\",\"saw\",\"that\",\"it\",\"from\",\"called\",\"day\",\"he\",\"were\",\"first\",\"a\",\"midst\",\"made\",\"which\",\"under\",\"so\",\"together\",\"unto\",\"one\",\"place\",\"land\",\"good\",\"bring\",\"forth\",\"after\",\"his\",\"is\",\"brought\",\"to\",\"them\",\"for\",\"days\",\"give\",\"two\",\"great\",\"also\",\"set\",\"over\",\"hath\",\"life\",\"may\",\"every\",\"their\",\"saying\",\"thing\",\"us\",\"make\",\"man\",\"our\",\"have\",\"sea\",\"all\",\"own\",\"him\",\"behold\",\"i\",\"given\",\"you\",\"shall\",\"had\",\"thus\",\"on\",\"work\",\"because\",\"these\",\"are\",\"when\",\"they\",\"lord\",\"before\",\"not\",\"but\",\"went\",\"up\",\"into\",\"soul\",\"put\",\"whom\",\"out\",\"sight\",\"evil\",\"water\",\"four\",\"name\",\"where\",\"gold\",\"same\",\"toward\",\"took\",\"keep\",\"commanded\",\"thou\",\"shalt\",\"eat\",\"thereof\",\"should\",\"will\",\"an\",\"see\",\"what\",\"would\",\"gave\",\"found\",\"flesh\",\"taken\",\"woman\",\"her\",\"this\",\"now\",\"my\",\"she\",\"therefore\",\"father\",\"both\",\"wife\",\"more\",\"than\",\"any\",\"yea\",\"ye\",\"we\",\"neither\",\"know\",\"then\",\"your\",\"eyes\",\"as\",\"did\",\"with\",\"themselves\",\"heard\",\"voice\",\"art\",\"thy\",\"who\",\"thee\",\"hast\",\"me\",\"done\",\"go\",\"head\",\"children\",\"bread\",\"hand\",\"take\",\"sent\",\"at\",\"sword\",\"way\",\"again\",\"brother\",\"time\",\"came\",\"pass\",\"offering\",\"if\",\"sin\",\"against\",\"am\",\"blood\",\"mouth\",\"come\",\"city\",\"son\",\"other\",\"dwell\",\"hear\",\"another\",\"men\",\"hundred\",\"years\",\"sons\",\"five\",\"seven\",\"three\",\"hands\",\"yet\",\"those\",\"old\",\"heart\",\"through\",\"side\",\"even\",\"do\",\"according\",\"house\",\"by\",\"cause\",\"off\",\"year\",\"high\",\"things\",\"until\",\"no\",\"spake\",\"altar\",\"burnt\",\"fear\",\"cut\",\"brethren\",\"servant\",\"servants\",\"nations\",\"wherefore\",\"kingdom\",\"down\",\"people\",\"left\",\"daughter\",\"law\",\"egypt\",\"say\",\"pray\",\"might\",\"away\",\"been\",\"right\",\"or\",\"like\",\"cities\",\"wicked\",\"thine\",\"ever\",\"king\",\"kings\",\"himself\",\"priest\",\"mine\",\"word\",\"fathers\",\"peace\",\"many\",\"among\",\"o\",\"stood\",\"answered\",\"speak\",\"round\",\"fire\",\"drink\",\"nor\",\"dead\",\"thousand\",\"cast\",\"death\",\"saith\",\"none\",\"about\",\"words\",\"jacob\",\"how\",\"love\",\"judah\",\"glory\",\"israel\",\"saul\",\"priests\",\"moses\",\"holy\",\"aaron\",\"god\",\"congregation\",\"tabernacle\",\"jerusalem\",\"david\",\"jesus\",\"christ\"],\"y\":[12198,61655,3709,527,50021,827,4309,397,2625,381,33340,467,3837,1444,2151,6776,527,12452,5673,3478,597,1597,10010,2664,413,7892,341,1346,4251,377,1618,425,8693,1887,641,1597,661,705,825,1128,8158,6693,834,13067,5840,8673,767,860,805,897,1687,660,972,2161,389,990,1182,3772,1413,495,1324,1023,2455,1123,3747,358,5452,559,6025,1281,8497,475,2378,9565,1937,713,1942,383,1169,1177,2829,2726,7081,7288,1735,6199,3865,1343,2221,1924,416,883,735,2638,303,565,343,316,852,379,382,311,338,738,356,422,5276,1589,607,784,732,3687,1651,567,925,412,446,380,381,307,338,1892,2646,1286,4156,956,1201,918,348,362,637,453,881,312,3864,1801,843,729,2081,1714,451,3385,970,5744,371,607,465,479,4506,918,3434,1031,3626,533,1421,333,1733,330,1311,847,665,1501,376,618,626,346,584,2012,804,632,1542,417,1606,823,419,377,1891,791,2276,443,322,515,413,1536,564,498,1018,335,443,452,419,645,445,356,775,447,410,1347,1291,766,1867,2522,308,467,343,388,1072,355,1323,573,338,347,370,307,530,449,446,312,338,320,1028,1979,326,314,488,537,1028,304,455,816,310,343,1069,630,421,308,886,373,2170,307,481,467,609,655,490,397,524,881,1065,323,445,481,309,483,340,737,332,495,483,317,1206,342,566,485,338,516,306,760,373,2334,373,361,810,572,313,321,325,311,695,973,902,518]}},\"id\":\"23f2c8d3-9e99-450f-ba7b-43d08033f45c\",\"type\":\"ColumnDataSource\"},{\"attributes\":{\"bottom_units\":\"screen\",\"fill_alpha\":{\"value\":0.5},\"fill_color\":{\"value\":\"lightgrey\"},\"left_units\":\"screen\",\"level\":\"overlay\",\"line_alpha\":{\"value\":1.0},\"line_color\":{\"value\":\"black\"},\"line_dash\":[4,4],\"line_width\":{\"value\":2},\"plot\":null,\"render_mode\":\"css\",\"right_units\":\"screen\",\"top_units\":\"screen\"},\"id\":\"0af83f5b-da71-45c0-8656-5be2cd85cdfd\",\"type\":\"BoxAnnotation\"},{\"attributes\":{},\"id\":\"c50e2179-47f2-42a9-8cf0-e1ae44624088\",\"type\":\"BasicTicker\"},{\"attributes\":{\"plot\":{\"id\":\"da864e8a-4b99-4689-90ff-52e9e47de6c6\",\"subtype\":\"Figure\",\"type\":\"Plot\"}},\"id\":\"9e2a8d18-4bc7-4a95-a30c-f82111e1b9fd\",\"type\":\"PanTool\"},{\"attributes\":{\"active_drag\":\"auto\",\"active_scroll\":\"auto\",\"active_tap\":\"auto\",\"tools\":[{\"id\":\"9e2a8d18-4bc7-4a95-a30c-f82111e1b9fd\",\"type\":\"PanTool\"},{\"id\":\"358b150f-00e1-4fa0-8c34-fc7893eecff9\",\"type\":\"WheelZoomTool\"},{\"id\":\"a8bd9878-5ecf-4fa1-9d8c-10b8fbbd573a\",\"type\":\"BoxZoomTool\"},{\"id\":\"efd33c95-0d7f-491e-83b5-579a989bb0ce\",\"type\":\"SaveTool\"},{\"id\":\"501e3818-5a33-4dc0-8b25-686172736c84\",\"type\":\"ResetTool\"},{\"id\":\"369318fc-29b5-4eb5-828d-321855cd51e5\",\"type\":\"HelpTool\"}]},\"id\":\"9db3790a-f030-4fde-a407-7cce495174e5\",\"type\":\"Toolbar\"},{\"attributes\":{\"below\":[{\"id\":\"6ef43dcc-2f49-4a3c-afc7-dc6dedc1454a\",\"type\":\"LinearAxis\"}],\"left\":[{\"id\":\"b157c1d8-df4e-46b6-a92c-367aba7b9fba\",\"type\":\"LinearAxis\"}],\"renderers\":[{\"id\":\"6ef43dcc-2f49-4a3c-afc7-dc6dedc1454a\",\"type\":\"LinearAxis\"},{\"id\":\"c8b14279-35d4-4fee-a0a8-926644c4e207\",\"type\":\"Grid\"},{\"id\":\"b157c1d8-df4e-46b6-a92c-367aba7b9fba\",\"type\":\"LinearAxis\"},{\"id\":\"5f6b764b-e5a3-4d76-af1c-646e282aff71\",\"type\":\"Grid\"},{\"id\":\"0af83f5b-da71-45c0-8656-5be2cd85cdfd\",\"type\":\"BoxAnnotation\"},{\"id\":\"d5ab58ec-9599-43df-928f-85e03606ce1a\",\"type\":\"Legend\"},{\"id\":\"54dd9d8e-3ddd-401f-a6c8-141a59785f57\",\"type\":\"GlyphRenderer\"}],\"title\":{\"id\":\"6735a835-19a8-4562-a74c-65e5bf41975f\",\"type\":\"Title\"},\"tool_events\":{\"id\":\"bdd55c56-65fa-4f71-9f79-7b3fafb555a9\",\"type\":\"ToolEvents\"},\"toolbar\":{\"id\":\"9db3790a-f030-4fde-a407-7cce495174e5\",\"type\":\"Toolbar\"},\"x_range\":{\"id\":\"2726b62c-291b-4a35-bbd1-33acc787cb35\",\"type\":\"DataRange1d\"},\"y_range\":{\"id\":\"2fbb25f7-1ef3-4f85-b15c-2701ec979e2f\",\"type\":\"DataRange1d\"}},\"id\":\"da864e8a-4b99-4689-90ff-52e9e47de6c6\",\"subtype\":\"Figure\",\"type\":\"Plot\"},{\"attributes\":{\"plot\":null,\"text\":\"Rhema Word Freq\"},\"id\":\"6735a835-19a8-4562-a74c-65e5bf41975f\",\"type\":\"Title\"},{\"attributes\":{\"plot\":{\"id\":\"da864e8a-4b99-4689-90ff-52e9e47de6c6\",\"subtype\":\"Figure\",\"type\":\"Plot\"}},\"id\":\"369318fc-29b5-4eb5-828d-321855cd51e5\",\"type\":\"HelpTool\"},{\"attributes\":{\"plot\":{\"id\":\"da864e8a-4b99-4689-90ff-52e9e47de6c6\",\"subtype\":\"Figure\",\"type\":\"Plot\"}},\"id\":\"efd33c95-0d7f-491e-83b5-579a989bb0ce\",\"type\":\"SaveTool\"},{\"attributes\":{\"overlay\":{\"id\":\"0af83f5b-da71-45c0-8656-5be2cd85cdfd\",\"type\":\"BoxAnnotation\"},\"plot\":{\"id\":\"da864e8a-4b99-4689-90ff-52e9e47de6c6\",\"subtype\":\"Figure\",\"type\":\"Plot\"}},\"id\":\"a8bd9878-5ecf-4fa1-9d8c-10b8fbbd573a\",\"type\":\"BoxZoomTool\"},{\"attributes\":{\"plot\":{\"id\":\"da864e8a-4b99-4689-90ff-52e9e47de6c6\",\"subtype\":\"Figure\",\"type\":\"Plot\"}},\"id\":\"358b150f-00e1-4fa0-8c34-fc7893eecff9\",\"type\":\"WheelZoomTool\"},{\"attributes\":{\"line_alpha\":{\"value\":0.1},\"line_color\":{\"value\":\"#1f77b4\"},\"line_width\":{\"value\":2},\"x\":{\"field\":\"x\"},\"y\":{\"field\":\"y\"}},\"id\":\"a54f4ef8-b99e-43ec-ac76-662acce25b21\",\"type\":\"Line\"},{\"attributes\":{\"line_color\":{\"value\":\"#1f77b4\"},\"line_width\":{\"value\":2},\"x\":{\"field\":\"x\"},\"y\":{\"field\":\"y\"}},\"id\":\"bea56a56-c68d-4228-be0b-176442e8aa08\",\"type\":\"Line\"},{\"attributes\":{\"data_source\":{\"id\":\"23f2c8d3-9e99-450f-ba7b-43d08033f45c\",\"type\":\"ColumnDataSource\"},\"glyph\":{\"id\":\"bea56a56-c68d-4228-be0b-176442e8aa08\",\"type\":\"Line\"},\"hover_glyph\":null,\"nonselection_glyph\":{\"id\":\"a54f4ef8-b99e-43ec-ac76-662acce25b21\",\"type\":\"Line\"},\"selection_glyph\":null},\"id\":\"54dd9d8e-3ddd-401f-a6c8-141a59785f57\",\"type\":\"GlyphRenderer\"},{\"attributes\":{\"axis_label\":\"Freq\",\"formatter\":{\"id\":\"0aaef52a-ffbd-4232-af44-05af59517186\",\"type\":\"BasicTickFormatter\"},\"plot\":{\"id\":\"da864e8a-4b99-4689-90ff-52e9e47de6c6\",\"subtype\":\"Figure\",\"type\":\"Plot\"},\"ticker\":{\"id\":\"931a9763-4843-4cdf-87a9-55982f440fc6\",\"type\":\"BasicTicker\"}},\"id\":\"b157c1d8-df4e-46b6-a92c-367aba7b9fba\",\"type\":\"LinearAxis\"},{\"attributes\":{\"label\":{\"value\":\"Worded\"},\"renderers\":[{\"id\":\"54dd9d8e-3ddd-401f-a6c8-141a59785f57\",\"type\":\"GlyphRenderer\"}]},\"id\":\"b77b0625-4d1b-4fa4-82a7-a41329ea184a\",\"type\":\"LegendItem\"},{\"attributes\":{\"callback\":null},\"id\":\"2fbb25f7-1ef3-4f85-b15c-2701ec979e2f\",\"type\":\"DataRange1d\"},{\"attributes\":{\"callback\":null},\"id\":\"2726b62c-291b-4a35-bbd1-33acc787cb35\",\"type\":\"DataRange1d\"},{\"attributes\":{\"dimension\":1,\"plot\":{\"id\":\"da864e8a-4b99-4689-90ff-52e9e47de6c6\",\"subtype\":\"Figure\",\"type\":\"Plot\"},\"ticker\":{\"id\":\"931a9763-4843-4cdf-87a9-55982f440fc6\",\"type\":\"BasicTicker\"}},\"id\":\"5f6b764b-e5a3-4d76-af1c-646e282aff71\",\"type\":\"Grid\"},{\"attributes\":{},\"id\":\"0aaef52a-ffbd-4232-af44-05af59517186\",\"type\":\"BasicTickFormatter\"}],\"root_ids\":[\"da864e8a-4b99-4689-90ff-52e9e47de6c6\"]},\"title\":\"Bokeh Application\",\"version\":\"0.12.4\"}};\n",
       "            var render_items = [{\"docid\":\"502fff55-02a0-4c91-8c66-e4c80deda299\",\"elementid\":\"1f42049d-c6a7-41d4-bac2-8ce8fd4b1ea8\",\"modelid\":\"da864e8a-4b99-4689-90ff-52e9e47de6c6\"}];\n",
       "            \n",
       "            Bokeh.embed.embed_items(docs_json, render_items);\n",
       "          };\n",
       "          if (document.readyState != \"loading\") fn();\n",
       "          else document.addEventListener(\"DOMContentLoaded\", fn);\n",
       "        })();\n",
       "      },\n",
       "      function(Bokeh) {\n",
       "      }\n",
       "    ];\n",
       "  \n",
       "    function run_inline_js() {\n",
       "      \n",
       "      if ((window.Bokeh !== undefined) || (force === true)) {\n",
       "        for (var i = 0; i < inline_js.length; i++) {\n",
       "          inline_js[i](window.Bokeh);\n",
       "        }if (force === true) {\n",
       "          display_loaded();\n",
       "        }} else if (Date.now() < window._bokeh_timeout) {\n",
       "        setTimeout(run_inline_js, 100);\n",
       "      } else if (!window._bokeh_failed_load) {\n",
       "        console.log(\"Bokeh: BokehJS failed to load within specified timeout.\");\n",
       "        window._bokeh_failed_load = true;\n",
       "      } else if (force !== true) {\n",
       "        var cell = $(document.getElementById(\"1f42049d-c6a7-41d4-bac2-8ce8fd4b1ea8\")).parents('.cell').data().cell;\n",
       "        cell.output_area.append_execute_result(NB_LOAD_WARNING)\n",
       "      }\n",
       "  \n",
       "    }\n",
       "  \n",
       "    if (window._bokeh_is_loading === 0) {\n",
       "      console.log(\"Bokeh: BokehJS loaded, going straight to plotting\");\n",
       "      run_inline_js();\n",
       "    } else {\n",
       "      load_libs(js_urls, function() {\n",
       "        console.log(\"Bokeh: BokehJS plotting callback run at\", now());\n",
       "        run_inline_js();\n",
       "      });\n",
       "    }\n",
       "  }(this));\n",
       "</script>"
      ]
     },
     "metadata": {},
     "output_type": "display_data"
    }
   ],
   "source": [
    "show(p)"
   ]
  },
  {
   "cell_type": "code",
   "execution_count": 334,
   "metadata": {
    "collapsed": false
   },
   "outputs": [
    {
     "data": {
      "image/png": "[encoded data removed]",
      "text/plain": [
       "<matplotlib.figure.Figure at 0x13f6f8cf8>"
      ]
     },
     "metadata": {},
     "output_type": "display_data"
    }
   ],
   "source": [
    "plt.figure(figsize=(14, 10))\n",
    "sns.distplot(df_bokeh[\"Y\"], bins=20, kde=False, rug=True);\n"
   ]
  },
  {
   "cell_type": "code",
   "execution_count": 335,
   "metadata": {
    "collapsed": false
   },
   "outputs": [],
   "source": [
    "# sns.jointplot(x=\"x\", y=\"y\", data=df_bokeh);"
   ]
  },
  {
   "cell_type": "code",
   "execution_count": 337,
   "metadata": {
    "collapsed": false
   },
   "outputs": [
    {
     "data": {
      "image/png": "[encoded data removed]",
      "text/plain": [
       "<matplotlib.figure.Figure at 0x14104eda0>"
      ]
     },
     "metadata": {},
     "output_type": "display_data"
    }
   ],
   "source": [
    "plt.figure(figsize=(12, 10))\n",
    "sns.swarmplot(x=df_bokeh[\"X\"], y=df_bokeh[\"Y\"], data=df_bokeh);"
   ]
  },
  {
   "cell_type": "code",
   "execution_count": 316,
   "metadata": {
    "collapsed": false
   },
   "outputs": [
    {
     "data": {
      "image/png": "[encoded data removed]",
      "text/plain": [
       "<matplotlib.figure.Figure at 0x13d5625c0>"
      ]
     },
     "metadata": {},
     "output_type": "display_data"
    }
   ],
   "source": [
    "sns.distplot(df_bokeh[\"Y\"], kde=False, rug=True);"
   ]
  },
  {
   "cell_type": "code",
   "execution_count": 317,
   "metadata": {
    "collapsed": false,
    "deletable": true,
    "editable": true
   },
   "outputs": [
    {
     "data": {
      "text/plain": [
       "<matplotlib.axes._subplots.AxesSubplot at 0x13e6049e8>"
      ]
     },
     "execution_count": 317,
     "metadata": {},
     "output_type": "execute_result"
    },
    {
     "data": {
      "image/png": "[encoded data removed]",
      "text/plain": [
       "<matplotlib.figure.Figure at 0x13e61a470>"
      ]
     },
     "metadata": {},
     "output_type": "display_data"
    }
   ],
   "source": [
    "sns.set()\n",
    "\n",
    "# Load the example flights dataset and conver to long-form\n",
    "flights_long = sns.load_dataset(\"flights\")\n",
    "flights = flights_long.pivot(\"month\", \"year\", \"passengers\")\n",
    "\n",
    "# Draw a heatmap with the numeric values in each cell\n",
    "sns.heatmap(flights, annot=True, fmt=\"d\", linewidths=.5)\n"
   ]
  },
  {
   "cell_type": "code",
   "execution_count": 318,
   "metadata": {
    "collapsed": false
   },
   "outputs": [
    {
     "data": {
      "image/png": "[encoded data removed]",
      "text/plain": [
       "<matplotlib.figure.Figure at 0x13daab898>"
      ]
     },
     "metadata": {},
     "output_type": "display_data"
    }
   ],
   "source": [
    "sns.pairplot(df_bokeh);\n"
   ]
  },
  {
   "cell_type": "code",
   "execution_count": 319,
   "metadata": {
    "collapsed": false,
    "scrolled": true
   },
   "outputs": [
    {
     "data": {
      "image/png": "[encoded data removed]",
      "text/plain": [
       "<matplotlib.figure.Figure at 0x13e62c550>"
      ]
     },
     "metadata": {},
     "output_type": "display_data"
    }
   ],
   "source": [
    "import seaborn as sns; \n",
    "sns.set(style=\"ticks\", color_codes=True)\n",
    "tips = df_bokeh\n",
    "g = sns.JointGrid(x=\"total_bill\", y=\"tip\", data=tips)"
   ]
  },
  {
   "cell_type": "code",
   "execution_count": 320,
   "metadata": {
    "collapsed": false
   },
   "outputs": [
    {
     "ename": "TypeError",
     "evalue": "cannot perform reduce with flexible type",
     "output_type": "error",
     "traceback": [
      "\u001b[0;31m---------------------------------------------------------------------------\u001b[0m",
      "\u001b[0;31mTypeError\u001b[0m                                 Traceback (most recent call last)",
      "\u001b[0;32m<ipython-input-320-75d88e896b1c>\u001b[0m in \u001b[0;36m<module>\u001b[0;34m()\u001b[0m\n\u001b[1;32m      1\u001b[0m \u001b[0mg\u001b[0m \u001b[0;34m=\u001b[0m \u001b[0msns\u001b[0m\u001b[0;34m.\u001b[0m\u001b[0mJointGrid\u001b[0m\u001b[0;34m(\u001b[0m\u001b[0mx\u001b[0m\u001b[0;34m=\u001b[0m\u001b[0;34m\"total_bill\"\u001b[0m\u001b[0;34m,\u001b[0m \u001b[0my\u001b[0m\u001b[0;34m=\u001b[0m\u001b[0;34m\"tip\"\u001b[0m\u001b[0;34m,\u001b[0m \u001b[0mdata\u001b[0m\u001b[0;34m=\u001b[0m\u001b[0mtips\u001b[0m\u001b[0;34m)\u001b[0m\u001b[0;34m\u001b[0m\u001b[0m\n\u001b[0;32m----> 2\u001b[0;31m \u001b[0mg\u001b[0m \u001b[0;34m=\u001b[0m \u001b[0mg\u001b[0m\u001b[0;34m.\u001b[0m\u001b[0mplot\u001b[0m\u001b[0;34m(\u001b[0m\u001b[0msns\u001b[0m\u001b[0;34m.\u001b[0m\u001b[0mregplot\u001b[0m\u001b[0;34m,\u001b[0m \u001b[0msns\u001b[0m\u001b[0;34m.\u001b[0m\u001b[0mdistplot\u001b[0m\u001b[0;34m)\u001b[0m\u001b[0;34m\u001b[0m\u001b[0m\n\u001b[0m",
      "\u001b[0;32m/usr/local/lib/python3.6/site-packages/seaborn/axisgrid.py\u001b[0m in \u001b[0;36mplot\u001b[0;34m(self, joint_func, marginal_func, annot_func)\u001b[0m\n\u001b[1;32m   1701\u001b[0m \u001b[0;34m\u001b[0m\u001b[0m\n\u001b[1;32m   1702\u001b[0m         \"\"\"\n\u001b[0;32m-> 1703\u001b[0;31m         \u001b[0mself\u001b[0m\u001b[0;34m.\u001b[0m\u001b[0mplot_marginals\u001b[0m\u001b[0;34m(\u001b[0m\u001b[0mmarginal_func\u001b[0m\u001b[0;34m)\u001b[0m\u001b[0;34m\u001b[0m\u001b[0m\n\u001b[0m\u001b[1;32m   1704\u001b[0m         \u001b[0mself\u001b[0m\u001b[0;34m.\u001b[0m\u001b[0mplot_joint\u001b[0m\u001b[0;34m(\u001b[0m\u001b[0mjoint_func\u001b[0m\u001b[0;34m)\u001b[0m\u001b[0;34m\u001b[0m\u001b[0m\n\u001b[1;32m   1705\u001b[0m         \u001b[0;32mif\u001b[0m \u001b[0mannot_func\u001b[0m \u001b[0;32mis\u001b[0m \u001b[0;32mnot\u001b[0m \u001b[0;32mNone\u001b[0m\u001b[0;34m:\u001b[0m\u001b[0;34m\u001b[0m\u001b[0m\n",
      "\u001b[0;32m/usr/local/lib/python3.6/site-packages/seaborn/axisgrid.py\u001b[0m in \u001b[0;36mplot_marginals\u001b[0;34m(self, func, **kwargs)\u001b[0m\n\u001b[1;32m   1750\u001b[0m         \u001b[0mkwargs\u001b[0m\u001b[0;34m[\u001b[0m\u001b[0;34m\"vertical\"\u001b[0m\u001b[0;34m]\u001b[0m \u001b[0;34m=\u001b[0m \u001b[0;32mFalse\u001b[0m\u001b[0;34m\u001b[0m\u001b[0m\n\u001b[1;32m   1751\u001b[0m         \u001b[0mplt\u001b[0m\u001b[0;34m.\u001b[0m\u001b[0msca\u001b[0m\u001b[0;34m(\u001b[0m\u001b[0mself\u001b[0m\u001b[0;34m.\u001b[0m\u001b[0max_marg_x\u001b[0m\u001b[0;34m)\u001b[0m\u001b[0;34m\u001b[0m\u001b[0m\n\u001b[0;32m-> 1752\u001b[0;31m         \u001b[0mfunc\u001b[0m\u001b[0;34m(\u001b[0m\u001b[0mself\u001b[0m\u001b[0;34m.\u001b[0m\u001b[0mx\u001b[0m\u001b[0;34m,\u001b[0m \u001b[0;34m**\u001b[0m\u001b[0mkwargs\u001b[0m\u001b[0;34m)\u001b[0m\u001b[0;34m\u001b[0m\u001b[0m\n\u001b[0m\u001b[1;32m   1753\u001b[0m \u001b[0;34m\u001b[0m\u001b[0m\n\u001b[1;32m   1754\u001b[0m         \u001b[0mkwargs\u001b[0m\u001b[0;34m[\u001b[0m\u001b[0;34m\"vertical\"\u001b[0m\u001b[0;34m]\u001b[0m \u001b[0;34m=\u001b[0m \u001b[0;32mTrue\u001b[0m\u001b[0;34m\u001b[0m\u001b[0m\n",
      "\u001b[0;32m/usr/local/lib/python3.6/site-packages/seaborn/distributions.py\u001b[0m in \u001b[0;36mdistplot\u001b[0;34m(a, bins, hist, kde, rug, fit, hist_kws, kde_kws, rug_kws, fit_kws, color, vertical, norm_hist, axlabel, label, ax)\u001b[0m\n\u001b[1;32m    190\u001b[0m             \u001b[0mline\u001b[0m\u001b[0;34m,\u001b[0m \u001b[0;34m=\u001b[0m \u001b[0max\u001b[0m\u001b[0;34m.\u001b[0m\u001b[0mplot\u001b[0m\u001b[0;34m(\u001b[0m\u001b[0;36m0\u001b[0m\u001b[0;34m,\u001b[0m \u001b[0ma\u001b[0m\u001b[0;34m.\u001b[0m\u001b[0mmean\u001b[0m\u001b[0;34m(\u001b[0m\u001b[0;34m)\u001b[0m\u001b[0;34m)\u001b[0m\u001b[0;34m\u001b[0m\u001b[0m\n\u001b[1;32m    191\u001b[0m         \u001b[0;32melse\u001b[0m\u001b[0;34m:\u001b[0m\u001b[0;34m\u001b[0m\u001b[0m\n\u001b[0;32m--> 192\u001b[0;31m             \u001b[0mline\u001b[0m\u001b[0;34m,\u001b[0m \u001b[0;34m=\u001b[0m \u001b[0max\u001b[0m\u001b[0;34m.\u001b[0m\u001b[0mplot\u001b[0m\u001b[0;34m(\u001b[0m\u001b[0ma\u001b[0m\u001b[0;34m.\u001b[0m\u001b[0mmean\u001b[0m\u001b[0;34m(\u001b[0m\u001b[0;34m)\u001b[0m\u001b[0;34m,\u001b[0m \u001b[0;36m0\u001b[0m\u001b[0;34m)\u001b[0m\u001b[0;34m\u001b[0m\u001b[0m\n\u001b[0m\u001b[1;32m    193\u001b[0m         \u001b[0mcolor\u001b[0m \u001b[0;34m=\u001b[0m \u001b[0mline\u001b[0m\u001b[0;34m.\u001b[0m\u001b[0mget_color\u001b[0m\u001b[0;34m(\u001b[0m\u001b[0;34m)\u001b[0m\u001b[0;34m\u001b[0m\u001b[0m\n\u001b[1;32m    194\u001b[0m         \u001b[0mline\u001b[0m\u001b[0;34m.\u001b[0m\u001b[0mremove\u001b[0m\u001b[0;34m(\u001b[0m\u001b[0;34m)\u001b[0m\u001b[0;34m\u001b[0m\u001b[0m\n",
      "\u001b[0;32m/usr/local/lib/python3.6/site-packages/numpy/core/_methods.py\u001b[0m in \u001b[0;36m_mean\u001b[0;34m(a, axis, dtype, out, keepdims)\u001b[0m\n\u001b[1;32m     68\u001b[0m             \u001b[0mis_float16_result\u001b[0m \u001b[0;34m=\u001b[0m \u001b[0;32mTrue\u001b[0m\u001b[0;34m\u001b[0m\u001b[0m\n\u001b[1;32m     69\u001b[0m \u001b[0;34m\u001b[0m\u001b[0m\n\u001b[0;32m---> 70\u001b[0;31m     \u001b[0mret\u001b[0m \u001b[0;34m=\u001b[0m \u001b[0mumr_sum\u001b[0m\u001b[0;34m(\u001b[0m\u001b[0marr\u001b[0m\u001b[0;34m,\u001b[0m \u001b[0maxis\u001b[0m\u001b[0;34m,\u001b[0m \u001b[0mdtype\u001b[0m\u001b[0;34m,\u001b[0m \u001b[0mout\u001b[0m\u001b[0;34m,\u001b[0m \u001b[0mkeepdims\u001b[0m\u001b[0;34m)\u001b[0m\u001b[0;34m\u001b[0m\u001b[0m\n\u001b[0m\u001b[1;32m     71\u001b[0m     \u001b[0;32mif\u001b[0m \u001b[0misinstance\u001b[0m\u001b[0;34m(\u001b[0m\u001b[0mret\u001b[0m\u001b[0;34m,\u001b[0m \u001b[0mmu\u001b[0m\u001b[0;34m.\u001b[0m\u001b[0mndarray\u001b[0m\u001b[0;34m)\u001b[0m\u001b[0;34m:\u001b[0m\u001b[0;34m\u001b[0m\u001b[0m\n\u001b[1;32m     72\u001b[0m         ret = um.true_divide(\n",
      "\u001b[0;31mTypeError\u001b[0m: cannot perform reduce with flexible type"
     ]
    },
    {
     "data": {
      "image/png": "[encoded data removed]",
      "text/plain": [
       "<matplotlib.figure.Figure at 0x13eb8da20>"
      ]
     },
     "metadata": {},
     "output_type": "display_data"
    }
   ],
   "source": [
    "g = sns.JointGrid(x=\"total_bill\", y=\"tip\", data=tips)\n",
    "g = g.plot(sns.regplot, sns.distplot)"
   ]
  },
  {
   "cell_type": "code",
   "execution_count": null,
   "metadata": {
    "collapsed": false
   },
   "outputs": [],
   "source": [
    "sns.distplot(df_bokeh[\"Y\"]);"
   ]
  },
  {
   "cell_type": "code",
   "execution_count": null,
   "metadata": {
    "collapsed": false,
    "deletable": true,
    "editable": true
   },
   "outputs": [],
   "source": [
    "sns.kdeplot(df_bokeh[\"Y\"], shade=True);"
   ]
  },
  {
   "cell_type": "code",
   "execution_count": null,
   "metadata": {
    "collapsed": false,
    "deletable": true,
    "editable": true
   },
   "outputs": [],
   "source": [
    "# df = pd.DataFrame(over_1000)\n",
    "# df = pd.DataFrame.from_dict(over_1000, orient='columns', dtype=None)\n",
    "# plt.plot.area()\n"
   ]
  },
  {
   "cell_type": "code",
   "execution_count": null,
   "metadata": {
    "collapsed": false,
    "deletable": true,
    "editable": true
   },
   "outputs": [],
   "source": [
    "# data = pd.read_fwf('data.txt', header = None)\n",
    "data = pd.read_fwf('data.txt', names=['Books','Verse','Extras'])\n",
    "\n",
    "len(data)"
   ]
  },
  {
   "cell_type": "code",
   "execution_count": null,
   "metadata": {
    "collapsed": true,
    "deletable": true,
    "editable": true
   },
   "outputs": [],
   "source": [
    "df_data = pd.DataFrame(data)"
   ]
  },
  {
   "cell_type": "code",
   "execution_count": null,
   "metadata": {
    "collapsed": false,
    "deletable": true,
    "editable": true
   },
   "outputs": [],
   "source": [
    "df_data.head()\n",
    "df_heads = df_data['Books']\n",
    "# books = df_data.groupby[df_data['0']]"
   ]
  },
  {
   "cell_type": "code",
   "execution_count": null,
   "metadata": {
    "collapsed": false,
    "deletable": true,
    "editable": true
   },
   "outputs": [],
   "source": [
    "df_heads.head()"
   ]
  },
  {
   "cell_type": "code",
   "execution_count": null,
   "metadata": {
    "collapsed": false,
    "deletable": true,
    "editable": true
   },
   "outputs": [],
   "source": [
    "df_heads.describe()"
   ]
  },
  {
   "cell_type": "code",
   "execution_count": null,
   "metadata": {
    "collapsed": true,
    "deletable": true,
    "editable": true
   },
   "outputs": [],
   "source": []
  },
  {
   "cell_type": "code",
   "execution_count": null,
   "metadata": {
    "collapsed": true,
    "deletable": true,
    "editable": true
   },
   "outputs": [],
   "source": []
  }
 ],
 "metadata": {
  "kernelspec": {
   "display_name": "Python 3",
   "language": "python",
   "name": "python3"
  },
  "language_info": {
   "codemirror_mode": {
    "name": "ipython",
    "version": 3
   },
   "file_extension": ".py",
   "mimetype": "text/x-python",
   "name": "python",
   "nbconvert_exporter": "python",
   "pygments_lexer": "ipython3",
   "version": "3.6.0"
  }
 },
 "nbformat": 4,
 "nbformat_minor": 0
}
