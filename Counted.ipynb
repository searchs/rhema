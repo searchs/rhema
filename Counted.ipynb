{
 "cells": [
  {
   "cell_type": "code",
   "execution_count": 2,
   "metadata": {
    "collapsed": true
   },
   "outputs": [],
   "source": [
    "import pandas as pd\n",
    "import numpy as np\n",
    "import seaborn as sns"
   ]
  },
  {
   "cell_type": "code",
   "execution_count": 8,
   "metadata": {
    "collapsed": false
   },
   "outputs": [
    {
     "name": "stdout",
     "output_type": "stream",
     "text": [
      "Genesis 1:1\tIn the beginning God created the heaven and the earth.\r",
      "\r\n",
      "Genesis 1:2\tAnd the earth was without form, and void; and darkness was upon the face of the deep. And the Spirit of God moved upon the face of the waters.\r",
      "\r\n",
      "Genesis 1:3\tAnd God said, Let there be light: and there was light.\r",
      "\r\n",
      "Genesis 1:4\tAnd God saw the light, that it was good: and God divided the light from the darkness.\r",
      "\r\n",
      "Genesis 1:5\tAnd God called the light Day, and the darkness he called Night. And the evening and the morning were the first day.\r",
      "\r\n",
      "Genesis 1:6\tAnd God said, Let there be a firmament in the midst of the waters, and let it divide the waters from the waters.\r",
      "\r\n",
      "Genesis 1:7\tAnd God made the firmament, and divided the waters which were under the firmament from the waters which were above the firmament: and it was so.\r",
      "\r\n",
      "Genesis 1:8\tAnd God called the firmament Heaven. And the evening and the morning were the second day.\r",
      "\r\n",
      "Genesis 1:9\tAnd God said, Let the waters under the heaven be gathered together unto one place, and let the dry land appear: and it was so.\r",
      "\r\n",
      "Genesis 1:10\tAnd God called the dry land Earth; and the gathering together of the waters called he Seas: and God saw that it was good.\r",
      "\r\n"
     ]
    }
   ],
   "source": [
    "import sys\n",
    "import os\n",
    "\n",
    "\n",
    "\n",
    "# global scrolls\n",
    "# # filename = sys.argv[1]\n",
    "\n",
    "# with open('data.txt', 'r') as data:\n",
    "#     for line in enumerate(data):\n",
    "#         print(line, end='')\n",
    "#     scrolls = data.readlines\n",
    "\n",
    "!head -n 10 data.txt\n"
   ]
  },
  {
   "cell_type": "code",
   "execution_count": 22,
   "metadata": {
    "collapsed": false
   },
   "outputs": [],
   "source": [
    "# df_text = pd.read_csv('data.txt', sep=\" \" header=None)\n",
    "df_text = pd.read_fwf('data.txt',colspecs='infer')"
   ]
  },
  {
   "cell_type": "code",
   "execution_count": 25,
   "metadata": {
    "collapsed": false
   },
   "outputs": [
    {
     "data": {
      "text/html": [
       "<div>\n",
       "<table border=\"1\" class=\"dataframe\">\n",
       "  <thead>\n",
       "    <tr style=\"text-align: right;\">\n",
       "      <th></th>\n",
       "      <th>Genesis</th>\n",
       "      <th>1:1\tIn the beginning God created the heaven and the earth.</th>\n",
       "      <th>Unnamed: 2</th>\n",
       "    </tr>\n",
       "  </thead>\n",
       "  <tbody>\n",
       "    <tr>\n",
       "      <th>0</th>\n",
       "      <td>Genesis</td>\n",
       "      <td>1:2\\tAnd the earth was without form, and void;...</td>\n",
       "      <td>NaN</td>\n",
       "    </tr>\n",
       "    <tr>\n",
       "      <th>1</th>\n",
       "      <td>Genesis</td>\n",
       "      <td>1:3\\tAnd God said, Let there be light: and the...</td>\n",
       "      <td>NaN</td>\n",
       "    </tr>\n",
       "    <tr>\n",
       "      <th>2</th>\n",
       "      <td>Genesis</td>\n",
       "      <td>1:4\\tAnd God saw the light, that it was good: ...</td>\n",
       "      <td>NaN</td>\n",
       "    </tr>\n",
       "    <tr>\n",
       "      <th>3</th>\n",
       "      <td>Genesis</td>\n",
       "      <td>1:5\\tAnd God called the light Day, and the dar...</td>\n",
       "      <td>NaN</td>\n",
       "    </tr>\n",
       "    <tr>\n",
       "      <th>4</th>\n",
       "      <td>Genesis</td>\n",
       "      <td>1:6\\tAnd God said, Let there be a firmament in...</td>\n",
       "      <td>NaN</td>\n",
       "    </tr>\n",
       "  </tbody>\n",
       "</table>\n",
       "</div>"
      ],
      "text/plain": [
       "   Genesis 1:1\\tIn the beginning God created the heaven and the earth.  \\\n",
       "0  Genesis  1:2\\tAnd the earth was without form, and void;...            \n",
       "1  Genesis  1:3\\tAnd God said, Let there be light: and the...            \n",
       "2  Genesis  1:4\\tAnd God saw the light, that it was good: ...            \n",
       "3  Genesis  1:5\\tAnd God called the light Day, and the dar...            \n",
       "4  Genesis  1:6\\tAnd God said, Let there be a firmament in...            \n",
       "\n",
       "  Unnamed: 2  \n",
       "0        NaN  \n",
       "1        NaN  \n",
       "2        NaN  \n",
       "3        NaN  \n",
       "4        NaN  "
      ]
     },
     "execution_count": 25,
     "metadata": {},
     "output_type": "execute_result"
    }
   ],
   "source": [
    "df_text.head()"
   ]
  },
  {
   "cell_type": "code",
   "execution_count": 36,
   "metadata": {
    "collapsed": false
   },
   "outputs": [],
   "source": [
    "# global _stats\n",
    "\n",
    "def get_word_count(dataframe_or_list):\n",
    "    _stats = {}\n",
    "    for line in dataframe_or_list:\n",
    "        try:\n",
    "            _stats[line] +=1\n",
    "        except KeyError:\n",
    "            _stats[line] =1\n",
    "    return _stats"
   ]
  },
  {
   "cell_type": "code",
   "execution_count": 37,
   "metadata": {
    "collapsed": false
   },
   "outputs": [],
   "source": [
    "# help(pd.read_fwf)"
   ]
  },
  {
   "cell_type": "code",
   "execution_count": 38,
   "metadata": {
    "collapsed": false
   },
   "outputs": [
    {
     "data": {
      "text/plain": [
       "{'1:1\\tIn the beginning God created the heaven and the earth.': 1,\n",
       " 'Genesis': 1,\n",
       " 'Unnamed: 2': 1}"
      ]
     },
     "execution_count": 38,
     "metadata": {},
     "output_type": "execute_result"
    }
   ],
   "source": [
    "get_word_count(df_text)"
   ]
  },
  {
   "cell_type": "code",
   "execution_count": 16,
   "metadata": {
    "collapsed": false
   },
   "outputs": [
    {
     "data": {
      "text/plain": [
       "(31101, 3)"
      ]
     },
     "execution_count": 16,
     "metadata": {},
     "output_type": "execute_result"
    }
   ],
   "source": [
    "df_text.shape"
   ]
  },
  {
   "cell_type": "code",
   "execution_count": 17,
   "metadata": {
    "collapsed": false
   },
   "outputs": [
    {
     "data": {
      "text/html": [
       "<div>\n",
       "<table border=\"1\" class=\"dataframe\">\n",
       "  <thead>\n",
       "    <tr style=\"text-align: right;\">\n",
       "      <th></th>\n",
       "      <th>Genesis</th>\n",
       "      <th>1:1\tIn the beginning God created the heaven and the earth.</th>\n",
       "      <th>Unnamed: 2</th>\n",
       "    </tr>\n",
       "  </thead>\n",
       "  <tbody>\n",
       "    <tr>\n",
       "      <th>0</th>\n",
       "      <td>Genesis</td>\n",
       "      <td>1:2\\tAnd the earth was without form, and void;...</td>\n",
       "      <td>NaN</td>\n",
       "    </tr>\n",
       "    <tr>\n",
       "      <th>1</th>\n",
       "      <td>Genesis</td>\n",
       "      <td>1:3\\tAnd God said, Let there be light: and the...</td>\n",
       "      <td>NaN</td>\n",
       "    </tr>\n",
       "    <tr>\n",
       "      <th>2</th>\n",
       "      <td>Genesis</td>\n",
       "      <td>1:4\\tAnd God saw the light, that it was good: ...</td>\n",
       "      <td>NaN</td>\n",
       "    </tr>\n",
       "    <tr>\n",
       "      <th>3</th>\n",
       "      <td>Genesis</td>\n",
       "      <td>1:5\\tAnd God called the light Day, and the dar...</td>\n",
       "      <td>NaN</td>\n",
       "    </tr>\n",
       "    <tr>\n",
       "      <th>4</th>\n",
       "      <td>Genesis</td>\n",
       "      <td>1:6\\tAnd God said, Let there be a firmament in...</td>\n",
       "      <td>NaN</td>\n",
       "    </tr>\n",
       "  </tbody>\n",
       "</table>\n",
       "</div>"
      ],
      "text/plain": [
       "   Genesis 1:1\\tIn the beginning God created the heaven and the earth.  \\\n",
       "0  Genesis  1:2\\tAnd the earth was without form, and void;...            \n",
       "1  Genesis  1:3\\tAnd God said, Let there be light: and the...            \n",
       "2  Genesis  1:4\\tAnd God saw the light, that it was good: ...            \n",
       "3  Genesis  1:5\\tAnd God called the light Day, and the dar...            \n",
       "4  Genesis  1:6\\tAnd God said, Let there be a firmament in...            \n",
       "\n",
       "  Unnamed: 2  \n",
       "0        NaN  \n",
       "1        NaN  \n",
       "2        NaN  \n",
       "3        NaN  \n",
       "4        NaN  "
      ]
     },
     "execution_count": 17,
     "metadata": {},
     "output_type": "execute_result"
    }
   ],
   "source": [
    "df_text.head()"
   ]
  },
  {
   "cell_type": "code",
   "execution_count": 10,
   "metadata": {
    "collapsed": false
   },
   "outputs": [
    {
     "name": "stdout",
     "output_type": "stream",
     "text": [
      "\u001b[33mRetrying (Retry(total=4, connect=None, read=None, redirect=None)) after connection broken by 'NewConnectionError('<pip._vendor.requests.packages.urllib3.connection.VerifiedHTTPSConnection object at 0x110288f90>: Failed to establish a new connection: [Errno 8] nodename nor servname provided, or not known',)': /simple/seaborn/\u001b[0m\n",
      "\u001b[33mRetrying (Retry(total=3, connect=None, read=None, redirect=None)) after connection broken by 'NewConnectionError('<pip._vendor.requests.packages.urllib3.connection.VerifiedHTTPSConnection object at 0x1102b6110>: Failed to establish a new connection: [Errno 8] nodename nor servname provided, or not known',)': /simple/seaborn/\u001b[0m\n",
      "\u001b[33mRetrying (Retry(total=2, connect=None, read=None, redirect=None)) after connection broken by 'NewConnectionError('<pip._vendor.requests.packages.urllib3.connection.VerifiedHTTPSConnection object at 0x1102b6250>: Failed to establish a new connection: [Errno 8] nodename nor servname provided, or not known',)': /simple/seaborn/\u001b[0m\n",
      "\u001b[33mRetrying (Retry(total=1, connect=None, read=None, redirect=None)) after connection broken by 'NewConnectionError('<pip._vendor.requests.packages.urllib3.connection.VerifiedHTTPSConnection object at 0x1102b6390>: Failed to establish a new connection: [Errno 8] nodename nor servname provided, or not known',)': /simple/seaborn/\u001b[0m\n",
      "\u001b[33mRetrying (Retry(total=0, connect=None, read=None, redirect=None)) after connection broken by 'NewConnectionError('<pip._vendor.requests.packages.urllib3.connection.VerifiedHTTPSConnection object at 0x1102b64d0>: Failed to establish a new connection: [Errno 8] nodename nor servname provided, or not known',)': /simple/seaborn/\u001b[0m\n",
      "Requirement already up-to-date: seaborn in /usr/local/lib/python2.7/site-packages\n",
      "\u001b[33mRetrying (Retry(total=4, connect=None, read=None, redirect=None)) after connection broken by 'NewConnectionError('<pip._vendor.requests.packages.urllib3.connection.VerifiedHTTPSConnection object at 0x1102b6250>: Failed to establish a new connection: [Errno 8] nodename nor servname provided, or not known',)': /simple/scipy/\u001b[0m\n",
      "\u001b[33mRetrying (Retry(total=3, connect=None, read=None, redirect=None)) after connection broken by 'NewConnectionError('<pip._vendor.requests.packages.urllib3.connection.VerifiedHTTPSConnection object at 0x1102b60d0>: Failed to establish a new connection: [Errno 8] nodename nor servname provided, or not known',)': /simple/scipy/\u001b[0m\n",
      "\u001b[33mRetrying (Retry(total=2, connect=None, read=None, redirect=None)) after connection broken by 'NewConnectionError('<pip._vendor.requests.packages.urllib3.connection.VerifiedHTTPSConnection object at 0x1102b6150>: Failed to establish a new connection: [Errno 8] nodename nor servname provided, or not known',)': /simple/scipy/\u001b[0m\n",
      "\u001b[33mRetrying (Retry(total=1, connect=None, read=None, redirect=None)) after connection broken by 'NewConnectionError('<pip._vendor.requests.packages.urllib3.connection.VerifiedHTTPSConnection object at 0x1102b6710>: Failed to establish a new connection: [Errno 8] nodename nor servname provided, or not known',)': /simple/scipy/\u001b[0m\n",
      "\u001b[33mRetrying (Retry(total=0, connect=None, read=None, redirect=None)) after connection broken by 'NewConnectionError('<pip._vendor.requests.packages.urllib3.connection.VerifiedHTTPSConnection object at 0x1102b6850>: Failed to establish a new connection: [Errno 8] nodename nor servname provided, or not known',)': /simple/scipy/\u001b[0m\n",
      "Requirement already up-to-date: scipy in /usr/local/lib/python2.7/site-packages (from seaborn)\n",
      "\u001b[33mRetrying (Retry(total=4, connect=None, read=None, redirect=None)) after connection broken by 'NewConnectionError('<pip._vendor.requests.packages.urllib3.connection.VerifiedHTTPSConnection object at 0x1102b6810>: Failed to establish a new connection: [Errno 8] nodename nor servname provided, or not known',)': /simple/numpy/\u001b[0m\n",
      "\u001b[33mRetrying (Retry(total=3, connect=None, read=None, redirect=None)) after connection broken by 'NewConnectionError('<pip._vendor.requests.packages.urllib3.connection.VerifiedHTTPSConnection object at 0x1102b6290>: Failed to establish a new connection: [Errno 8] nodename nor servname provided, or not known',)': /simple/numpy/\u001b[0m\n",
      "\u001b[33mRetrying (Retry(total=2, connect=None, read=None, redirect=None)) after connection broken by 'NewConnectionError('<pip._vendor.requests.packages.urllib3.connection.VerifiedHTTPSConnection object at 0x1102b6a50>: Failed to establish a new connection: [Errno 8] nodename nor servname provided, or not known',)': /simple/numpy/\u001b[0m\n",
      "\u001b[33mRetrying (Retry(total=1, connect=None, read=None, redirect=None)) after connection broken by 'NewConnectionError('<pip._vendor.requests.packages.urllib3.connection.VerifiedHTTPSConnection object at 0x1102b6b90>: Failed to establish a new connection: [Errno 8] nodename nor servname provided, or not known',)': /simple/numpy/\u001b[0m\n",
      "\u001b[33mRetrying (Retry(total=0, connect=None, read=None, redirect=None)) after connection broken by 'NewConnectionError('<pip._vendor.requests.packages.urllib3.connection.VerifiedHTTPSConnection object at 0x1102b6cd0>: Failed to establish a new connection: [Errno 8] nodename nor servname provided, or not known',)': /simple/numpy/\u001b[0m\n",
      "Requirement already up-to-date: numpy>=1.7.1 in /usr/local/lib/python2.7/site-packages (from scipy->seaborn)\n"
     ]
    }
   ],
   "source": [
    "!pip install --upgrade seaborn"
   ]
  },
  {
   "cell_type": "code",
   "execution_count": null,
   "metadata": {
    "collapsed": true
   },
   "outputs": [],
   "source": []
  }
 ],
 "metadata": {
  "kernelspec": {
   "display_name": "Python 3",
   "language": "python",
   "name": "python3"
  },
  "language_info": {
   "codemirror_mode": {
    "name": "ipython",
    "version": 3
   },
   "file_extension": ".py",
   "mimetype": "text/x-python",
   "name": "python",
   "nbconvert_exporter": "python",
   "pygments_lexer": "ipython3",
   "version": "3.5.2"
  }
 },
 "nbformat": 4,
 "nbformat_minor": 0
}
