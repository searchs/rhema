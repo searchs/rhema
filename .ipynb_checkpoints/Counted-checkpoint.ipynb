{
 "cells": [
  {
   "cell_type": "code",
   "execution_count": 86,
   "metadata": {
    "collapsed": true
   },
   "outputs": [],
   "source": [
    "import pandas as pd\n",
    "import numpy as np\n",
    "import seaborn as sns"
   ]
  },
  {
   "cell_type": "code",
   "execution_count": 156,
   "metadata": {
    "collapsed": false
   },
   "outputs": [
    {
     "name": "stdout",
     "output_type": "stream",
     "text": [
      "Genesis 1:1\tIn the beginning God created the heaven and the earth.\r",
      "\r\n",
      "Genesis 1:2\tAnd the earth was without form, and void; and darkness was upon the face of the deep. And the Spirit of God moved upon the face of the waters.\r",
      "\r\n",
      "Genesis 1:3\tAnd God said, Let there be light: and there was light.\r",
      "\r\n"
     ]
    }
   ],
   "source": [
    "import sys\n",
    "import os\n",
    "!head -n 3 data.txt"
   ]
  },
  {
   "cell_type": "code",
   "execution_count": 157,
   "metadata": {
    "collapsed": true
   },
   "outputs": [],
   "source": [
    "data_col=['book_bible','verse', 'extra']"
   ]
  },
  {
   "cell_type": "code",
   "execution_count": 158,
   "metadata": {
    "collapsed": false
   },
   "outputs": [],
   "source": [
    "df_text = pd.read_fwf('data.txt', sep=\" \", colspecs='infer', names=data_col, widths=None, squeeze=True, header=None)\n",
    "# df_text = pd.read_fwf('data.txt',colspecs='infer')"
   ]
  },
  {
   "cell_type": "code",
   "execution_count": 160,
   "metadata": {
    "collapsed": false
   },
   "outputs": [
    {
     "data": {
      "text/html": [
       "<div>\n",
       "<table border=\"1\" class=\"dataframe\">\n",
       "  <thead>\n",
       "    <tr style=\"text-align: right;\">\n",
       "      <th></th>\n",
       "      <th>book_bible</th>\n",
       "      <th>verse</th>\n",
       "      <th>extra</th>\n",
       "    </tr>\n",
       "  </thead>\n",
       "  <tbody>\n",
       "    <tr>\n",
       "      <th>count</th>\n",
       "      <td>31102</td>\n",
       "      <td>31102</td>\n",
       "      <td>1076</td>\n",
       "    </tr>\n",
       "    <tr>\n",
       "      <th>unique</th>\n",
       "      <td>311</td>\n",
       "      <td>31090</td>\n",
       "      <td>845</td>\n",
       "    </tr>\n",
       "    <tr>\n",
       "      <th>top</th>\n",
       "      <td>Psalms</td>\n",
       "      <td>Then Job answered and said,</td>\n",
       "      <td>.</td>\n",
       "    </tr>\n",
       "    <tr>\n",
       "      <th>freq</th>\n",
       "      <td>2461</td>\n",
       "      <td>4</td>\n",
       "      <td>29</td>\n",
       "    </tr>\n",
       "  </tbody>\n",
       "</table>\n",
       "</div>"
      ],
      "text/plain": [
       "       book_bible                        verse extra\n",
       "count       31102                        31102  1076\n",
       "unique        311                        31090   845\n",
       "top        Psalms  Then Job answered and said,     .\n",
       "freq         2461                            4    29"
      ]
     },
     "execution_count": 160,
     "metadata": {},
     "output_type": "execute_result"
    }
   ],
   "source": [
    "df_text.describe()"
   ]
  },
  {
   "cell_type": "code",
   "execution_count": 161,
   "metadata": {
    "collapsed": false
   },
   "outputs": [
    {
     "data": {
      "text/html": [
       "<div>\n",
       "<table border=\"1\" class=\"dataframe\">\n",
       "  <thead>\n",
       "    <tr style=\"text-align: right;\">\n",
       "      <th></th>\n",
       "      <th>book_bible</th>\n",
       "      <th>verse</th>\n",
       "      <th>extra</th>\n",
       "    </tr>\n",
       "  </thead>\n",
       "  <tbody>\n",
       "    <tr>\n",
       "      <th>0</th>\n",
       "      <td>Genesis</td>\n",
       "      <td>1:1\\tIn the beginning God created the heaven a...</td>\n",
       "      <td>NaN</td>\n",
       "    </tr>\n",
       "    <tr>\n",
       "      <th>1</th>\n",
       "      <td>Genesis</td>\n",
       "      <td>1:2\\tAnd the earth was without form, and void;...</td>\n",
       "      <td>NaN</td>\n",
       "    </tr>\n",
       "    <tr>\n",
       "      <th>2</th>\n",
       "      <td>Genesis</td>\n",
       "      <td>1:3\\tAnd God said, Let there be light: and the...</td>\n",
       "      <td>NaN</td>\n",
       "    </tr>\n",
       "  </tbody>\n",
       "</table>\n",
       "</div>"
      ],
      "text/plain": [
       "  book_bible                                              verse extra\n",
       "0    Genesis  1:1\\tIn the beginning God created the heaven a...   NaN\n",
       "1    Genesis  1:2\\tAnd the earth was without form, and void;...   NaN\n",
       "2    Genesis  1:3\\tAnd God said, Let there be light: and the...   NaN"
      ]
     },
     "execution_count": 161,
     "metadata": {},
     "output_type": "execute_result"
    }
   ],
   "source": [
    "df_text.head(3)"
   ]
  },
  {
   "cell_type": "code",
   "execution_count": 162,
   "metadata": {
    "collapsed": false
   },
   "outputs": [
    {
     "data": {
      "text/html": [
       "<div>\n",
       "<table border=\"1\" class=\"dataframe\">\n",
       "  <thead>\n",
       "    <tr style=\"text-align: right;\">\n",
       "      <th></th>\n",
       "      <th>book_bible</th>\n",
       "      <th>verse</th>\n",
       "      <th>extra</th>\n",
       "    </tr>\n",
       "  </thead>\n",
       "  <tbody>\n",
       "    <tr>\n",
       "      <th>31099</th>\n",
       "      <td>Revelat</td>\n",
       "      <td>on 22:19\\tAnd if any man shall take away from ...</td>\n",
       "      <td>NaN</td>\n",
       "    </tr>\n",
       "    <tr>\n",
       "      <th>31100</th>\n",
       "      <td>Revelat</td>\n",
       "      <td>on 22:20\\tHe which testifieth these things sai...</td>\n",
       "      <td>NaN</td>\n",
       "    </tr>\n",
       "    <tr>\n",
       "      <th>31101</th>\n",
       "      <td>Revelat</td>\n",
       "      <td>on 22:21\\tThe grace of our Lord Jesus Christ b...</td>\n",
       "      <td>NaN</td>\n",
       "    </tr>\n",
       "  </tbody>\n",
       "</table>\n",
       "</div>"
      ],
      "text/plain": [
       "      book_bible                                              verse extra\n",
       "31099    Revelat  on 22:19\\tAnd if any man shall take away from ...   NaN\n",
       "31100    Revelat  on 22:20\\tHe which testifieth these things sai...   NaN\n",
       "31101    Revelat  on 22:21\\tThe grace of our Lord Jesus Christ b...   NaN"
      ]
     },
     "execution_count": 162,
     "metadata": {},
     "output_type": "execute_result"
    }
   ],
   "source": [
    "df_text.tail(3)"
   ]
  },
  {
   "cell_type": "code",
   "execution_count": 163,
   "metadata": {
    "collapsed": false
   },
   "outputs": [],
   "source": [
    "del df_text['extra']"
   ]
  },
  {
   "cell_type": "code",
   "execution_count": 164,
   "metadata": {
    "collapsed": true
   },
   "outputs": [],
   "source": [
    "books_old_testament = [\"Genesis\",\"Exodus\",\"Leviticus\",\"Numbers\",\"Deuteronomy\",\"Joshua\",\"Judges\",\"Ruth\",\"1 Samuel\",\n",
    "                       \"2 Samuel\",\"1 Kings\",\"2 Kings\",\"1 Chronicles\",\"2 Chronicles\",\"Ezra\",\"Nehemiah\",\"Esther\",\"Job\",\n",
    "                       \"Psalms\",\"Proverbs\",\"Ecclesiastes\",\"Song of Solomon\",\"Isaiah\",\"Jeremiah\",\"Lamentations\",\"Ezekiel\",\n",
    "                       \"Daniel\",\"Hosea\",\"Joel\",\"Amos\",\"Obadiah\",\"Jonah\",\"Micah\",\"Nahum\",\"Habakkuk\",\"Zephaniah\",\"Haggai\",\n",
    "                       \"Zechariah\",\"Malachi\"]"
   ]
  },
  {
   "cell_type": "code",
   "execution_count": 175,
   "metadata": {
    "collapsed": true
   },
   "outputs": [],
   "source": [
    "books_new_testament = [\"Matthew\",\"Mark\",\"Luke\",\"John\",\"Acts of Apostles\",\"Romans\",\"1 Corinthians\",\"2 Corinthians\",\n",
    "                      \"Galatians\",\"Ephesians\",\"Philippians\",\"Colossians\",\"1 Thessalonians\",\"2 Thessalonians\",\"1 Timothy\",\n",
    "                      \"2 Timothy\",\"Titus\",\"Philemon\",\"Hebrews\",\"James\",\"1 Peter\",\"2 Peter\",\"1 John\",\"2 John\",\"3 John\",\n",
    "                      \"Jude\",\"Revelation\"]"
   ]
  },
  {
   "cell_type": "code",
   "execution_count": 176,
   "metadata": {
    "collapsed": false
   },
   "outputs": [
    {
     "data": {
      "text/plain": [
       "Index(['book_bible', 'verse'], dtype='object')"
      ]
     },
     "execution_count": 176,
     "metadata": {},
     "output_type": "execute_result"
    }
   ],
   "source": [
    "df_text.columns"
   ]
  },
  {
   "cell_type": "code",
   "execution_count": 177,
   "metadata": {
    "collapsed": false
   },
   "outputs": [],
   "source": [
    "df_verses = df_text['verse']"
   ]
  },
  {
   "cell_type": "code",
   "execution_count": 178,
   "metadata": {
    "collapsed": false
   },
   "outputs": [
    {
     "data": {
      "text/plain": [
       "0    1:1\\tIn the beginning God created the heaven a...\n",
       "1    1:2\\tAnd the earth was without form, and void;...\n",
       "2    1:3\\tAnd God said, Let there be light: and the...\n",
       "3    1:4\\tAnd God saw the light, that it was good: ...\n",
       "4    1:5\\tAnd God called the light Day, and the dar...\n",
       "5    1:6\\tAnd God said, Let there be a firmament in...\n",
       "6    1:7\\tAnd God made the firmament, and divided t...\n",
       "Name: verse, dtype: object"
      ]
     },
     "execution_count": 178,
     "metadata": {},
     "output_type": "execute_result"
    }
   ],
   "source": [
    "df_verses.head(7)"
   ]
  },
  {
   "cell_type": "code",
   "execution_count": 179,
   "metadata": {
    "collapsed": false
   },
   "outputs": [],
   "source": [
    "# df_tabs = df_verses.copy()"
   ]
  },
  {
   "cell_type": "code",
   "execution_count": 180,
   "metadata": {
    "collapsed": false
   },
   "outputs": [],
   "source": [
    "# df_tabs.head(10)"
   ]
  },
  {
   "cell_type": "code",
   "execution_count": 181,
   "metadata": {
    "collapsed": false
   },
   "outputs": [
    {
     "name": "stdout",
     "output_type": "stream",
     "text": [
      "1:1\tIn the beginning God created the heaven and the earth.\n"
     ]
    }
   ],
   "source": [
    "for row in df_verses:\n",
    "    print(row)\n",
    "    break"
   ]
  },
  {
   "cell_type": "code",
   "execution_count": 194,
   "metadata": {
    "collapsed": false
   },
   "outputs": [],
   "source": [
    "# global _counted\n",
    "# _counted = {}\n",
    "# count = 0"
   ]
  },
  {
   "cell_type": "code",
   "execution_count": 198,
   "metadata": {
    "collapsed": false
   },
   "outputs": [],
   "source": [
    "_counted = {}\n",
    "count = 0\n",
    "\n",
    "for row in df_verses:\n",
    "    stringed = str(row)\n",
    "#     Clean each line - Remove punctuations\n",
    "    pos = stringed.find('\\t')\n",
    "    stringed = stringed[pos:]\n",
    "#     print(stringed)\n",
    "\n",
    "    stringed = stringed.replace(\",\",\"\")\n",
    "    stringed = stringed.replace(\";\",\"\")\n",
    "    stringed = stringed.replace(\".\",\"\")\n",
    "    stringed = stringed.replace(\"?\",\"\")\n",
    "    stringed = stringed.replace(\"!\",\"\")\n",
    "    stringed = stringed.replace(\"(\",\"\")\n",
    "    stringed = stringed.replace(\")\",\"\")\n",
    "#     stringed = stringed.replace(\"\\t\",\" \")\n",
    "    stringed = stringed.strip()\n",
    "    collects = list(stringed.split(\" \"))\n",
    "\n",
    "    for item in collects:\n",
    "        if '\\t' in item:\n",
    "            item = item.replace('\\t',' ')\n",
    "        if item != 'God':\n",
    "            item = item.lower()\n",
    "            \n",
    "        if \":\" in item:\n",
    "            continue\n",
    "        \n",
    "        if item == '':\n",
    "            continue\n",
    "            \n",
    "        try:\n",
    "            _counted[item] = _counted[item] + 1\n",
    "        except KeyError:\n",
    "            _counted[item] = 1\n",
    "        "
   ]
  },
  {
   "cell_type": "code",
   "execution_count": 207,
   "metadata": {
    "collapsed": false
   },
   "outputs": [
    {
     "name": "stdout",
     "output_type": "stream",
     "text": [
      "{'hast': 1031, 'in': 12198, 'shalt': 1589, 'also': 1687, 'men': 1536, 'be': 6776, 'thee': 3434, 'this': 2646, 'people': 1979, 'their': 3772, 'but': 3865, 'make': 1023, 'lord': 7288, 'our': 1123, 'upon': 2625, 'because': 1169, 'shall': 9565, 'made': 1346, 'me': 3626, 'will': 3687, 'there': 2151, 'and': 50021, 'or': 1069, 'thy': 4506, 'came': 2012, 'him': 6025, 'from': 3478, 'is': 6693, 'had': 1937, 'it': 5673, 'before': 1735, 'hand': 1311, 'house': 1867, 'went': 1343, 'unto': 8693, 'down': 1028, 'that': 12452, 'after': 1128, 'children': 1733, 'not': 6199, 'king': 2170, 'if': 1542, 'no': 1323, 'against': 1606, 'for': 8673, 'ye': 3864, 'every': 1182, 'go': 1421, 'have': 3747, 'my': 4156, 'your': 1714, 'o': 1065, 'they': 7081, 'now': 1286, 'let': 1444, 'things': 1072, 'were': 2664, 'them': 5840, 'come': 1891, 'then': 2081, 'of': 33340, 'do': 1291, 'these': 1177, 'land': 1597, 'israel': 2334, 'all': 5452, 'his': 8158, 'her': 1892, 'saith': 1206, 'to': 13067, 'thou': 5276, 'he': 10010, 'up': 2221, 'even': 1347, 'say': 1028, 'hath': 2161, 'you': 2378, 'by': 2522, 'out': 2638, 'a': 7892, 'an': 1651, 'the': 61655, 'one': 1887, 'at': 1501, 'so': 1618, 'therefore': 1201, 'with': 5744, 'into': 1924, 'behold': 1281, 'when': 2726, 'saying': 1413, 'was': 4309, 'we': 1801, 'said': 3837, 'us': 1324, 'day': 1597, 'on': 1942, 'are': 2829, 'as': 3385, 'man': 2455, 'sons': 1018, 'which': 4251, 'son': 2276, 'God': 3709, 'i': 8497}\n"
     ]
    }
   ],
   "source": [
    "# sorted(_counted)\n",
    "over_1000 = {}\n",
    "\n",
    "for key in _counted.keys():\n",
    "    if _counted[key] > 1000:\n",
    "        over_1000['{}'.format(key)] = _counted[key]\n",
    "        \n",
    "\n",
    "print(over_1000)"
   ]
  },
  {
   "cell_type": "code",
   "execution_count": 193,
   "metadata": {
    "collapsed": false
   },
   "outputs": [],
   "source": [
    "# sorted(_counted.values())"
   ]
  },
  {
   "cell_type": "code",
   "execution_count": 48,
   "metadata": {
    "collapsed": false
   },
   "outputs": [],
   "source": [
    "# zero_to_nine = [range(10)]\n",
    "\n",
    "# def get_word_count(dataframe_or_list):\n",
    "#     _stats = {}\n",
    "#     for line in dataframe_or_list:\n",
    "# #         words = line.splitlines()\n",
    "       \n",
    "#         words = str(line).split(sep=None, maxsplit=-1)\n",
    "#         for word in words and word not in books_old_testament and word not in books_new_testament:\n",
    "#             print(word)\n",
    "#             if word.isalpha():\n",
    "#                 try:\n",
    "#                     _stats[word] = _stats[word] + 1\n",
    "#                 except KeyError:\n",
    "#                     _stats[word] =1\n",
    "#     return _stats"
   ]
  },
  {
   "cell_type": "code",
   "execution_count": 49,
   "metadata": {
    "collapsed": false
   },
   "outputs": [
    {
     "data": {
      "text/plain": [
       "31102"
      ]
     },
     "execution_count": 49,
     "metadata": {},
     "output_type": "execute_result"
    }
   ],
   "source": [
    "# help(pd.read_fwf)\n",
    "# help(str)\n",
    "# worded = pd.read_fwf('data.txt')\n",
    "data = pd.read_fwf('data.txt', header = None)\n",
    "len(data)"
   ]
  },
  {
   "cell_type": "code",
   "execution_count": 50,
   "metadata": {
    "collapsed": false
   },
   "outputs": [
    {
     "data": {
      "text/plain": [
       "pandas.core.frame.DataFrame"
      ]
     },
     "execution_count": 50,
     "metadata": {},
     "output_type": "execute_result"
    }
   ],
   "source": [
    "type(data)"
   ]
  },
  {
   "cell_type": "code",
   "execution_count": 51,
   "metadata": {
    "collapsed": false
   },
   "outputs": [],
   "source": [
    "data.columns = [\"book\", \"verse\", \"extra\"]"
   ]
  },
  {
   "cell_type": "code",
   "execution_count": 52,
   "metadata": {
    "collapsed": false
   },
   "outputs": [
    {
     "data": {
      "text/plain": [
       "31102"
      ]
     },
     "execution_count": 52,
     "metadata": {},
     "output_type": "execute_result"
    }
   ],
   "source": [
    "len(data)"
   ]
  },
  {
   "cell_type": "code",
   "execution_count": 53,
   "metadata": {
    "collapsed": false
   },
   "outputs": [],
   "source": [
    "_data = {}\n",
    "glass = data.iterrows()"
   ]
  },
  {
   "cell_type": "code",
   "execution_count": 54,
   "metadata": {
    "collapsed": false
   },
   "outputs": [
    {
     "data": {
      "text/plain": [
       "generator"
      ]
     },
     "execution_count": 54,
     "metadata": {},
     "output_type": "execute_result"
    }
   ],
   "source": [
    "type(glass)"
   ]
  },
  {
   "cell_type": "code",
   "execution_count": 55,
   "metadata": {
    "collapsed": false
   },
   "outputs": [
    {
     "data": {
      "text/plain": [
       "<frame at 0x105e87b98>"
      ]
     },
     "execution_count": 55,
     "metadata": {},
     "output_type": "execute_result"
    }
   ],
   "source": [
    "glass.gi_frame"
   ]
  },
  {
   "cell_type": "code",
   "execution_count": 57,
   "metadata": {
    "collapsed": false
   },
   "outputs": [
    {
     "ename": "UnboundLocalError",
     "evalue": "local variable 'word' referenced before assignment",
     "output_type": "error",
     "traceback": [
      "\u001b[0;31m---------------------------------------------------------------------------\u001b[0m",
      "\u001b[0;31mUnboundLocalError\u001b[0m                         Traceback (most recent call last)",
      "\u001b[0;32m<ipython-input-57-f2e043136931>\u001b[0m in \u001b[0;36m<module>\u001b[0;34m()\u001b[0m\n\u001b[0;32m----> 1\u001b[0;31m \u001b[0mdf_counted\u001b[0m \u001b[0;34m=\u001b[0m \u001b[0mget_word_count\u001b[0m\u001b[0;34m(\u001b[0m\u001b[0mdf_text\u001b[0m\u001b[0;34m)\u001b[0m\u001b[0;34m\u001b[0m\u001b[0m\n\u001b[0m",
      "\u001b[0;32m<ipython-input-48-0622bdeac5d0>\u001b[0m in \u001b[0;36mget_word_count\u001b[0;34m(dataframe_or_list)\u001b[0m\n\u001b[1;32m      7\u001b[0m \u001b[0;34m\u001b[0m\u001b[0m\n\u001b[1;32m      8\u001b[0m         \u001b[0mwords\u001b[0m \u001b[0;34m=\u001b[0m \u001b[0mstr\u001b[0m\u001b[0;34m(\u001b[0m\u001b[0mline\u001b[0m\u001b[0;34m)\u001b[0m\u001b[0;34m.\u001b[0m\u001b[0msplit\u001b[0m\u001b[0;34m(\u001b[0m\u001b[0msep\u001b[0m\u001b[0;34m=\u001b[0m\u001b[0;32mNone\u001b[0m\u001b[0;34m,\u001b[0m \u001b[0mmaxsplit\u001b[0m\u001b[0;34m=\u001b[0m\u001b[0;34m-\u001b[0m\u001b[0;36m1\u001b[0m\u001b[0;34m)\u001b[0m\u001b[0;34m\u001b[0m\u001b[0m\n\u001b[0;32m----> 9\u001b[0;31m         \u001b[0;32mfor\u001b[0m \u001b[0mword\u001b[0m \u001b[0;32min\u001b[0m \u001b[0mwords\u001b[0m \u001b[0;32mand\u001b[0m \u001b[0mword\u001b[0m \u001b[0;32mnot\u001b[0m \u001b[0;32min\u001b[0m \u001b[0mbooks_old_testament\u001b[0m \u001b[0;32mand\u001b[0m \u001b[0mword\u001b[0m \u001b[0;32mnot\u001b[0m \u001b[0;32min\u001b[0m \u001b[0mbooks_new_testament\u001b[0m\u001b[0;34m:\u001b[0m\u001b[0;34m\u001b[0m\u001b[0m\n\u001b[0m\u001b[1;32m     10\u001b[0m             \u001b[0mprint\u001b[0m\u001b[0;34m(\u001b[0m\u001b[0mword\u001b[0m\u001b[0;34m)\u001b[0m\u001b[0;34m\u001b[0m\u001b[0m\n\u001b[1;32m     11\u001b[0m             \u001b[0;32mif\u001b[0m \u001b[0mword\u001b[0m\u001b[0;34m.\u001b[0m\u001b[0misalpha\u001b[0m\u001b[0;34m(\u001b[0m\u001b[0;34m)\u001b[0m\u001b[0;34m:\u001b[0m\u001b[0;34m\u001b[0m\u001b[0m\n",
      "\u001b[0;31mUnboundLocalError\u001b[0m: local variable 'word' referenced before assignment"
     ]
    }
   ],
   "source": [
    "# df_counted = get_word_count(df_text)\n"
   ]
  },
  {
   "cell_type": "code",
   "execution_count": 89,
   "metadata": {
    "collapsed": false
   },
   "outputs": [],
   "source": [
    "# df_counted"
   ]
  },
  {
   "cell_type": "code",
   "execution_count": 56,
   "metadata": {
    "collapsed": false
   },
   "outputs": [],
   "source": [
    "df = df_text.copy()"
   ]
  },
  {
   "cell_type": "code",
   "execution_count": 57,
   "metadata": {
    "collapsed": false
   },
   "outputs": [
    {
     "data": {
      "text/plain": [
       "(31101, 3)"
      ]
     },
     "execution_count": 57,
     "metadata": {},
     "output_type": "execute_result"
    }
   ],
   "source": [
    "df.shape\n",
    "    "
   ]
  },
  {
   "cell_type": "code",
   "execution_count": 43,
   "metadata": {
    "collapsed": false
   },
   "outputs": [],
   "source": [
    "# !pip install --upgrade seaborn"
   ]
  },
  {
   "cell_type": "code",
   "execution_count": 44,
   "metadata": {
    "collapsed": false
   },
   "outputs": [
    {
     "data": {
      "text/plain": [
       "Index(['Genesis',\n",
       "       '1:1\\tIn the beginning God created the heaven and the earth.',\n",
       "       'Unnamed: 2'],\n",
       "      dtype='object')"
      ]
     },
     "execution_count": 44,
     "metadata": {},
     "output_type": "execute_result"
    }
   ],
   "source": [
    "df_text.columns"
   ]
  },
  {
   "cell_type": "code",
   "execution_count": 25,
   "metadata": {
    "collapsed": false
   },
   "outputs": [],
   "source": [
    "# print(open('data.txt').readlines())"
   ]
  },
  {
   "cell_type": "code",
   "execution_count": null,
   "metadata": {
    "collapsed": true
   },
   "outputs": [],
   "source": []
  },
  {
   "cell_type": "code",
   "execution_count": null,
   "metadata": {
    "collapsed": true
   },
   "outputs": [],
   "source": []
  }
 ],
 "metadata": {
  "kernelspec": {
   "display_name": "Python 3",
   "language": "python",
   "name": "python3"
  },
  "language_info": {
   "codemirror_mode": {
    "name": "ipython",
    "version": 3
   },
   "file_extension": ".py",
   "mimetype": "text/x-python",
   "name": "python",
   "nbconvert_exporter": "python",
   "pygments_lexer": "ipython3",
   "version": "3.4.2"
  }
 },
 "nbformat": 4,
 "nbformat_minor": 0
}
